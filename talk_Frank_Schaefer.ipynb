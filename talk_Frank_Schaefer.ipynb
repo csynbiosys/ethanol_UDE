{
 "cells": [
  {
   "cell_type": "markdown",
   "id": "0c66a950",
   "metadata": {
    "slideshow": {
     "slide_type": "slide"
    }
   },
   "source": [
    "# Integrating Machine Learning into Differential Equations for Automated Discovery of Missing Physics and Optimal Control\n",
    "\n",
    "**Frank Schäfer** \\\n",
    "**Julia Lab** \\\n",
    "**Computer Science and Artifical Intelligence Laboratory** \\\n",
    "**MIT**\n",
    "\n"
   ]
  },
  {
   "cell_type": "markdown",
   "id": "7b24a8ad",
   "metadata": {
    "slideshow": {
     "slide_type": "slide"
    }
   },
   "source": [
    "## Collaborators\n",
    "\n",
    "### SciML team\n",
    "- https://github.com/orgs/SciML/people \n",
    "- Chris Rackauckas\n",
    "- Yingbo Ma\n",
    "- Julius Martensen\n",
    "\n",
    "###  [Julia Lab](https://julia.mit.edu/) and other collaborators\n",
    "- Julian Arnold, Gaurav Arya, Christoph Bruder, Vaibhav Dixit, Alan Edelman, Flemming Holtorf, Niels Lörch, Avik Pal, Moritz Schauer ...\n"
   ]
  },
  {
   "cell_type": "markdown",
   "id": "1389b59d",
   "metadata": {
    "slideshow": {
     "slide_type": "slide"
    }
   },
   "source": [
    "## What to expect in this presentation\n",
    "\n",
    "### Explore techniques in *scientific machine learning*, including\n",
    "- Universal differential equations (UDEs)\n",
    "- Automatic differentiation (AD)\n",
    "- Sparse identification of nonlinear dynamics (SINDy)\n",
    "\n",
    "### Large set of involved *packages*:\n",
    "- SciML tools (DifferentialEquations.jl, SciMLSensitivity.jl, DataDrivenDiffEq.jl, …)\n",
    "- Machine learning tools (Flux.jl, Lux.jl, …)\n",
    "- Differentiation tools (FiniteDiff.jl, ForwardDiff.jl, Enzyme,jl, Zygote.jl, ReverseDiff.jl, SparseDiffTools.jl, AbstractDifferentiation.jl, …)\n",
    "- Optimization tools (JuMP, Optim.jl, Optimisers.jl, NLopt.jl, …)"
   ]
  },
  {
   "cell_type": "code",
   "execution_count": null,
   "id": "f72c6756",
   "metadata": {
    "slideshow": {
     "slide_type": "slide"
    }
   },
   "outputs": [],
   "source": [
    "using Pkg\n",
    "pkg\"activate @DigiWell\"\n",
    "# pkg\"add DifferentialEquations, DataDrivenDiffEq, DataDrivenSparse, SciMLSensitivity\" \n",
    "# pkg\"add Optimization, OptimizationOptimisers, OptimizationOptimJL, LinearAlgebra, Statistics\"\n",
    "# pkg\"add ComponentArrays, Lux, Zygote, FiniteDiff, ForwardDiff, Plots, StableRNGs, QuadGK, LaTeXStrings, StochasticAD, Distributions\"  "
   ]
  },
  {
   "cell_type": "code",
   "execution_count": 1,
   "id": "bf6bcbe2",
   "metadata": {},
   "outputs": [
    {
     "data": {
      "text/plain": [
       "StableRNGs.LehmerRNG(state=0x00000000000000000000000221cc131d)"
      ]
     },
     "execution_count": 1,
     "metadata": {},
     "output_type": "execute_result"
    }
   ],
   "source": [
    "# SciML Tools\n",
    "using DifferentialEquations, DataDrivenDiffEq, SciMLSensitivity, DataDrivenSparse\n",
    "using Optimization, OptimizationOptimisers, OptimizationOptimJL \n",
    "\n",
    "# Standard Libraries\n",
    "using LinearAlgebra, Statistics\n",
    "\n",
    "# External Libraries\n",
    "using ComponentArrays, Lux, Zygote, FiniteDiff, ForwardDiff, Plots, LaTeXStrings, StableRNGs, QuadGK, StochasticAD, Distributions\n",
    "\n",
    "# Set a random seed for reproducible behaviour\n",
    "rng = StableRNG(4578478478) "
   ]
  },
  {
   "cell_type": "markdown",
   "id": "a69db5c7",
   "metadata": {
    "slideshow": {
     "slide_type": "slide"
    }
   },
   "source": [
    "## Resources:\n",
    "- Tutorial on [Automated Discovery of Missing Physics by Embedding Machine Learning into Differential Equations](https://docs.sciml.ai/Overview/stable/showcase/missing_physics/#autocomplete)\n",
    "- [SciMLSensitivity documentation](https://docs.sciml.ai/SciMLSensitivity/stable/)\n",
    "- Chris' JuliaCon 2020 workshop on [Doing Scientific Machine Learning (SciML) With Julia](https://www.youtube.com/watch?v=QwVO0Xh2Hbg)"
   ]
  },
  {
   "cell_type": "markdown",
   "id": "ec1a56b6",
   "metadata": {
    "slideshow": {
     "slide_type": "slide"
    }
   },
   "source": [
    "## Predator-prey model\n",
    "\n",
    "$$\n",
    "\\begin{align*}\n",
    "\\frac{d\\text{🐇}}{dt} &= \\alpha \\text{🐇} - \\beta \\text{🐇} \\text{🐺} \\\\\n",
    "\\frac{d\\text{🐺}}{dt} &= -\\delta \\text{🐺} + \\gamma \\text{🐇} \\text{🐺}\n",
    "\\end{align*}\n",
    "$$\n",
    "\n",
    "where\n",
    "- 🐇 represents the population of prey.\n",
    "- 🐺 represents the population of predators.\n",
    "- α, β, γ, and δ are parameters governing the interactions between the prey and predator populations.\n",
    "\n",
    "... with possible modifications, such as\n",
    "\n",
    "- stochasticity \n",
    "- events\n",
    "- delays"
   ]
  },
  {
   "cell_type": "markdown",
   "id": "649a9d6a",
   "metadata": {
    "slideshow": {
     "slide_type": "subslide"
    }
   },
   "source": [
    "## Goals\n",
    "\n",
    "Demonstrate\n",
    "\n",
    "- Parameter inference\n",
    "- Model selection & discovery\n",
    "- Stochastic optimal control\n",
    "\n",
    "for variations of the predator-prey model."
   ]
  },
  {
   "cell_type": "markdown",
   "id": "583f8caa",
   "metadata": {
    "slideshow": {
     "slide_type": "slide"
    }
   },
   "source": [
    "## Problem setup"
   ]
  },
  {
   "cell_type": "code",
   "execution_count": 2,
   "id": "3c85d169",
   "metadata": {
    "slideshow": {
     "slide_type": "-"
    }
   },
   "outputs": [
    {
     "data": {
      "text/plain": [
       "lotka (generic function with 1 method)"
      ]
     },
     "execution_count": 2,
     "metadata": {},
     "output_type": "execute_result"
    }
   ],
   "source": [
    "function lotka(u, p, t)\n",
    "    # right-hand-side of Lotka-Volterra system\n",
    "    # inputs:\n",
    "    #       - u : current state u[1] = population of prey,\n",
    "    #                           u[2] = population of predator\n",
    "    #       - p : parameters\n",
    "    # returns:\n",
    "    #       - du/dt : rate of change of population sizes\n",
    "\n",
    "    🐇, 🐺 = u\n",
    "    α, β, γ, δ = p\n",
    "    d🐇 = α * 🐇 - β * 🐇 * 🐺\n",
    "    d🐺 = - δ * 🐺 + γ * 🐇 * 🐺\n",
    "    return [d🐇, d🐺]\n",
    "end"
   ]
  },
  {
   "cell_type": "code",
   "execution_count": 3,
   "id": "b72b95f7",
   "metadata": {
    "slideshow": {
     "slide_type": "subslide"
    }
   },
   "outputs": [
    {
     "data": {
      "text/plain": [
       "\u001b[38;2;86;182;194mODEProblem\u001b[0m with uType \u001b[38;2;86;182;194mVector{Float64}\u001b[0m and tType \u001b[38;2;86;182;194mFloat64\u001b[0m. In-place: \u001b[38;2;86;182;194mfalse\u001b[0m\n",
       "timespan: (0.0, 5.0)\n",
       "u0: 2-element Vector{Float64}:\n",
       " 3.0\n",
       " 1.5"
      ]
     },
     "execution_count": 3,
     "metadata": {},
     "output_type": "execute_result"
    }
   ],
   "source": [
    "# Define the experimental parameters\n",
    "\n",
    "tspan = (0.0, 5.0) # time span\n",
    "u0 = [3.0, 1.5] # initial condition\n",
    "p_ = [1.3, 0.9, 0.8, 1.8] # parameters\n",
    "\n",
    "# Define ODE problem\n",
    "prob = ODEProblem(lotka, u0, tspan, p_)"
   ]
  },
  {
   "cell_type": "code",
   "execution_count": null,
   "id": "2ba1c931",
   "metadata": {},
   "outputs": [],
   "source": [
    "u0"
   ]
  },
  {
   "cell_type": "markdown",
   "id": "edfeaa05-966a-426d-90f3-91e71e837a74",
   "metadata": {
    "slideshow": {
     "slide_type": "subslide"
    }
   },
   "source": [
    "## Solving the forward problem"
   ]
  },
  {
   "cell_type": "code",
   "execution_count": 4,
   "id": "2ac693dc-1e0b-4ffd-903f-28c61dea22e7",
   "metadata": {
    "slideshow": {
     "slide_type": "-"
    },
    "tags": []
   },
   "outputs": [
    {
     "data": {
      "text/plain": [
       "retcode: Success\n",
       "Interpolation: specialized 4th order \"free\" interpolation\n",
       "t: 13-element Vector{Float64}:\n",
       " 0.0\n",
       " 0.11096172453189868\n",
       " 0.31572095348055956\n",
       " 0.5708642236188479\n",
       " 0.9324752097601212\n",
       " 1.260002055773548\n",
       " 1.6847011913649121\n",
       " 2.195246222645443\n",
       " 2.716339691552002\n",
       " 3.3198310502415405\n",
       " 3.9414120678200564\n",
       " 4.7370639636877705\n",
       " 5.0\n",
       "u: 13-element Vector{Vector{Float64}}:\n",
       " [3.0, 1.5]\n",
       " [2.9683948576135544, 1.6013718066369667]\n",
       " [2.834898830401392, 1.7840051266358061]\n",
       " [2.5659391197847987, 1.9585369366867613]\n",
       " [2.1362834113289946, 2.0149828432982555]\n",
       " [1.8366581424168973, 1.875309977159519]\n",
       " [1.6489930705879905, 1.5684283481912151]\n",
       " [1.6918482847377148, 1.2268197812266382]\n",
       " [1.977932242112537, 1.0240993492122925]\n",
       " [2.519572761097714, 1.0177983751762643]\n",
       " [2.9818511798639826, 1.3276289384063977]\n",
       " [2.5459920555053204, 1.9664986333017946]\n",
       " [2.229058121334685, 2.023880670298055]"
      ]
     },
     "execution_count": 4,
     "metadata": {},
     "output_type": "execute_result"
    }
   ],
   "source": [
    "solve(prob, Tsit5())"
   ]
  },
  {
   "cell_type": "code",
   "execution_count": 8,
   "id": "318cae0e",
   "metadata": {},
   "outputs": [
    {
     "data": {
      "text/plain": [
       "retcode: Success\n",
       "Interpolation: 1st order linear\n",
       "t: 21-element Vector{Float64}:\n",
       " 0.0\n",
       " 0.25\n",
       " 0.5\n",
       " 0.75\n",
       " 1.0\n",
       " 1.25\n",
       " 1.5\n",
       " 1.75\n",
       " 2.0\n",
       " 2.25\n",
       " 2.5\n",
       " 2.75\n",
       " 3.0\n",
       " 3.25\n",
       " 3.5\n",
       " 3.75\n",
       " 4.0\n",
       " 4.25\n",
       " 4.5\n",
       " 4.75\n",
       " 5.0\n",
       "u: 21-element Vector{Vector{Float64}}:\n",
       " [3.0, 1.5]\n",
       " [2.887627784433959, 1.727516712157343]\n",
       " [2.6482639916400594, 1.9192485034436653]\n",
       " [2.3487008248219574, 2.017701979242946]\n",
       " [2.064453590549855, 1.9987179614033797]\n",
       " [1.8438678825730723, 1.881485266549588]\n",
       " [1.703009712202518, 1.7081460131893103]\n",
       " [1.6393640730331054, 1.5195639964810663]\n",
       " [1.6447265171289325, 1.3441375367296844]\n",
       " [1.7112984069973336, 1.1976850446295708]\n",
       " [1.8328665768330736, 1.0875608539891202]\n",
       " [2.003477084998431, 1.0169539822918447]\n",
       " [2.2147111866310425, 0.9881213726689747]\n",
       " [2.4518609197060184, 1.0044581117317344]\n",
       " [2.6894368793838694, 1.0712816272976193]\n",
       " [2.8879222669546576, 1.1944014206222588]\n",
       " [2.996791914496485, 1.3744348800198753]\n",
       " [2.970940334536876, 1.5956831393088031]\n",
       " [2.799677618770784, 1.8159239813521109]\n",
       " [2.5253689332370115, 1.974312691715806]\n",
       " [2.2240941418527225, 2.0237899403768016]"
      ]
     },
     "execution_count": 8,
     "metadata": {},
     "output_type": "execute_result"
    }
   ],
   "source": [
    "solution = solve(prob, Vern7(), abstol=1e-12, reltol=1e-12, saveat=0.25)"
   ]
  },
  {
   "cell_type": "markdown",
   "id": "ea845dd0",
   "metadata": {
    "slideshow": {
     "slide_type": "subslide"
    }
   },
   "source": [
    "### Handling stochasticity, explicit and implicit events, time delays, ..."
   ]
  },
  {
   "cell_type": "code",
   "execution_count": 6,
   "id": "722fa4bd",
   "metadata": {
    "scrolled": true,
    "slideshow": {
     "slide_type": "-"
    }
   },
   "outputs": [
    {
     "data": {
      "text/plain": [
       "20-element Vector{Matrix{Float64}}:\n",
       " [3.0 1.6049813266133872 … 12.683411430915545 15.408992416981311; 1.5 1.6944734752399668 … -1.2805354632753319 -2.228493740921556]\n",
       " [3.0 1.9631721768580466 … -27.252515546797117 -34.48327390187085; 1.5 2.0217608762962573 … -1.6917601072385862 -2.624620632426852]\n",
       " [3.0 2.047759882944215 … -17.607094849187828 -22.449116047274263; 1.5 1.9584533648346525 … -1.077530913279748 -1.834658898682681]\n",
       " [3.0 1.9979162622864723 … -15.913038412451538 -20.611552196811576; 1.5 2.2760016107683465 … 6.64512359661635 7.755639479429765]\n",
       " [3.0 2.013477957096722 … -16.42883168749835 -21.18843230966846; 1.5 1.870916959713535 … 3.614719064551748 4.09830428305423]\n",
       " [3.0 1.856486634547231 … 40.63746516185134 50.32880838764139; 1.5 1.9158461834261094 … -0.44621117452943 -1.0777750046743766]\n",
       " [3.0 1.9246772505096945 … 9.24133137645558 10.88622148425997; 1.5 1.9655303985523502 … 3.8674555530917476 4.413777325267458]\n",
       " [3.0 1.9967947155192316 … 14.469793426229888 17.564818151483244; 1.5 2.0960759549173327 … 0.6591364869699249 0.44443853584312304]\n",
       " [3.0 1.8802190035457913 … 8.10364102481511 9.556292651622778; 1.5 2.0067896158328145 … 2.3667044983991543 2.440449658806582]\n",
       " [3.0 1.998013490129807 … 9.401388740493339 11.163469692086075; 1.5 2.0027000902780334 … 2.5465835395568406 2.69971072393821]\n",
       " [3.0 2.078676952228936 … -24.865119510255916 -31.59523461511031; 1.5 2.057492492739292 … 0.8979528753944622 0.5519100649679185]\n",
       " [3.0 2.023666779428729 … 11.239630312285406 13.398702981017406; 1.5 1.8935215605805964 … 4.691919260878141 5.312041557818384]\n",
       " [3.0 2.1285116377426587 … -11.860803098055813 -15.405470199869345; 1.5 1.8955794454063073 … 2.2940101268541917 2.413618053583819]\n",
       " [3.0 1.9062611763186135 … 2.467574254808838 2.539099122440203; 1.5 1.689368947659819 … 1.0826385777160377 1.0145203201862922]\n",
       " [3.0 1.811795953721892 … -16.46709915123598 -21.038523960252114; 1.5 1.9832140558654334 … -0.7456509364396667 -1.4614263447242746]\n",
       " [3.0 1.7362265331014335 … 11.6053415902009 14.005114035520899; 1.5 1.736171765511637 … 0.37861443280628715 0.05053188478791169]\n",
       " [3.0 2.0842909988966474 … 4.314160026658139 4.931128183813191; 1.5 2.063502237591729 … -0.5678299581921822 -1.1880103721632436]\n",
       " [3.0 2.0877996138011827 … 22.271088342048046 27.377727101164968; 1.5 2.163494300647358 … -0.58013127161441 -1.2055164718917837]\n",
       " [3.0 2.259912595061214 … -15.877189809314705 -20.595119724848153; 1.5 2.2118478563117607 … 9.408774236285435 11.06949550427112]\n",
       " [3.0 2.1045348086989093 … 5.0854996782776025 5.797567282661214; 1.5 2.1825434782080317 … 1.9963537107801546 1.9849987970500675]"
      ]
     },
     "execution_count": 6,
     "metadata": {},
     "output_type": "execute_result"
    }
   ],
   "source": [
    "# Stochasticity\n",
    "lotka_noise(u, p, t) = [p[5] * u[1], p[6] * u[2]]\n",
    "prob_SDE = SDEProblem(lotka, lotka_noise, u0, tspan, [p_..., 0.1, 0.0])\n",
    "solution_SDE = [Array(solve(prob_SDE, SOSRI())(0.0:1.0:10.0)) for i in 1:20] # 20 solution samples"
   ]
  },
  {
   "cell_type": "code",
   "execution_count": 7,
   "id": "128a3d1e",
   "metadata": {},
   "outputs": [
    {
     "data": {
      "image/png": "[encoded data removed]",
      "image/svg+xml": [
       "<?xml version=\"1.0\" encoding=\"utf-8\"?>\n",
       "<svg xmlns=\"http://www.w3.org/2000/svg\" xmlns:xlink=\"http://www.w3.org/1999/xlink\" width=\"600\" height=\"400\" viewBox=\"0 0 2400 1600\">\n",
       "<defs>\n",
       "  <clipPath id=\"clip890\">\n",
       "    <rect x=\"0\" y=\"0\" width=\"2400\" height=\"1600\"/>\n",
       "  </clipPath>\n",
       "</defs>\n",
       "<path clip-path=\"url(#clip890)\" d=\"M0 1600 L2400 1600 L2400 0 L0 0  Z\" fill=\"#ffffff\" fill-rule=\"evenodd\" fill-opacity=\"1\"/>\n",
       "<defs>\n",
       "  <clipPath id=\"clip891\">\n",
       "    <rect x=\"480\" y=\"0\" width=\"1681\" height=\"1600\"/>\n",
       "  </clipPath>\n",
       "</defs>\n",
       "<path clip-path=\"url(#clip890)\" d=\"M219.033 1423.18 L2352.76 1423.18 L2352.76 47.2441 L219.033 47.2441  Z\" fill=\"#ffffff\" fill-rule=\"evenodd\" fill-opacity=\"1\"/>\n",
       "<defs>\n",
       "  <clipPath id=\"clip892\">\n",
       "    <rect x=\"219\" y=\"47\" width=\"2135\" height=\"1377\"/>\n",
       "  </clipPath>\n",
       "</defs>\n",
       "<polyline clip-path=\"url(#clip892)\" style=\"stroke:#000000; stroke-linecap:round; stroke-linejoin:round; stroke-width:2; stroke-opacity:0.1; fill:none\" points=\"219.033,1423.18 219.033,47.2441 \"/>\n",
       "<polyline clip-path=\"url(#clip892)\" style=\"stroke:#000000; stroke-linecap:round; stroke-linejoin:round; stroke-width:2; stroke-opacity:0.1; fill:none\" points=\"645.778,1423.18 645.778,47.2441 \"/>\n",
       "<polyline clip-path=\"url(#clip892)\" style=\"stroke:#000000; stroke-linecap:round; stroke-linejoin:round; stroke-width:2; stroke-opacity:0.1; fill:none\" points=\"1072.52,1423.18 1072.52,47.2441 \"/>\n",
       "<polyline clip-path=\"url(#clip892)\" style=\"stroke:#000000; stroke-linecap:round; stroke-linejoin:round; stroke-width:2; stroke-opacity:0.1; fill:none\" points=\"1499.27,1423.18 1499.27,47.2441 \"/>\n",
       "<polyline clip-path=\"url(#clip892)\" style=\"stroke:#000000; stroke-linecap:round; stroke-linejoin:round; stroke-width:2; stroke-opacity:0.1; fill:none\" points=\"1926.01,1423.18 1926.01,47.2441 \"/>\n",
       "<polyline clip-path=\"url(#clip892)\" style=\"stroke:#000000; stroke-linecap:round; stroke-linejoin:round; stroke-width:2; stroke-opacity:0.1; fill:none\" points=\"2352.76,1423.18 2352.76,47.2441 \"/>\n",
       "<polyline clip-path=\"url(#clip890)\" style=\"stroke:#000000; stroke-linecap:round; stroke-linejoin:round; stroke-width:4; stroke-opacity:1; fill:none\" points=\"219.033,1423.18 2352.76,1423.18 \"/>\n",
       "<polyline clip-path=\"url(#clip890)\" style=\"stroke:#000000; stroke-linecap:round; stroke-linejoin:round; stroke-width:4; stroke-opacity:1; fill:none\" points=\"219.033,1423.18 219.033,1404.28 \"/>\n",
       "<polyline clip-path=\"url(#clip890)\" style=\"stroke:#000000; stroke-linecap:round; stroke-linejoin:round; stroke-width:4; stroke-opacity:1; fill:none\" points=\"645.778,1423.18 645.778,1404.28 \"/>\n",
       "<polyline clip-path=\"url(#clip890)\" style=\"stroke:#000000; stroke-linecap:round; stroke-linejoin:round; stroke-width:4; stroke-opacity:1; fill:none\" points=\"1072.52,1423.18 1072.52,1404.28 \"/>\n",
       "<polyline clip-path=\"url(#clip890)\" style=\"stroke:#000000; stroke-linecap:round; stroke-linejoin:round; stroke-width:4; stroke-opacity:1; fill:none\" points=\"1499.27,1423.18 1499.27,1404.28 \"/>\n",
       "<polyline clip-path=\"url(#clip890)\" style=\"stroke:#000000; stroke-linecap:round; stroke-linejoin:round; stroke-width:4; stroke-opacity:1; fill:none\" points=\"1926.01,1423.18 1926.01,1404.28 \"/>\n",
       "<polyline clip-path=\"url(#clip890)\" style=\"stroke:#000000; stroke-linecap:round; stroke-linejoin:round; stroke-width:4; stroke-opacity:1; fill:none\" points=\"2352.76,1423.18 2352.76,1404.28 \"/>\n",
       "<path clip-path=\"url(#clip890)\" d=\"M219.033 1454.1 Q215.422 1454.1 213.593 1457.66 Q211.788 1461.2 211.788 1468.33 Q211.788 1475.44 213.593 1479.01 Q215.422 1482.55 219.033 1482.55 Q222.667 1482.55 224.473 1479.01 Q226.301 1475.44 226.301 1468.33 Q226.301 1461.2 224.473 1457.66 Q222.667 1454.1 219.033 1454.1 M219.033 1450.39 Q224.843 1450.39 227.899 1455 Q230.977 1459.58 230.977 1468.33 Q230.977 1477.06 227.899 1481.67 Q224.843 1486.25 219.033 1486.25 Q213.223 1486.25 210.144 1481.67 Q207.089 1477.06 207.089 1468.33 Q207.089 1459.58 210.144 1455 Q213.223 1450.39 219.033 1450.39 Z\" fill=\"#000000\" fill-rule=\"nonzero\" fill-opacity=\"1\" /><path clip-path=\"url(#clip890)\" d=\"M636.16 1481.64 L643.798 1481.64 L643.798 1455.28 L635.488 1456.95 L635.488 1452.69 L643.752 1451.02 L648.428 1451.02 L648.428 1481.64 L656.067 1481.64 L656.067 1485.58 L636.16 1485.58 L636.16 1481.64 Z\" fill=\"#000000\" fill-rule=\"nonzero\" fill-opacity=\"1\" /><path clip-path=\"url(#clip890)\" d=\"M1067.17 1481.64 L1083.49 1481.64 L1083.49 1485.58 L1061.55 1485.58 L1061.55 1481.64 Q1064.21 1478.89 1068.8 1474.26 Q1073.4 1469.61 1074.58 1468.27 Q1076.83 1465.74 1077.71 1464.01 Q1078.61 1462.25 1078.61 1460.56 Q1078.61 1457.8 1076.67 1456.07 Q1074.74 1454.33 1071.64 1454.33 Q1069.44 1454.33 1066.99 1455.09 Q1064.56 1455.86 1061.78 1457.41 L1061.78 1452.69 Q1064.61 1451.55 1067.06 1450.97 Q1069.51 1450.39 1071.55 1450.39 Q1076.92 1450.39 1080.11 1453.08 Q1083.31 1455.77 1083.31 1460.26 Q1083.31 1462.39 1082.5 1464.31 Q1081.71 1466.2 1079.61 1468.8 Q1079.03 1469.47 1075.92 1472.69 Q1072.82 1475.88 1067.17 1481.64 Z\" fill=\"#000000\" fill-rule=\"nonzero\" fill-opacity=\"1\" /><path clip-path=\"url(#clip890)\" d=\"M1503.51 1466.95 Q1506.87 1467.66 1508.75 1469.93 Q1510.64 1472.2 1510.64 1475.53 Q1510.64 1480.65 1507.13 1483.45 Q1503.61 1486.25 1497.13 1486.25 Q1494.95 1486.25 1492.63 1485.81 Q1490.34 1485.39 1487.89 1484.54 L1487.89 1480.02 Q1489.83 1481.16 1492.15 1481.74 Q1494.46 1482.32 1496.99 1482.32 Q1501.38 1482.32 1503.68 1480.58 Q1505.99 1478.84 1505.99 1475.53 Q1505.99 1472.48 1503.84 1470.77 Q1501.71 1469.03 1497.89 1469.03 L1493.86 1469.03 L1493.86 1465.19 L1498.07 1465.19 Q1501.52 1465.19 1503.35 1463.82 Q1505.18 1462.43 1505.18 1459.84 Q1505.18 1457.18 1503.28 1455.77 Q1501.41 1454.33 1497.89 1454.33 Q1495.97 1454.33 1493.77 1454.75 Q1491.57 1455.16 1488.93 1456.04 L1488.93 1451.88 Q1491.59 1451.14 1493.91 1450.77 Q1496.25 1450.39 1498.31 1450.39 Q1503.63 1450.39 1506.73 1452.83 Q1509.83 1455.23 1509.83 1459.35 Q1509.83 1462.22 1508.19 1464.21 Q1506.55 1466.18 1503.51 1466.95 Z\" fill=\"#000000\" fill-rule=\"nonzero\" fill-opacity=\"1\" /><path clip-path=\"url(#clip890)\" d=\"M1929.02 1455.09 L1917.22 1473.54 L1929.02 1473.54 L1929.02 1455.09 M1927.79 1451.02 L1933.67 1451.02 L1933.67 1473.54 L1938.6 1473.54 L1938.6 1477.43 L1933.67 1477.43 L1933.67 1485.58 L1929.02 1485.58 L1929.02 1477.43 L1913.42 1477.43 L1913.42 1472.92 L1927.79 1451.02 Z\" fill=\"#000000\" fill-rule=\"nonzero\" fill-opacity=\"1\" /><path clip-path=\"url(#clip890)\" d=\"M2343.03 1451.02 L2361.39 1451.02 L2361.39 1454.96 L2347.32 1454.96 L2347.32 1463.43 Q2348.33 1463.08 2349.35 1462.92 Q2350.37 1462.73 2351.39 1462.73 Q2357.18 1462.73 2360.56 1465.9 Q2363.94 1469.08 2363.94 1474.49 Q2363.94 1480.07 2360.46 1483.17 Q2356.99 1486.25 2350.67 1486.25 Q2348.5 1486.25 2346.23 1485.88 Q2343.98 1485.51 2341.58 1484.77 L2341.58 1480.07 Q2343.66 1481.2 2345.88 1481.76 Q2348.1 1482.32 2350.58 1482.32 Q2354.58 1482.32 2356.92 1480.21 Q2359.26 1478.1 2359.26 1474.49 Q2359.26 1470.88 2356.92 1468.77 Q2354.58 1466.67 2350.58 1466.67 Q2348.71 1466.67 2346.83 1467.08 Q2344.98 1467.5 2343.03 1468.38 L2343.03 1451.02 Z\" fill=\"#000000\" fill-rule=\"nonzero\" fill-opacity=\"1\" /><path clip-path=\"url(#clip890)\" d=\"M1225.05 1522.27 L1225.05 1532.4 L1237.12 1532.4 L1237.12 1536.95 L1225.05 1536.95 L1225.05 1556.3 Q1225.05 1560.66 1226.23 1561.9 Q1227.44 1563.14 1231.1 1563.14 L1237.12 1563.14 L1237.12 1568.04 L1231.1 1568.04 Q1224.32 1568.04 1221.74 1565.53 Q1219.17 1562.98 1219.17 1556.3 L1219.17 1536.95 L1214.87 1536.95 L1214.87 1532.4 L1219.17 1532.4 L1219.17 1522.27 L1225.05 1522.27 Z\" fill=\"#000000\" fill-rule=\"nonzero\" fill-opacity=\"1\" /><path clip-path=\"url(#clip890)\" d=\"M1244.82 1532.4 L1250.68 1532.4 L1250.68 1568.04 L1244.82 1568.04 L1244.82 1532.4 M1244.82 1518.52 L1250.68 1518.52 L1250.68 1525.93 L1244.82 1525.93 L1244.82 1518.52 Z\" fill=\"#000000\" fill-rule=\"nonzero\" fill-opacity=\"1\" /><path clip-path=\"url(#clip890)\" d=\"M1290.68 1539.24 Q1292.88 1535.29 1295.94 1533.41 Q1298.99 1531.54 1303.13 1531.54 Q1308.7 1531.54 1311.72 1535.45 Q1314.75 1539.33 1314.75 1546.53 L1314.75 1568.04 L1308.86 1568.04 L1308.86 1546.72 Q1308.86 1541.59 1307.04 1539.11 Q1305.23 1536.63 1301.51 1536.63 Q1296.95 1536.63 1294.31 1539.65 Q1291.67 1542.68 1291.67 1547.9 L1291.67 1568.04 L1285.78 1568.04 L1285.78 1546.72 Q1285.78 1541.56 1283.97 1539.11 Q1282.15 1536.63 1278.37 1536.63 Q1273.88 1536.63 1271.24 1539.68 Q1268.6 1542.71 1268.6 1547.9 L1268.6 1568.04 L1262.71 1568.04 L1262.71 1532.4 L1268.6 1532.4 L1268.6 1537.93 Q1270.6 1534.66 1273.4 1533.1 Q1276.2 1531.54 1280.05 1531.54 Q1283.94 1531.54 1286.64 1533.51 Q1289.38 1535.48 1290.68 1539.24 Z\" fill=\"#000000\" fill-rule=\"nonzero\" fill-opacity=\"1\" /><path clip-path=\"url(#clip890)\" d=\"M1356.92 1548.76 L1356.92 1551.62 L1329.99 1551.62 Q1330.37 1557.67 1333.62 1560.85 Q1336.9 1564 1342.72 1564 Q1346.1 1564 1349.25 1563.17 Q1352.43 1562.35 1355.55 1560.69 L1355.55 1566.23 Q1352.4 1567.57 1349.09 1568.27 Q1345.78 1568.97 1342.37 1568.97 Q1333.84 1568.97 1328.85 1564 Q1323.88 1559.04 1323.88 1550.57 Q1323.88 1541.82 1328.59 1536.69 Q1333.33 1531.54 1341.36 1531.54 Q1348.55 1531.54 1352.72 1536.18 Q1356.92 1540.8 1356.92 1548.76 M1351.06 1547.04 Q1351 1542.23 1348.36 1539.37 Q1345.75 1536.5 1341.42 1536.5 Q1336.52 1536.5 1333.56 1539.27 Q1330.63 1542.04 1330.18 1547.07 L1351.06 1547.04 Z\" fill=\"#000000\" fill-rule=\"nonzero\" fill-opacity=\"1\" /><polyline clip-path=\"url(#clip892)\" style=\"stroke:#000000; stroke-linecap:round; stroke-linejoin:round; stroke-width:2; stroke-opacity:0.1; fill:none\" points=\"219.033,1144.85 2352.76,1144.85 \"/>\n",
       "<polyline clip-path=\"url(#clip892)\" style=\"stroke:#000000; stroke-linecap:round; stroke-linejoin:round; stroke-width:2; stroke-opacity:0.1; fill:none\" points=\"219.033,791.964 2352.76,791.964 \"/>\n",
       "<polyline clip-path=\"url(#clip892)\" style=\"stroke:#000000; stroke-linecap:round; stroke-linejoin:round; stroke-width:2; stroke-opacity:0.1; fill:none\" points=\"219.033,439.075 2352.76,439.075 \"/>\n",
       "<polyline clip-path=\"url(#clip892)\" style=\"stroke:#000000; stroke-linecap:round; stroke-linejoin:round; stroke-width:2; stroke-opacity:0.1; fill:none\" points=\"219.033,86.1857 2352.76,86.1857 \"/>\n",
       "<polyline clip-path=\"url(#clip890)\" style=\"stroke:#000000; stroke-linecap:round; stroke-linejoin:round; stroke-width:4; stroke-opacity:1; fill:none\" points=\"219.033,1423.18 219.033,47.2441 \"/>\n",
       "<polyline clip-path=\"url(#clip890)\" style=\"stroke:#000000; stroke-linecap:round; stroke-linejoin:round; stroke-width:4; stroke-opacity:1; fill:none\" points=\"219.033,1144.85 237.931,1144.85 \"/>\n",
       "<polyline clip-path=\"url(#clip890)\" style=\"stroke:#000000; stroke-linecap:round; stroke-linejoin:round; stroke-width:4; stroke-opacity:1; fill:none\" points=\"219.033,791.964 237.931,791.964 \"/>\n",
       "<polyline clip-path=\"url(#clip890)\" style=\"stroke:#000000; stroke-linecap:round; stroke-linejoin:round; stroke-width:4; stroke-opacity:1; fill:none\" points=\"219.033,439.075 237.931,439.075 \"/>\n",
       "<polyline clip-path=\"url(#clip890)\" style=\"stroke:#000000; stroke-linecap:round; stroke-linejoin:round; stroke-width:4; stroke-opacity:1; fill:none\" points=\"219.033,86.1857 237.931,86.1857 \"/>\n",
       "<path clip-path=\"url(#clip890)\" d=\"M117.663 1158.2 L125.302 1158.2 L125.302 1131.83 L116.992 1133.5 L116.992 1129.24 L125.255 1127.57 L129.931 1127.57 L129.931 1158.2 L137.57 1158.2 L137.57 1162.13 L117.663 1162.13 L117.663 1158.2 Z\" fill=\"#000000\" fill-rule=\"nonzero\" fill-opacity=\"1\" /><path clip-path=\"url(#clip890)\" d=\"M147.015 1156.25 L151.899 1156.25 L151.899 1162.13 L147.015 1162.13 L147.015 1156.25 Z\" fill=\"#000000\" fill-rule=\"nonzero\" fill-opacity=\"1\" /><path clip-path=\"url(#clip890)\" d=\"M162.13 1127.57 L180.487 1127.57 L180.487 1131.51 L166.413 1131.51 L166.413 1139.98 Q167.431 1139.63 168.45 1139.47 Q169.468 1139.29 170.487 1139.29 Q176.274 1139.29 179.653 1142.46 Q183.033 1145.63 183.033 1151.04 Q183.033 1156.62 179.561 1159.73 Q176.089 1162.8 169.769 1162.8 Q167.593 1162.8 165.325 1162.43 Q163.079 1162.06 160.672 1161.32 L160.672 1156.62 Q162.755 1157.76 164.977 1158.31 Q167.2 1158.87 169.677 1158.87 Q173.681 1158.87 176.019 1156.76 Q178.357 1154.66 178.357 1151.04 Q178.357 1147.43 176.019 1145.33 Q173.681 1143.22 169.677 1143.22 Q167.802 1143.22 165.927 1143.64 Q164.075 1144.05 162.13 1144.93 L162.13 1127.57 Z\" fill=\"#000000\" fill-rule=\"nonzero\" fill-opacity=\"1\" /><path clip-path=\"url(#clip890)\" d=\"M119.885 805.308 L136.204 805.308 L136.204 809.244 L114.26 809.244 L114.26 805.308 Q116.922 802.554 121.505 797.924 Q126.112 793.271 127.292 791.929 Q129.538 789.406 130.417 787.67 Q131.32 785.91 131.32 784.22 Q131.32 781.466 129.376 779.73 Q127.455 777.994 124.353 777.994 Q122.154 777.994 119.7 778.758 Q117.269 779.521 114.492 781.072 L114.492 776.35 Q117.316 775.216 119.769 774.637 Q122.223 774.059 124.26 774.059 Q129.63 774.059 132.825 776.744 Q136.019 779.429 136.019 783.92 Q136.019 786.049 135.209 787.97 Q134.422 789.869 132.316 792.461 Q131.737 793.132 128.635 796.35 Q125.533 799.544 119.885 805.308 Z\" fill=\"#000000\" fill-rule=\"nonzero\" fill-opacity=\"1\" /><path clip-path=\"url(#clip890)\" d=\"M146.019 803.364 L150.903 803.364 L150.903 809.244 L146.019 809.244 L146.019 803.364 Z\" fill=\"#000000\" fill-rule=\"nonzero\" fill-opacity=\"1\" /><path clip-path=\"url(#clip890)\" d=\"M171.089 777.762 Q167.477 777.762 165.649 781.327 Q163.843 784.869 163.843 791.998 Q163.843 799.105 165.649 802.669 Q167.477 806.211 171.089 806.211 Q174.723 806.211 176.528 802.669 Q178.357 799.105 178.357 791.998 Q178.357 784.869 176.528 781.327 Q174.723 777.762 171.089 777.762 M171.089 774.059 Q176.899 774.059 179.954 778.665 Q183.033 783.248 183.033 791.998 Q183.033 800.725 179.954 805.331 Q176.899 809.915 171.089 809.915 Q165.278 809.915 162.2 805.331 Q159.144 800.725 159.144 791.998 Q159.144 783.248 162.2 778.665 Q165.278 774.059 171.089 774.059 Z\" fill=\"#000000\" fill-rule=\"nonzero\" fill-opacity=\"1\" /><path clip-path=\"url(#clip890)\" d=\"M120.88 452.419 L137.2 452.419 L137.2 456.355 L115.256 456.355 L115.256 452.419 Q117.918 449.665 122.501 445.035 Q127.107 440.382 128.288 439.04 Q130.533 436.517 131.413 434.781 Q132.316 433.021 132.316 431.332 Q132.316 428.577 130.371 426.841 Q128.45 425.105 125.348 425.105 Q123.149 425.105 120.695 425.869 Q118.265 426.633 115.487 428.183 L115.487 423.461 Q118.311 422.327 120.765 421.748 Q123.218 421.17 125.255 421.17 Q130.626 421.17 133.82 423.855 Q137.015 426.54 137.015 431.031 Q137.015 433.16 136.204 435.082 Q135.417 436.98 133.311 439.572 Q132.732 440.244 129.63 443.461 Q126.529 446.656 120.88 452.419 Z\" fill=\"#000000\" fill-rule=\"nonzero\" fill-opacity=\"1\" /><path clip-path=\"url(#clip890)\" d=\"M147.015 450.475 L151.899 450.475 L151.899 456.355 L147.015 456.355 L147.015 450.475 Z\" fill=\"#000000\" fill-rule=\"nonzero\" fill-opacity=\"1\" /><path clip-path=\"url(#clip890)\" d=\"M162.13 421.795 L180.487 421.795 L180.487 425.73 L166.413 425.73 L166.413 434.202 Q167.431 433.855 168.45 433.693 Q169.468 433.507 170.487 433.507 Q176.274 433.507 179.653 436.679 Q183.033 439.85 183.033 445.267 Q183.033 450.845 179.561 453.947 Q176.089 457.026 169.769 457.026 Q167.593 457.026 165.325 456.656 Q163.079 456.285 160.672 455.544 L160.672 450.845 Q162.755 451.98 164.977 452.535 Q167.2 453.091 169.677 453.091 Q173.681 453.091 176.019 450.984 Q178.357 448.878 178.357 445.267 Q178.357 441.656 176.019 439.549 Q173.681 437.443 169.677 437.443 Q167.802 437.443 165.927 437.859 Q164.075 438.276 162.13 439.156 L162.13 421.795 Z\" fill=\"#000000\" fill-rule=\"nonzero\" fill-opacity=\"1\" /><path clip-path=\"url(#clip890)\" d=\"M130.024 84.8315 Q133.38 85.5491 135.255 87.8176 Q137.154 90.0861 137.154 93.4194 Q137.154 98.5351 133.635 101.336 Q130.117 104.137 123.635 104.137 Q121.459 104.137 119.144 103.697 Q116.853 103.28 114.399 102.424 L114.399 97.9101 Q116.343 99.0444 118.658 99.6231 Q120.973 100.202 123.496 100.202 Q127.894 100.202 130.186 98.4657 Q132.501 96.7296 132.501 93.4194 Q132.501 90.3639 130.348 88.6509 Q128.218 86.9148 124.399 86.9148 L120.371 86.9148 L120.371 83.0723 L124.584 83.0723 Q128.033 83.0723 129.862 81.7065 Q131.691 80.3176 131.691 77.7251 Q131.691 75.063 129.792 73.651 Q127.917 72.2158 124.399 72.2158 Q122.478 72.2158 120.279 72.6325 Q118.08 73.0492 115.441 73.9288 L115.441 69.7621 Q118.103 69.0214 120.418 68.651 Q122.755 68.2807 124.816 68.2807 Q130.14 68.2807 133.242 70.7112 Q136.343 73.1186 136.343 77.239 Q136.343 80.1093 134.7 82.1 Q133.056 84.0676 130.024 84.8315 Z\" fill=\"#000000\" fill-rule=\"nonzero\" fill-opacity=\"1\" /><path clip-path=\"url(#clip890)\" d=\"M146.019 97.5861 L150.903 97.5861 L150.903 103.466 L146.019 103.466 L146.019 97.5861 Z\" fill=\"#000000\" fill-rule=\"nonzero\" fill-opacity=\"1\" /><path clip-path=\"url(#clip890)\" d=\"M171.089 71.9844 Q167.477 71.9844 165.649 75.5492 Q163.843 79.0908 163.843 86.2204 Q163.843 93.3268 165.649 96.8916 Q167.477 100.433 171.089 100.433 Q174.723 100.433 176.528 96.8916 Q178.357 93.3268 178.357 86.2204 Q178.357 79.0908 176.528 75.5492 Q174.723 71.9844 171.089 71.9844 M171.089 68.2807 Q176.899 68.2807 179.954 72.8871 Q183.033 77.4704 183.033 86.2204 Q183.033 94.9472 179.954 99.5537 Q176.899 104.137 171.089 104.137 Q165.278 104.137 162.2 99.5537 Q159.144 94.9472 159.144 86.2204 Q159.144 77.4704 162.2 72.8871 Q165.278 68.2807 171.089 68.2807 Z\" fill=\"#000000\" fill-rule=\"nonzero\" fill-opacity=\"1\" /><path clip-path=\"url(#clip890)\" d=\"M58.657 971.618 L77.5631 971.618 L77.5631 977.507 L28.3562 977.507 L28.3562 971.618 L33.7671 971.618 Q30.5842 969.772 29.0564 966.971 Q27.4968 964.139 27.4968 960.224 Q27.4968 953.731 32.6531 949.689 Q37.8093 945.614 46.212 945.614 Q54.6147 945.614 59.771 949.689 Q64.9272 953.731 64.9272 960.224 Q64.9272 964.139 63.3994 966.971 Q61.8398 969.772 58.657 971.618 M46.212 951.694 Q39.7508 951.694 36.0905 954.367 Q32.3984 957.009 32.3984 961.656 Q32.3984 966.303 36.0905 968.977 Q39.7508 971.618 46.212 971.618 Q52.6732 971.618 56.3653 968.977 Q60.0256 966.303 60.0256 961.656 Q60.0256 957.009 56.3653 954.367 Q52.6732 951.694 46.212 951.694 Z\" fill=\"#000000\" fill-rule=\"nonzero\" fill-opacity=\"1\" /><path clip-path=\"url(#clip890)\" d=\"M32.4621 922.093 Q32.4621 926.804 36.1542 929.541 Q39.8145 932.278 46.212 932.278 Q52.6095 932.278 56.3017 929.573 Q59.9619 926.836 59.9619 922.093 Q59.9619 917.414 56.2698 914.677 Q52.5777 911.94 46.212 911.94 Q39.8781 911.94 36.186 914.677 Q32.4621 917.414 32.4621 922.093 M27.4968 922.093 Q27.4968 914.454 32.4621 910.094 Q37.4273 905.733 46.212 905.733 Q54.9649 905.733 59.9619 910.094 Q64.9272 914.454 64.9272 922.093 Q64.9272 929.764 59.9619 934.124 Q54.9649 938.453 46.212 938.453 Q37.4273 938.453 32.4621 934.124 Q27.4968 929.764 27.4968 922.093 Z\" fill=\"#000000\" fill-rule=\"nonzero\" fill-opacity=\"1\" /><path clip-path=\"url(#clip890)\" d=\"M58.657 890.36 L77.5631 890.36 L77.5631 896.248 L28.3562 896.248 L28.3562 890.36 L33.7671 890.36 Q30.5842 888.514 29.0564 885.713 Q27.4968 882.88 27.4968 878.966 Q27.4968 872.473 32.6531 868.43 Q37.8093 864.356 46.212 864.356 Q54.6147 864.356 59.771 868.43 Q64.9272 872.473 64.9272 878.966 Q64.9272 882.88 63.3994 885.713 Q61.8398 888.514 58.657 890.36 M46.212 870.435 Q39.7508 870.435 36.0905 873.109 Q32.3984 875.751 32.3984 880.398 Q32.3984 885.045 36.0905 887.718 Q39.7508 890.36 46.212 890.36 Q52.6732 890.36 56.3653 887.718 Q60.0256 885.045 60.0256 880.398 Q60.0256 875.751 56.3653 873.109 Q52.6732 870.435 46.212 870.435 Z\" fill=\"#000000\" fill-rule=\"nonzero\" fill-opacity=\"1\" /><path clip-path=\"url(#clip890)\" d=\"M49.9359 855.253 L28.3562 855.253 L28.3562 849.397 L49.7131 849.397 Q54.7739 849.397 57.3202 847.423 Q59.8346 845.45 59.8346 841.503 Q59.8346 836.761 56.8109 834.024 Q53.7872 831.255 48.5673 831.255 L28.3562 831.255 L28.3562 825.398 L64.0042 825.398 L64.0042 831.255 L58.5296 831.255 Q61.7762 833.387 63.3676 836.22 Q64.9272 839.021 64.9272 842.745 Q64.9272 848.888 61.1078 852.07 Q57.2883 855.253 49.9359 855.253 M27.4968 840.517 L27.4968 840.517 Z\" fill=\"#000000\" fill-rule=\"nonzero\" fill-opacity=\"1\" /><path clip-path=\"url(#clip890)\" d=\"M14.479 813.335 L14.479 807.479 L64.0042 807.479 L64.0042 813.335 L14.479 813.335 Z\" fill=\"#000000\" fill-rule=\"nonzero\" fill-opacity=\"1\" /><path clip-path=\"url(#clip890)\" d=\"M46.0847 779.024 Q46.0847 786.122 47.7079 788.859 Q49.3312 791.596 53.2461 791.596 Q56.3653 791.596 58.2114 789.559 Q60.0256 787.49 60.0256 783.957 Q60.0256 779.088 56.5881 776.159 Q53.1188 773.199 47.3897 773.199 L46.0847 773.199 L46.0847 779.024 M43.6657 767.343 L64.0042 767.343 L64.0042 773.199 L58.5933 773.199 Q61.8398 775.205 63.3994 778.196 Q64.9272 781.188 64.9272 785.517 Q64.9272 790.991 61.8716 794.238 Q58.7843 797.453 53.6281 797.453 Q47.6125 797.453 44.5569 793.442 Q41.5014 789.4 41.5014 781.411 L41.5014 773.199 L40.9285 773.199 Q36.8862 773.199 34.6901 775.873 Q32.4621 778.515 32.4621 783.321 Q32.4621 786.376 33.1941 789.273 Q33.9262 792.169 35.3903 794.843 L29.9795 794.843 Q28.7381 791.628 28.1334 788.604 Q27.4968 785.581 27.4968 782.716 Q27.4968 774.982 31.5072 771.162 Q35.5176 767.343 43.6657 767.343 Z\" fill=\"#000000\" fill-rule=\"nonzero\" fill-opacity=\"1\" /><path clip-path=\"url(#clip890)\" d=\"M18.2347 749.487 L28.3562 749.487 L28.3562 737.424 L32.9077 737.424 L32.9077 749.487 L52.2594 749.487 Q56.6199 749.487 57.8613 748.309 Q59.1026 747.1 59.1026 743.44 L59.1026 737.424 L64.0042 737.424 L64.0042 743.44 Q64.0042 750.219 61.4897 752.797 Q58.9434 755.375 52.2594 755.375 L32.9077 755.375 L32.9077 759.672 L28.3562 759.672 L28.3562 755.375 L18.2347 755.375 L18.2347 749.487 Z\" fill=\"#000000\" fill-rule=\"nonzero\" fill-opacity=\"1\" /><path clip-path=\"url(#clip890)\" d=\"M28.3562 729.722 L28.3562 723.865 L64.0042 723.865 L64.0042 729.722 L28.3562 729.722 M14.479 729.722 L14.479 723.865 L21.895 723.865 L21.895 729.722 L14.479 729.722 Z\" fill=\"#000000\" fill-rule=\"nonzero\" fill-opacity=\"1\" /><path clip-path=\"url(#clip890)\" d=\"M32.4621 697.798 Q32.4621 702.508 36.1542 705.245 Q39.8145 707.983 46.212 707.983 Q52.6095 707.983 56.3017 705.277 Q59.9619 702.54 59.9619 697.798 Q59.9619 693.119 56.2698 690.381 Q52.5777 687.644 46.212 687.644 Q39.8781 687.644 36.186 690.381 Q32.4621 693.119 32.4621 697.798 M27.4968 697.798 Q27.4968 690.159 32.4621 685.798 Q37.4273 681.438 46.212 681.438 Q54.9649 681.438 59.9619 685.798 Q64.9272 690.159 64.9272 697.798 Q64.9272 705.468 59.9619 709.829 Q54.9649 714.157 46.212 714.157 Q37.4273 714.157 32.4621 709.829 Q27.4968 705.468 27.4968 697.798 Z\" fill=\"#000000\" fill-rule=\"nonzero\" fill-opacity=\"1\" /><path clip-path=\"url(#clip890)\" d=\"M42.4881 642.098 L64.0042 642.098 L64.0042 647.954 L42.679 647.954 Q37.6183 647.954 35.1038 649.927 Q32.5894 651.901 32.5894 655.848 Q32.5894 660.59 35.6131 663.327 Q38.6368 666.064 43.8567 666.064 L64.0042 666.064 L64.0042 671.953 L28.3562 671.953 L28.3562 666.064 L33.8944 666.064 Q30.6797 663.964 29.0883 661.131 Q27.4968 658.266 27.4968 654.543 Q27.4968 648.4 31.3163 645.249 Q35.1038 642.098 42.4881 642.098 Z\" fill=\"#000000\" fill-rule=\"nonzero\" fill-opacity=\"1\" /><path clip-path=\"url(#clip890)\" d=\"M29.4065 586.971 L34.9447 586.971 Q33.6716 589.453 33.035 592.127 Q32.3984 594.8 32.3984 597.665 Q32.3984 602.025 33.7352 604.222 Q35.072 606.386 37.7456 606.386 Q39.7826 606.386 40.9603 604.826 Q42.1061 603.267 43.1565 598.556 L43.6021 596.551 Q44.9389 590.313 47.3897 587.703 Q49.8086 585.061 54.1691 585.061 Q59.1344 585.061 62.0308 589.008 Q64.9272 592.923 64.9272 599.797 Q64.9272 602.662 64.3543 605.781 Q63.8132 608.869 62.6992 612.306 L56.6518 612.306 Q58.3387 609.06 59.198 605.909 Q60.0256 602.758 60.0256 599.67 Q60.0256 595.532 58.6251 593.304 Q57.1929 591.076 54.6147 591.076 Q52.2276 591.076 50.9545 592.7 Q49.6813 594.291 48.5037 599.734 L48.0262 601.771 Q46.8804 607.214 44.5251 609.632 Q42.138 612.051 38.0002 612.051 Q32.9713 612.051 30.2341 608.487 Q27.4968 604.922 27.4968 598.365 Q27.4968 595.119 27.9743 592.254 Q28.4517 589.39 29.4065 586.971 Z\" fill=\"#000000\" fill-rule=\"nonzero\" fill-opacity=\"1\" /><path clip-path=\"url(#clip890)\" d=\"M28.3562 575.735 L28.3562 569.879 L64.0042 569.879 L64.0042 575.735 L28.3562 575.735 M14.479 575.735 L14.479 569.879 L21.895 569.879 L21.895 575.735 L14.479 575.735 Z\" fill=\"#000000\" fill-rule=\"nonzero\" fill-opacity=\"1\" /><path clip-path=\"url(#clip890)\" d=\"M28.3562 560.171 L28.3562 532.353 L33.7034 532.353 L59.3254 554.378 L59.3254 532.353 L64.0042 532.353 L64.0042 560.967 L58.657 560.967 L33.035 538.941 L33.035 560.171 L28.3562 560.171 Z\" fill=\"#000000\" fill-rule=\"nonzero\" fill-opacity=\"1\" /><path clip-path=\"url(#clip890)\" d=\"M44.7161 492.917 L47.5806 492.917 L47.5806 519.844 Q53.6281 519.462 56.8109 516.216 Q59.9619 512.937 59.9619 507.113 Q59.9619 503.739 59.1344 500.588 Q58.3069 497.405 56.6518 494.286 L62.1899 494.286 Q63.5267 497.437 64.227 500.747 Q64.9272 504.057 64.9272 507.463 Q64.9272 515.993 59.9619 520.99 Q54.9967 525.955 46.5303 525.955 Q37.7774 525.955 32.6531 521.245 Q27.4968 516.502 27.4968 508.481 Q27.4968 501.288 32.1438 497.119 Q36.7589 492.917 44.7161 492.917 M42.9973 498.774 Q38.1912 498.837 35.3266 501.479 Q32.4621 504.089 32.4621 508.418 Q32.4621 513.319 35.2312 516.279 Q38.0002 519.208 43.0292 519.653 L42.9973 498.774 Z\" fill=\"#000000\" fill-rule=\"nonzero\" fill-opacity=\"1\" /><polyline clip-path=\"url(#clip892)\" style=\"stroke:#009af9; stroke-linecap:round; stroke-linejoin:round; stroke-width:4; stroke-opacity:1; fill:none\" points=\"219.033,86.1857 325.719,165.495 362.026,214.789 432.405,277.01 492.417,352.217 539.091,384.896 645.778,485.514 752.464,603.342 859.15,715.21 965.836,804.18 1072.52,861.497 1179.21,884.677 1285.89,874.788 1392.58,834.644 1499.27,768.214 1605.95,680.932 1712.64,580.55 1819.33,478.078 1926.01,388.151 2032.7,327.755 2139.38,312.288 2246.07,349.315 2352.76,433.259 \"/>\n",
       "<polyline clip-path=\"url(#clip892)\" style=\"stroke:#e26f46; stroke-linecap:round; stroke-linejoin:round; stroke-width:4; stroke-opacity:1; fill:none\" points=\"219.033,1144.85 325.719,984.276 362.026,933.119 362.026,1074.27 432.405,992.893 492.417,933.119 492.417,1074.27 539.091,1039.06 645.778,977.168 752.464,952.066 859.15,967.953 965.836,1018.22 1072.52,1089.9 1179.21,1169.12 1285.89,1244.46 1392.58,1307.91 1499.27,1354.36 1605.95,1380.54 1712.64,1384.24 1819.33,1363.89 1926.01,1318.91 2032.7,1251.08 2139.38,1166.64 2246.07,1078.13 2352.76,1003.17 \"/>\n",
       "<path clip-path=\"url(#clip890)\" d=\"M290.157 1377.32 L611.214 1377.32 L611.214 1221.8 L290.157 1221.8  Z\" fill=\"#ffffff\" fill-rule=\"evenodd\" fill-opacity=\"1\"/>\n",
       "<polyline clip-path=\"url(#clip890)\" style=\"stroke:#000000; stroke-linecap:round; stroke-linejoin:round; stroke-width:4; stroke-opacity:1; fill:none\" points=\"290.157,1377.32 611.214,1377.32 611.214,1221.8 290.157,1221.8 290.157,1377.32 \"/>\n",
       "<polyline clip-path=\"url(#clip890)\" style=\"stroke:#009af9; stroke-linecap:round; stroke-linejoin:round; stroke-width:4; stroke-opacity:1; fill:none\" points=\"313.865,1273.64 456.113,1273.64 \"/>\n",
       "<path clip-path=\"url(#clip890)\" d=\"M479.821 1280.68 L479.821 1264.99 L484.081 1264.99 L484.081 1280.52 Q484.081 1284.2 485.516 1286.05 Q486.951 1287.88 489.821 1287.88 Q493.27 1287.88 495.261 1285.68 Q497.275 1283.48 497.275 1279.69 L497.275 1264.99 L501.534 1264.99 L501.534 1290.92 L497.275 1290.92 L497.275 1286.93 Q495.724 1289.29 493.664 1290.45 Q491.627 1291.59 488.918 1291.59 Q484.451 1291.59 482.136 1288.81 Q479.821 1286.03 479.821 1280.68 M490.539 1264.36 L490.539 1264.36 Z\" fill=\"#000000\" fill-rule=\"nonzero\" fill-opacity=\"1\" /><path clip-path=\"url(#clip890)\" d=\"M511.719 1286.98 L519.358 1286.98 L519.358 1260.61 L511.048 1262.28 L511.048 1258.02 L519.312 1256.36 L523.988 1256.36 L523.988 1286.98 L531.627 1286.98 L531.627 1290.92 L511.719 1290.92 L511.719 1286.98 Z\" fill=\"#000000\" fill-rule=\"nonzero\" fill-opacity=\"1\" /><path clip-path=\"url(#clip890)\" d=\"M550.701 1254.94 Q547.599 1260.27 546.094 1265.48 Q544.589 1270.68 544.589 1276.03 Q544.589 1281.38 546.094 1286.63 Q547.622 1291.86 550.701 1297.17 L546.997 1297.17 Q543.525 1291.73 541.789 1286.47 Q540.076 1281.22 540.076 1276.03 Q540.076 1270.87 541.789 1265.64 Q543.502 1260.41 546.997 1254.94 L550.701 1254.94 Z\" fill=\"#000000\" fill-rule=\"nonzero\" fill-opacity=\"1\" /><path clip-path=\"url(#clip890)\" d=\"M563.177 1257.63 L563.177 1264.99 L571.95 1264.99 L571.95 1268.3 L563.177 1268.3 L563.177 1282.37 Q563.177 1285.54 564.034 1286.45 Q564.913 1287.35 567.575 1287.35 L571.95 1287.35 L571.95 1290.92 L567.575 1290.92 Q562.645 1290.92 560.77 1289.09 Q558.895 1287.23 558.895 1282.37 L558.895 1268.3 L555.77 1268.3 L555.77 1264.99 L558.895 1264.99 L558.895 1257.63 L563.177 1257.63 Z\" fill=\"#000000\" fill-rule=\"nonzero\" fill-opacity=\"1\" /><path clip-path=\"url(#clip890)\" d=\"M576.881 1254.94 L580.585 1254.94 Q584.057 1260.41 585.77 1265.64 Q587.506 1270.87 587.506 1276.03 Q587.506 1281.22 585.77 1286.47 Q584.057 1291.73 580.585 1297.17 L576.881 1297.17 Q579.96 1291.86 581.464 1286.63 Q582.992 1281.38 582.992 1276.03 Q582.992 1270.68 581.464 1265.48 Q579.96 1260.27 576.881 1254.94 Z\" fill=\"#000000\" fill-rule=\"nonzero\" fill-opacity=\"1\" /><polyline clip-path=\"url(#clip890)\" style=\"stroke:#e26f46; stroke-linecap:round; stroke-linejoin:round; stroke-width:4; stroke-opacity:1; fill:none\" points=\"313.865,1325.48 456.113,1325.48 \"/>\n",
       "<path clip-path=\"url(#clip890)\" d=\"M479.821 1332.52 L479.821 1316.83 L484.081 1316.83 L484.081 1332.36 Q484.081 1336.04 485.516 1337.89 Q486.951 1339.72 489.821 1339.72 Q493.27 1339.72 495.261 1337.52 Q497.275 1335.32 497.275 1331.53 L497.275 1316.83 L501.534 1316.83 L501.534 1342.76 L497.275 1342.76 L497.275 1338.77 Q495.724 1341.13 493.664 1342.29 Q491.627 1343.43 488.918 1343.43 Q484.451 1343.43 482.136 1340.65 Q479.821 1337.87 479.821 1332.52 M490.539 1316.2 L490.539 1316.2 Z\" fill=\"#000000\" fill-rule=\"nonzero\" fill-opacity=\"1\" /><path clip-path=\"url(#clip890)\" d=\"M514.937 1338.82 L531.256 1338.82 L531.256 1342.76 L509.312 1342.76 L509.312 1338.82 Q511.974 1336.07 516.557 1331.44 Q521.164 1326.78 522.344 1325.44 Q524.59 1322.92 525.469 1321.18 Q526.372 1319.42 526.372 1317.73 Q526.372 1314.98 524.428 1313.24 Q522.506 1311.51 519.404 1311.51 Q517.205 1311.51 514.752 1312.27 Q512.321 1313.03 509.543 1314.58 L509.543 1309.86 Q512.367 1308.73 514.821 1308.15 Q517.275 1307.57 519.312 1307.57 Q524.682 1307.57 527.877 1310.26 Q531.071 1312.94 531.071 1317.43 Q531.071 1319.56 530.261 1321.48 Q529.474 1323.38 527.367 1325.97 Q526.789 1326.64 523.687 1329.86 Q520.585 1333.06 514.937 1338.82 Z\" fill=\"#000000\" fill-rule=\"nonzero\" fill-opacity=\"1\" /><path clip-path=\"url(#clip890)\" d=\"M550.701 1306.78 Q547.599 1312.11 546.094 1317.32 Q544.589 1322.52 544.589 1327.87 Q544.589 1333.22 546.094 1338.47 Q547.622 1343.7 550.701 1349.01 L546.997 1349.01 Q543.525 1343.57 541.789 1338.31 Q540.076 1333.06 540.076 1327.87 Q540.076 1322.71 541.789 1317.48 Q543.502 1312.25 546.997 1306.78 L550.701 1306.78 Z\" fill=\"#000000\" fill-rule=\"nonzero\" fill-opacity=\"1\" /><path clip-path=\"url(#clip890)\" d=\"M563.177 1309.47 L563.177 1316.83 L571.95 1316.83 L571.95 1320.14 L563.177 1320.14 L563.177 1334.21 Q563.177 1337.38 564.034 1338.29 Q564.913 1339.19 567.575 1339.19 L571.95 1339.19 L571.95 1342.76 L567.575 1342.76 Q562.645 1342.76 560.77 1340.93 Q558.895 1339.07 558.895 1334.21 L558.895 1320.14 L555.77 1320.14 L555.77 1316.83 L558.895 1316.83 L558.895 1309.47 L563.177 1309.47 Z\" fill=\"#000000\" fill-rule=\"nonzero\" fill-opacity=\"1\" /><path clip-path=\"url(#clip890)\" d=\"M576.881 1306.78 L580.585 1306.78 Q584.057 1312.25 585.77 1317.48 Q587.506 1322.71 587.506 1327.87 Q587.506 1333.06 585.77 1338.31 Q584.057 1343.57 580.585 1349.01 L576.881 1349.01 Q579.96 1343.7 581.464 1338.47 Q582.992 1333.22 582.992 1327.87 Q582.992 1322.52 581.464 1317.32 Q579.96 1312.11 576.881 1306.78 Z\" fill=\"#000000\" fill-rule=\"nonzero\" fill-opacity=\"1\" /></svg>\n"
      ],
      "text/html": [
       "<?xml version=\"1.0\" encoding=\"utf-8\"?>\n",
       "<svg xmlns=\"http://www.w3.org/2000/svg\" xmlns:xlink=\"http://www.w3.org/1999/xlink\" width=\"600\" height=\"400\" viewBox=\"0 0 2400 1600\">\n",
       "<defs>\n",
       "  <clipPath id=\"clip940\">\n",
       "    <rect x=\"0\" y=\"0\" width=\"2400\" height=\"1600\"/>\n",
       "  </clipPath>\n",
       "</defs>\n",
       "<path clip-path=\"url(#clip940)\" d=\"M0 1600 L2400 1600 L2400 0 L0 0  Z\" fill=\"#ffffff\" fill-rule=\"evenodd\" fill-opacity=\"1\"/>\n",
       "<defs>\n",
       "  <clipPath id=\"clip941\">\n",
       "    <rect x=\"480\" y=\"0\" width=\"1681\" height=\"1600\"/>\n",
       "  </clipPath>\n",
       "</defs>\n",
       "<path clip-path=\"url(#clip940)\" d=\"M219.033 1423.18 L2352.76 1423.18 L2352.76 47.2441 L219.033 47.2441  Z\" fill=\"#ffffff\" fill-rule=\"evenodd\" fill-opacity=\"1\"/>\n",
       "<defs>\n",
       "  <clipPath id=\"clip942\">\n",
       "    <rect x=\"219\" y=\"47\" width=\"2135\" height=\"1377\"/>\n",
       "  </clipPath>\n",
       "</defs>\n",
       "<polyline clip-path=\"url(#clip942)\" style=\"stroke:#000000; stroke-linecap:round; stroke-linejoin:round; stroke-width:2; stroke-opacity:0.1; fill:none\" points=\"219.033,1423.18 219.033,47.2441 \"/>\n",
       "<polyline clip-path=\"url(#clip942)\" style=\"stroke:#000000; stroke-linecap:round; stroke-linejoin:round; stroke-width:2; stroke-opacity:0.1; fill:none\" points=\"645.778,1423.18 645.778,47.2441 \"/>\n",
       "<polyline clip-path=\"url(#clip942)\" style=\"stroke:#000000; stroke-linecap:round; stroke-linejoin:round; stroke-width:2; stroke-opacity:0.1; fill:none\" points=\"1072.52,1423.18 1072.52,47.2441 \"/>\n",
       "<polyline clip-path=\"url(#clip942)\" style=\"stroke:#000000; stroke-linecap:round; stroke-linejoin:round; stroke-width:2; stroke-opacity:0.1; fill:none\" points=\"1499.27,1423.18 1499.27,47.2441 \"/>\n",
       "<polyline clip-path=\"url(#clip942)\" style=\"stroke:#000000; stroke-linecap:round; stroke-linejoin:round; stroke-width:2; stroke-opacity:0.1; fill:none\" points=\"1926.01,1423.18 1926.01,47.2441 \"/>\n",
       "<polyline clip-path=\"url(#clip942)\" style=\"stroke:#000000; stroke-linecap:round; stroke-linejoin:round; stroke-width:2; stroke-opacity:0.1; fill:none\" points=\"2352.76,1423.18 2352.76,47.2441 \"/>\n",
       "<polyline clip-path=\"url(#clip940)\" style=\"stroke:#000000; stroke-linecap:round; stroke-linejoin:round; stroke-width:4; stroke-opacity:1; fill:none\" points=\"219.033,1423.18 2352.76,1423.18 \"/>\n",
       "<polyline clip-path=\"url(#clip940)\" style=\"stroke:#000000; stroke-linecap:round; stroke-linejoin:round; stroke-width:4; stroke-opacity:1; fill:none\" points=\"219.033,1423.18 219.033,1404.28 \"/>\n",
       "<polyline clip-path=\"url(#clip940)\" style=\"stroke:#000000; stroke-linecap:round; stroke-linejoin:round; stroke-width:4; stroke-opacity:1; fill:none\" points=\"645.778,1423.18 645.778,1404.28 \"/>\n",
       "<polyline clip-path=\"url(#clip940)\" style=\"stroke:#000000; stroke-linecap:round; stroke-linejoin:round; stroke-width:4; stroke-opacity:1; fill:none\" points=\"1072.52,1423.18 1072.52,1404.28 \"/>\n",
       "<polyline clip-path=\"url(#clip940)\" style=\"stroke:#000000; stroke-linecap:round; stroke-linejoin:round; stroke-width:4; stroke-opacity:1; fill:none\" points=\"1499.27,1423.18 1499.27,1404.28 \"/>\n",
       "<polyline clip-path=\"url(#clip940)\" style=\"stroke:#000000; stroke-linecap:round; stroke-linejoin:round; stroke-width:4; stroke-opacity:1; fill:none\" points=\"1926.01,1423.18 1926.01,1404.28 \"/>\n",
       "<polyline clip-path=\"url(#clip940)\" style=\"stroke:#000000; stroke-linecap:round; stroke-linejoin:round; stroke-width:4; stroke-opacity:1; fill:none\" points=\"2352.76,1423.18 2352.76,1404.28 \"/>\n",
       "<path clip-path=\"url(#clip940)\" d=\"M219.033 1454.1 Q215.422 1454.1 213.593 1457.66 Q211.788 1461.2 211.788 1468.33 Q211.788 1475.44 213.593 1479.01 Q215.422 1482.55 219.033 1482.55 Q222.667 1482.55 224.473 1479.01 Q226.301 1475.44 226.301 1468.33 Q226.301 1461.2 224.473 1457.66 Q222.667 1454.1 219.033 1454.1 M219.033 1450.39 Q224.843 1450.39 227.899 1455 Q230.977 1459.58 230.977 1468.33 Q230.977 1477.06 227.899 1481.67 Q224.843 1486.25 219.033 1486.25 Q213.223 1486.25 210.144 1481.67 Q207.089 1477.06 207.089 1468.33 Q207.089 1459.58 210.144 1455 Q213.223 1450.39 219.033 1450.39 Z\" fill=\"#000000\" fill-rule=\"nonzero\" fill-opacity=\"1\" /><path clip-path=\"url(#clip940)\" d=\"M636.16 1481.64 L643.798 1481.64 L643.798 1455.28 L635.488 1456.95 L635.488 1452.69 L643.752 1451.02 L648.428 1451.02 L648.428 1481.64 L656.067 1481.64 L656.067 1485.58 L636.16 1485.58 L636.16 1481.64 Z\" fill=\"#000000\" fill-rule=\"nonzero\" fill-opacity=\"1\" /><path clip-path=\"url(#clip940)\" d=\"M1067.17 1481.64 L1083.49 1481.64 L1083.49 1485.58 L1061.55 1485.58 L1061.55 1481.64 Q1064.21 1478.89 1068.8 1474.26 Q1073.4 1469.61 1074.58 1468.27 Q1076.83 1465.74 1077.71 1464.01 Q1078.61 1462.25 1078.61 1460.56 Q1078.61 1457.8 1076.67 1456.07 Q1074.74 1454.33 1071.64 1454.33 Q1069.44 1454.33 1066.99 1455.09 Q1064.56 1455.86 1061.78 1457.41 L1061.78 1452.69 Q1064.61 1451.55 1067.06 1450.97 Q1069.51 1450.39 1071.55 1450.39 Q1076.92 1450.39 1080.11 1453.08 Q1083.31 1455.77 1083.31 1460.26 Q1083.31 1462.39 1082.5 1464.31 Q1081.71 1466.2 1079.61 1468.8 Q1079.03 1469.47 1075.92 1472.69 Q1072.82 1475.88 1067.17 1481.64 Z\" fill=\"#000000\" fill-rule=\"nonzero\" fill-opacity=\"1\" /><path clip-path=\"url(#clip940)\" d=\"M1503.51 1466.95 Q1506.87 1467.66 1508.75 1469.93 Q1510.64 1472.2 1510.64 1475.53 Q1510.64 1480.65 1507.13 1483.45 Q1503.61 1486.25 1497.13 1486.25 Q1494.95 1486.25 1492.63 1485.81 Q1490.34 1485.39 1487.89 1484.54 L1487.89 1480.02 Q1489.83 1481.16 1492.15 1481.74 Q1494.46 1482.32 1496.99 1482.32 Q1501.38 1482.32 1503.68 1480.58 Q1505.99 1478.84 1505.99 1475.53 Q1505.99 1472.48 1503.84 1470.77 Q1501.71 1469.03 1497.89 1469.03 L1493.86 1469.03 L1493.86 1465.19 L1498.07 1465.19 Q1501.52 1465.19 1503.35 1463.82 Q1505.18 1462.43 1505.18 1459.84 Q1505.18 1457.18 1503.28 1455.77 Q1501.41 1454.33 1497.89 1454.33 Q1495.97 1454.33 1493.77 1454.75 Q1491.57 1455.16 1488.93 1456.04 L1488.93 1451.88 Q1491.59 1451.14 1493.91 1450.77 Q1496.25 1450.39 1498.31 1450.39 Q1503.63 1450.39 1506.73 1452.83 Q1509.83 1455.23 1509.83 1459.35 Q1509.83 1462.22 1508.19 1464.21 Q1506.55 1466.18 1503.51 1466.95 Z\" fill=\"#000000\" fill-rule=\"nonzero\" fill-opacity=\"1\" /><path clip-path=\"url(#clip940)\" d=\"M1929.02 1455.09 L1917.22 1473.54 L1929.02 1473.54 L1929.02 1455.09 M1927.79 1451.02 L1933.67 1451.02 L1933.67 1473.54 L1938.6 1473.54 L1938.6 1477.43 L1933.67 1477.43 L1933.67 1485.58 L1929.02 1485.58 L1929.02 1477.43 L1913.42 1477.43 L1913.42 1472.92 L1927.79 1451.02 Z\" fill=\"#000000\" fill-rule=\"nonzero\" fill-opacity=\"1\" /><path clip-path=\"url(#clip940)\" d=\"M2343.03 1451.02 L2361.39 1451.02 L2361.39 1454.96 L2347.32 1454.96 L2347.32 1463.43 Q2348.33 1463.08 2349.35 1462.92 Q2350.37 1462.73 2351.39 1462.73 Q2357.18 1462.73 2360.56 1465.9 Q2363.94 1469.08 2363.94 1474.49 Q2363.94 1480.07 2360.46 1483.17 Q2356.99 1486.25 2350.67 1486.25 Q2348.5 1486.25 2346.23 1485.88 Q2343.98 1485.51 2341.58 1484.77 L2341.58 1480.07 Q2343.66 1481.2 2345.88 1481.76 Q2348.1 1482.32 2350.58 1482.32 Q2354.58 1482.32 2356.92 1480.21 Q2359.26 1478.1 2359.26 1474.49 Q2359.26 1470.88 2356.92 1468.77 Q2354.58 1466.67 2350.58 1466.67 Q2348.71 1466.67 2346.83 1467.08 Q2344.98 1467.5 2343.03 1468.38 L2343.03 1451.02 Z\" fill=\"#000000\" fill-rule=\"nonzero\" fill-opacity=\"1\" /><path clip-path=\"url(#clip940)\" d=\"M1225.05 1522.27 L1225.05 1532.4 L1237.12 1532.4 L1237.12 1536.95 L1225.05 1536.95 L1225.05 1556.3 Q1225.05 1560.66 1226.23 1561.9 Q1227.44 1563.14 1231.1 1563.14 L1237.12 1563.14 L1237.12 1568.04 L1231.1 1568.04 Q1224.32 1568.04 1221.74 1565.53 Q1219.17 1562.98 1219.17 1556.3 L1219.17 1536.95 L1214.87 1536.95 L1214.87 1532.4 L1219.17 1532.4 L1219.17 1522.27 L1225.05 1522.27 Z\" fill=\"#000000\" fill-rule=\"nonzero\" fill-opacity=\"1\" /><path clip-path=\"url(#clip940)\" d=\"M1244.82 1532.4 L1250.68 1532.4 L1250.68 1568.04 L1244.82 1568.04 L1244.82 1532.4 M1244.82 1518.52 L1250.68 1518.52 L1250.68 1525.93 L1244.82 1525.93 L1244.82 1518.52 Z\" fill=\"#000000\" fill-rule=\"nonzero\" fill-opacity=\"1\" /><path clip-path=\"url(#clip940)\" d=\"M1290.68 1539.24 Q1292.88 1535.29 1295.94 1533.41 Q1298.99 1531.54 1303.13 1531.54 Q1308.7 1531.54 1311.72 1535.45 Q1314.75 1539.33 1314.75 1546.53 L1314.75 1568.04 L1308.86 1568.04 L1308.86 1546.72 Q1308.86 1541.59 1307.04 1539.11 Q1305.23 1536.63 1301.51 1536.63 Q1296.95 1536.63 1294.31 1539.65 Q1291.67 1542.68 1291.67 1547.9 L1291.67 1568.04 L1285.78 1568.04 L1285.78 1546.72 Q1285.78 1541.56 1283.97 1539.11 Q1282.15 1536.63 1278.37 1536.63 Q1273.88 1536.63 1271.24 1539.68 Q1268.6 1542.71 1268.6 1547.9 L1268.6 1568.04 L1262.71 1568.04 L1262.71 1532.4 L1268.6 1532.4 L1268.6 1537.93 Q1270.6 1534.66 1273.4 1533.1 Q1276.2 1531.54 1280.05 1531.54 Q1283.94 1531.54 1286.64 1533.51 Q1289.38 1535.48 1290.68 1539.24 Z\" fill=\"#000000\" fill-rule=\"nonzero\" fill-opacity=\"1\" /><path clip-path=\"url(#clip940)\" d=\"M1356.92 1548.76 L1356.92 1551.62 L1329.99 1551.62 Q1330.37 1557.67 1333.62 1560.85 Q1336.9 1564 1342.72 1564 Q1346.1 1564 1349.25 1563.17 Q1352.43 1562.35 1355.55 1560.69 L1355.55 1566.23 Q1352.4 1567.57 1349.09 1568.27 Q1345.78 1568.97 1342.37 1568.97 Q1333.84 1568.97 1328.85 1564 Q1323.88 1559.04 1323.88 1550.57 Q1323.88 1541.82 1328.59 1536.69 Q1333.33 1531.54 1341.36 1531.54 Q1348.55 1531.54 1352.72 1536.18 Q1356.92 1540.8 1356.92 1548.76 M1351.06 1547.04 Q1351 1542.23 1348.36 1539.37 Q1345.75 1536.5 1341.42 1536.5 Q1336.52 1536.5 1333.56 1539.27 Q1330.63 1542.04 1330.18 1547.07 L1351.06 1547.04 Z\" fill=\"#000000\" fill-rule=\"nonzero\" fill-opacity=\"1\" /><polyline clip-path=\"url(#clip942)\" style=\"stroke:#000000; stroke-linecap:round; stroke-linejoin:round; stroke-width:2; stroke-opacity:0.1; fill:none\" points=\"219.033,1144.85 2352.76,1144.85 \"/>\n",
       "<polyline clip-path=\"url(#clip942)\" style=\"stroke:#000000; stroke-linecap:round; stroke-linejoin:round; stroke-width:2; stroke-opacity:0.1; fill:none\" points=\"219.033,791.964 2352.76,791.964 \"/>\n",
       "<polyline clip-path=\"url(#clip942)\" style=\"stroke:#000000; stroke-linecap:round; stroke-linejoin:round; stroke-width:2; stroke-opacity:0.1; fill:none\" points=\"219.033,439.075 2352.76,439.075 \"/>\n",
       "<polyline clip-path=\"url(#clip942)\" style=\"stroke:#000000; stroke-linecap:round; stroke-linejoin:round; stroke-width:2; stroke-opacity:0.1; fill:none\" points=\"219.033,86.1857 2352.76,86.1857 \"/>\n",
       "<polyline clip-path=\"url(#clip940)\" style=\"stroke:#000000; stroke-linecap:round; stroke-linejoin:round; stroke-width:4; stroke-opacity:1; fill:none\" points=\"219.033,1423.18 219.033,47.2441 \"/>\n",
       "<polyline clip-path=\"url(#clip940)\" style=\"stroke:#000000; stroke-linecap:round; stroke-linejoin:round; stroke-width:4; stroke-opacity:1; fill:none\" points=\"219.033,1144.85 237.931,1144.85 \"/>\n",
       "<polyline clip-path=\"url(#clip940)\" style=\"stroke:#000000; stroke-linecap:round; stroke-linejoin:round; stroke-width:4; stroke-opacity:1; fill:none\" points=\"219.033,791.964 237.931,791.964 \"/>\n",
       "<polyline clip-path=\"url(#clip940)\" style=\"stroke:#000000; stroke-linecap:round; stroke-linejoin:round; stroke-width:4; stroke-opacity:1; fill:none\" points=\"219.033,439.075 237.931,439.075 \"/>\n",
       "<polyline clip-path=\"url(#clip940)\" style=\"stroke:#000000; stroke-linecap:round; stroke-linejoin:round; stroke-width:4; stroke-opacity:1; fill:none\" points=\"219.033,86.1857 237.931,86.1857 \"/>\n",
       "<path clip-path=\"url(#clip940)\" d=\"M117.663 1158.2 L125.302 1158.2 L125.302 1131.83 L116.992 1133.5 L116.992 1129.24 L125.255 1127.57 L129.931 1127.57 L129.931 1158.2 L137.57 1158.2 L137.57 1162.13 L117.663 1162.13 L117.663 1158.2 Z\" fill=\"#000000\" fill-rule=\"nonzero\" fill-opacity=\"1\" /><path clip-path=\"url(#clip940)\" d=\"M147.015 1156.25 L151.899 1156.25 L151.899 1162.13 L147.015 1162.13 L147.015 1156.25 Z\" fill=\"#000000\" fill-rule=\"nonzero\" fill-opacity=\"1\" /><path clip-path=\"url(#clip940)\" d=\"M162.13 1127.57 L180.487 1127.57 L180.487 1131.51 L166.413 1131.51 L166.413 1139.98 Q167.431 1139.63 168.45 1139.47 Q169.468 1139.29 170.487 1139.29 Q176.274 1139.29 179.653 1142.46 Q183.033 1145.63 183.033 1151.04 Q183.033 1156.62 179.561 1159.73 Q176.089 1162.8 169.769 1162.8 Q167.593 1162.8 165.325 1162.43 Q163.079 1162.06 160.672 1161.32 L160.672 1156.62 Q162.755 1157.76 164.977 1158.31 Q167.2 1158.87 169.677 1158.87 Q173.681 1158.87 176.019 1156.76 Q178.357 1154.66 178.357 1151.04 Q178.357 1147.43 176.019 1145.33 Q173.681 1143.22 169.677 1143.22 Q167.802 1143.22 165.927 1143.64 Q164.075 1144.05 162.13 1144.93 L162.13 1127.57 Z\" fill=\"#000000\" fill-rule=\"nonzero\" fill-opacity=\"1\" /><path clip-path=\"url(#clip940)\" d=\"M119.885 805.308 L136.204 805.308 L136.204 809.244 L114.26 809.244 L114.26 805.308 Q116.922 802.554 121.505 797.924 Q126.112 793.271 127.292 791.929 Q129.538 789.406 130.417 787.67 Q131.32 785.91 131.32 784.22 Q131.32 781.466 129.376 779.73 Q127.455 777.994 124.353 777.994 Q122.154 777.994 119.7 778.758 Q117.269 779.521 114.492 781.072 L114.492 776.35 Q117.316 775.216 119.769 774.637 Q122.223 774.059 124.26 774.059 Q129.63 774.059 132.825 776.744 Q136.019 779.429 136.019 783.92 Q136.019 786.049 135.209 787.97 Q134.422 789.869 132.316 792.461 Q131.737 793.132 128.635 796.35 Q125.533 799.544 119.885 805.308 Z\" fill=\"#000000\" fill-rule=\"nonzero\" fill-opacity=\"1\" /><path clip-path=\"url(#clip940)\" d=\"M146.019 803.364 L150.903 803.364 L150.903 809.244 L146.019 809.244 L146.019 803.364 Z\" fill=\"#000000\" fill-rule=\"nonzero\" fill-opacity=\"1\" /><path clip-path=\"url(#clip940)\" d=\"M171.089 777.762 Q167.477 777.762 165.649 781.327 Q163.843 784.869 163.843 791.998 Q163.843 799.105 165.649 802.669 Q167.477 806.211 171.089 806.211 Q174.723 806.211 176.528 802.669 Q178.357 799.105 178.357 791.998 Q178.357 784.869 176.528 781.327 Q174.723 777.762 171.089 777.762 M171.089 774.059 Q176.899 774.059 179.954 778.665 Q183.033 783.248 183.033 791.998 Q183.033 800.725 179.954 805.331 Q176.899 809.915 171.089 809.915 Q165.278 809.915 162.2 805.331 Q159.144 800.725 159.144 791.998 Q159.144 783.248 162.2 778.665 Q165.278 774.059 171.089 774.059 Z\" fill=\"#000000\" fill-rule=\"nonzero\" fill-opacity=\"1\" /><path clip-path=\"url(#clip940)\" d=\"M120.88 452.419 L137.2 452.419 L137.2 456.355 L115.256 456.355 L115.256 452.419 Q117.918 449.665 122.501 445.035 Q127.107 440.382 128.288 439.04 Q130.533 436.517 131.413 434.781 Q132.316 433.021 132.316 431.332 Q132.316 428.577 130.371 426.841 Q128.45 425.105 125.348 425.105 Q123.149 425.105 120.695 425.869 Q118.265 426.633 115.487 428.183 L115.487 423.461 Q118.311 422.327 120.765 421.748 Q123.218 421.17 125.255 421.17 Q130.626 421.17 133.82 423.855 Q137.015 426.54 137.015 431.031 Q137.015 433.16 136.204 435.082 Q135.417 436.98 133.311 439.572 Q132.732 440.244 129.63 443.461 Q126.529 446.656 120.88 452.419 Z\" fill=\"#000000\" fill-rule=\"nonzero\" fill-opacity=\"1\" /><path clip-path=\"url(#clip940)\" d=\"M147.015 450.475 L151.899 450.475 L151.899 456.355 L147.015 456.355 L147.015 450.475 Z\" fill=\"#000000\" fill-rule=\"nonzero\" fill-opacity=\"1\" /><path clip-path=\"url(#clip940)\" d=\"M162.13 421.795 L180.487 421.795 L180.487 425.73 L166.413 425.73 L166.413 434.202 Q167.431 433.855 168.45 433.693 Q169.468 433.507 170.487 433.507 Q176.274 433.507 179.653 436.679 Q183.033 439.85 183.033 445.267 Q183.033 450.845 179.561 453.947 Q176.089 457.026 169.769 457.026 Q167.593 457.026 165.325 456.656 Q163.079 456.285 160.672 455.544 L160.672 450.845 Q162.755 451.98 164.977 452.535 Q167.2 453.091 169.677 453.091 Q173.681 453.091 176.019 450.984 Q178.357 448.878 178.357 445.267 Q178.357 441.656 176.019 439.549 Q173.681 437.443 169.677 437.443 Q167.802 437.443 165.927 437.859 Q164.075 438.276 162.13 439.156 L162.13 421.795 Z\" fill=\"#000000\" fill-rule=\"nonzero\" fill-opacity=\"1\" /><path clip-path=\"url(#clip940)\" d=\"M130.024 84.8315 Q133.38 85.5491 135.255 87.8176 Q137.154 90.0861 137.154 93.4194 Q137.154 98.5351 133.635 101.336 Q130.117 104.137 123.635 104.137 Q121.459 104.137 119.144 103.697 Q116.853 103.28 114.399 102.424 L114.399 97.9101 Q116.343 99.0444 118.658 99.6231 Q120.973 100.202 123.496 100.202 Q127.894 100.202 130.186 98.4657 Q132.501 96.7296 132.501 93.4194 Q132.501 90.3639 130.348 88.6509 Q128.218 86.9148 124.399 86.9148 L120.371 86.9148 L120.371 83.0723 L124.584 83.0723 Q128.033 83.0723 129.862 81.7065 Q131.691 80.3176 131.691 77.7251 Q131.691 75.063 129.792 73.651 Q127.917 72.2158 124.399 72.2158 Q122.478 72.2158 120.279 72.6325 Q118.08 73.0492 115.441 73.9288 L115.441 69.7621 Q118.103 69.0214 120.418 68.651 Q122.755 68.2807 124.816 68.2807 Q130.14 68.2807 133.242 70.7112 Q136.343 73.1186 136.343 77.239 Q136.343 80.1093 134.7 82.1 Q133.056 84.0676 130.024 84.8315 Z\" fill=\"#000000\" fill-rule=\"nonzero\" fill-opacity=\"1\" /><path clip-path=\"url(#clip940)\" d=\"M146.019 97.5861 L150.903 97.5861 L150.903 103.466 L146.019 103.466 L146.019 97.5861 Z\" fill=\"#000000\" fill-rule=\"nonzero\" fill-opacity=\"1\" /><path clip-path=\"url(#clip940)\" d=\"M171.089 71.9844 Q167.477 71.9844 165.649 75.5492 Q163.843 79.0908 163.843 86.2204 Q163.843 93.3268 165.649 96.8916 Q167.477 100.433 171.089 100.433 Q174.723 100.433 176.528 96.8916 Q178.357 93.3268 178.357 86.2204 Q178.357 79.0908 176.528 75.5492 Q174.723 71.9844 171.089 71.9844 M171.089 68.2807 Q176.899 68.2807 179.954 72.8871 Q183.033 77.4704 183.033 86.2204 Q183.033 94.9472 179.954 99.5537 Q176.899 104.137 171.089 104.137 Q165.278 104.137 162.2 99.5537 Q159.144 94.9472 159.144 86.2204 Q159.144 77.4704 162.2 72.8871 Q165.278 68.2807 171.089 68.2807 Z\" fill=\"#000000\" fill-rule=\"nonzero\" fill-opacity=\"1\" /><path clip-path=\"url(#clip940)\" d=\"M58.657 971.618 L77.5631 971.618 L77.5631 977.507 L28.3562 977.507 L28.3562 971.618 L33.7671 971.618 Q30.5842 969.772 29.0564 966.971 Q27.4968 964.139 27.4968 960.224 Q27.4968 953.731 32.6531 949.689 Q37.8093 945.614 46.212 945.614 Q54.6147 945.614 59.771 949.689 Q64.9272 953.731 64.9272 960.224 Q64.9272 964.139 63.3994 966.971 Q61.8398 969.772 58.657 971.618 M46.212 951.694 Q39.7508 951.694 36.0905 954.367 Q32.3984 957.009 32.3984 961.656 Q32.3984 966.303 36.0905 968.977 Q39.7508 971.618 46.212 971.618 Q52.6732 971.618 56.3653 968.977 Q60.0256 966.303 60.0256 961.656 Q60.0256 957.009 56.3653 954.367 Q52.6732 951.694 46.212 951.694 Z\" fill=\"#000000\" fill-rule=\"nonzero\" fill-opacity=\"1\" /><path clip-path=\"url(#clip940)\" d=\"M32.4621 922.093 Q32.4621 926.804 36.1542 929.541 Q39.8145 932.278 46.212 932.278 Q52.6095 932.278 56.3017 929.573 Q59.9619 926.836 59.9619 922.093 Q59.9619 917.414 56.2698 914.677 Q52.5777 911.94 46.212 911.94 Q39.8781 911.94 36.186 914.677 Q32.4621 917.414 32.4621 922.093 M27.4968 922.093 Q27.4968 914.454 32.4621 910.094 Q37.4273 905.733 46.212 905.733 Q54.9649 905.733 59.9619 910.094 Q64.9272 914.454 64.9272 922.093 Q64.9272 929.764 59.9619 934.124 Q54.9649 938.453 46.212 938.453 Q37.4273 938.453 32.4621 934.124 Q27.4968 929.764 27.4968 922.093 Z\" fill=\"#000000\" fill-rule=\"nonzero\" fill-opacity=\"1\" /><path clip-path=\"url(#clip940)\" d=\"M58.657 890.36 L77.5631 890.36 L77.5631 896.248 L28.3562 896.248 L28.3562 890.36 L33.7671 890.36 Q30.5842 888.514 29.0564 885.713 Q27.4968 882.88 27.4968 878.966 Q27.4968 872.473 32.6531 868.43 Q37.8093 864.356 46.212 864.356 Q54.6147 864.356 59.771 868.43 Q64.9272 872.473 64.9272 878.966 Q64.9272 882.88 63.3994 885.713 Q61.8398 888.514 58.657 890.36 M46.212 870.435 Q39.7508 870.435 36.0905 873.109 Q32.3984 875.751 32.3984 880.398 Q32.3984 885.045 36.0905 887.718 Q39.7508 890.36 46.212 890.36 Q52.6732 890.36 56.3653 887.718 Q60.0256 885.045 60.0256 880.398 Q60.0256 875.751 56.3653 873.109 Q52.6732 870.435 46.212 870.435 Z\" fill=\"#000000\" fill-rule=\"nonzero\" fill-opacity=\"1\" /><path clip-path=\"url(#clip940)\" d=\"M49.9359 855.253 L28.3562 855.253 L28.3562 849.397 L49.7131 849.397 Q54.7739 849.397 57.3202 847.423 Q59.8346 845.45 59.8346 841.503 Q59.8346 836.761 56.8109 834.024 Q53.7872 831.255 48.5673 831.255 L28.3562 831.255 L28.3562 825.398 L64.0042 825.398 L64.0042 831.255 L58.5296 831.255 Q61.7762 833.387 63.3676 836.22 Q64.9272 839.021 64.9272 842.745 Q64.9272 848.888 61.1078 852.07 Q57.2883 855.253 49.9359 855.253 M27.4968 840.517 L27.4968 840.517 Z\" fill=\"#000000\" fill-rule=\"nonzero\" fill-opacity=\"1\" /><path clip-path=\"url(#clip940)\" d=\"M14.479 813.335 L14.479 807.479 L64.0042 807.479 L64.0042 813.335 L14.479 813.335 Z\" fill=\"#000000\" fill-rule=\"nonzero\" fill-opacity=\"1\" /><path clip-path=\"url(#clip940)\" d=\"M46.0847 779.024 Q46.0847 786.122 47.7079 788.859 Q49.3312 791.596 53.2461 791.596 Q56.3653 791.596 58.2114 789.559 Q60.0256 787.49 60.0256 783.957 Q60.0256 779.088 56.5881 776.159 Q53.1188 773.199 47.3897 773.199 L46.0847 773.199 L46.0847 779.024 M43.6657 767.343 L64.0042 767.343 L64.0042 773.199 L58.5933 773.199 Q61.8398 775.205 63.3994 778.196 Q64.9272 781.188 64.9272 785.517 Q64.9272 790.991 61.8716 794.238 Q58.7843 797.453 53.6281 797.453 Q47.6125 797.453 44.5569 793.442 Q41.5014 789.4 41.5014 781.411 L41.5014 773.199 L40.9285 773.199 Q36.8862 773.199 34.6901 775.873 Q32.4621 778.515 32.4621 783.321 Q32.4621 786.376 33.1941 789.273 Q33.9262 792.169 35.3903 794.843 L29.9795 794.843 Q28.7381 791.628 28.1334 788.604 Q27.4968 785.581 27.4968 782.716 Q27.4968 774.982 31.5072 771.162 Q35.5176 767.343 43.6657 767.343 Z\" fill=\"#000000\" fill-rule=\"nonzero\" fill-opacity=\"1\" /><path clip-path=\"url(#clip940)\" d=\"M18.2347 749.487 L28.3562 749.487 L28.3562 737.424 L32.9077 737.424 L32.9077 749.487 L52.2594 749.487 Q56.6199 749.487 57.8613 748.309 Q59.1026 747.1 59.1026 743.44 L59.1026 737.424 L64.0042 737.424 L64.0042 743.44 Q64.0042 750.219 61.4897 752.797 Q58.9434 755.375 52.2594 755.375 L32.9077 755.375 L32.9077 759.672 L28.3562 759.672 L28.3562 755.375 L18.2347 755.375 L18.2347 749.487 Z\" fill=\"#000000\" fill-rule=\"nonzero\" fill-opacity=\"1\" /><path clip-path=\"url(#clip940)\" d=\"M28.3562 729.722 L28.3562 723.865 L64.0042 723.865 L64.0042 729.722 L28.3562 729.722 M14.479 729.722 L14.479 723.865 L21.895 723.865 L21.895 729.722 L14.479 729.722 Z\" fill=\"#000000\" fill-rule=\"nonzero\" fill-opacity=\"1\" /><path clip-path=\"url(#clip940)\" d=\"M32.4621 697.798 Q32.4621 702.508 36.1542 705.245 Q39.8145 707.983 46.212 707.983 Q52.6095 707.983 56.3017 705.277 Q59.9619 702.54 59.9619 697.798 Q59.9619 693.119 56.2698 690.381 Q52.5777 687.644 46.212 687.644 Q39.8781 687.644 36.186 690.381 Q32.4621 693.119 32.4621 697.798 M27.4968 697.798 Q27.4968 690.159 32.4621 685.798 Q37.4273 681.438 46.212 681.438 Q54.9649 681.438 59.9619 685.798 Q64.9272 690.159 64.9272 697.798 Q64.9272 705.468 59.9619 709.829 Q54.9649 714.157 46.212 714.157 Q37.4273 714.157 32.4621 709.829 Q27.4968 705.468 27.4968 697.798 Z\" fill=\"#000000\" fill-rule=\"nonzero\" fill-opacity=\"1\" /><path clip-path=\"url(#clip940)\" d=\"M42.4881 642.098 L64.0042 642.098 L64.0042 647.954 L42.679 647.954 Q37.6183 647.954 35.1038 649.927 Q32.5894 651.901 32.5894 655.848 Q32.5894 660.59 35.6131 663.327 Q38.6368 666.064 43.8567 666.064 L64.0042 666.064 L64.0042 671.953 L28.3562 671.953 L28.3562 666.064 L33.8944 666.064 Q30.6797 663.964 29.0883 661.131 Q27.4968 658.266 27.4968 654.543 Q27.4968 648.4 31.3163 645.249 Q35.1038 642.098 42.4881 642.098 Z\" fill=\"#000000\" fill-rule=\"nonzero\" fill-opacity=\"1\" /><path clip-path=\"url(#clip940)\" d=\"M29.4065 586.971 L34.9447 586.971 Q33.6716 589.453 33.035 592.127 Q32.3984 594.8 32.3984 597.665 Q32.3984 602.025 33.7352 604.222 Q35.072 606.386 37.7456 606.386 Q39.7826 606.386 40.9603 604.826 Q42.1061 603.267 43.1565 598.556 L43.6021 596.551 Q44.9389 590.313 47.3897 587.703 Q49.8086 585.061 54.1691 585.061 Q59.1344 585.061 62.0308 589.008 Q64.9272 592.923 64.9272 599.797 Q64.9272 602.662 64.3543 605.781 Q63.8132 608.869 62.6992 612.306 L56.6518 612.306 Q58.3387 609.06 59.198 605.909 Q60.0256 602.758 60.0256 599.67 Q60.0256 595.532 58.6251 593.304 Q57.1929 591.076 54.6147 591.076 Q52.2276 591.076 50.9545 592.7 Q49.6813 594.291 48.5037 599.734 L48.0262 601.771 Q46.8804 607.214 44.5251 609.632 Q42.138 612.051 38.0002 612.051 Q32.9713 612.051 30.2341 608.487 Q27.4968 604.922 27.4968 598.365 Q27.4968 595.119 27.9743 592.254 Q28.4517 589.39 29.4065 586.971 Z\" fill=\"#000000\" fill-rule=\"nonzero\" fill-opacity=\"1\" /><path clip-path=\"url(#clip940)\" d=\"M28.3562 575.735 L28.3562 569.879 L64.0042 569.879 L64.0042 575.735 L28.3562 575.735 M14.479 575.735 L14.479 569.879 L21.895 569.879 L21.895 575.735 L14.479 575.735 Z\" fill=\"#000000\" fill-rule=\"nonzero\" fill-opacity=\"1\" /><path clip-path=\"url(#clip940)\" d=\"M28.3562 560.171 L28.3562 532.353 L33.7034 532.353 L59.3254 554.378 L59.3254 532.353 L64.0042 532.353 L64.0042 560.967 L58.657 560.967 L33.035 538.941 L33.035 560.171 L28.3562 560.171 Z\" fill=\"#000000\" fill-rule=\"nonzero\" fill-opacity=\"1\" /><path clip-path=\"url(#clip940)\" d=\"M44.7161 492.917 L47.5806 492.917 L47.5806 519.844 Q53.6281 519.462 56.8109 516.216 Q59.9619 512.937 59.9619 507.113 Q59.9619 503.739 59.1344 500.588 Q58.3069 497.405 56.6518 494.286 L62.1899 494.286 Q63.5267 497.437 64.227 500.747 Q64.9272 504.057 64.9272 507.463 Q64.9272 515.993 59.9619 520.99 Q54.9967 525.955 46.5303 525.955 Q37.7774 525.955 32.6531 521.245 Q27.4968 516.502 27.4968 508.481 Q27.4968 501.288 32.1438 497.119 Q36.7589 492.917 44.7161 492.917 M42.9973 498.774 Q38.1912 498.837 35.3266 501.479 Q32.4621 504.089 32.4621 508.418 Q32.4621 513.319 35.2312 516.279 Q38.0002 519.208 43.0292 519.653 L42.9973 498.774 Z\" fill=\"#000000\" fill-rule=\"nonzero\" fill-opacity=\"1\" /><polyline clip-path=\"url(#clip942)\" style=\"stroke:#009af9; stroke-linecap:round; stroke-linejoin:round; stroke-width:4; stroke-opacity:1; fill:none\" points=\"219.033,86.1857 325.719,165.495 362.026,214.789 432.405,277.01 492.417,352.217 539.091,384.896 645.778,485.514 752.464,603.342 859.15,715.21 965.836,804.18 1072.52,861.497 1179.21,884.677 1285.89,874.788 1392.58,834.644 1499.27,768.214 1605.95,680.932 1712.64,580.55 1819.33,478.078 1926.01,388.151 2032.7,327.755 2139.38,312.288 2246.07,349.315 2352.76,433.259 \"/>\n",
       "<polyline clip-path=\"url(#clip942)\" style=\"stroke:#e26f46; stroke-linecap:round; stroke-linejoin:round; stroke-width:4; stroke-opacity:1; fill:none\" points=\"219.033,1144.85 325.719,984.276 362.026,933.119 362.026,1074.27 432.405,992.893 492.417,933.119 492.417,1074.27 539.091,1039.06 645.778,977.168 752.464,952.066 859.15,967.953 965.836,1018.22 1072.52,1089.9 1179.21,1169.12 1285.89,1244.46 1392.58,1307.91 1499.27,1354.36 1605.95,1380.54 1712.64,1384.24 1819.33,1363.89 1926.01,1318.91 2032.7,1251.08 2139.38,1166.64 2246.07,1078.13 2352.76,1003.17 \"/>\n",
       "<path clip-path=\"url(#clip940)\" d=\"M290.157 1377.32 L611.214 1377.32 L611.214 1221.8 L290.157 1221.8  Z\" fill=\"#ffffff\" fill-rule=\"evenodd\" fill-opacity=\"1\"/>\n",
       "<polyline clip-path=\"url(#clip940)\" style=\"stroke:#000000; stroke-linecap:round; stroke-linejoin:round; stroke-width:4; stroke-opacity:1; fill:none\" points=\"290.157,1377.32 611.214,1377.32 611.214,1221.8 290.157,1221.8 290.157,1377.32 \"/>\n",
       "<polyline clip-path=\"url(#clip940)\" style=\"stroke:#009af9; stroke-linecap:round; stroke-linejoin:round; stroke-width:4; stroke-opacity:1; fill:none\" points=\"313.865,1273.64 456.113,1273.64 \"/>\n",
       "<path clip-path=\"url(#clip940)\" d=\"M479.821 1280.68 L479.821 1264.99 L484.081 1264.99 L484.081 1280.52 Q484.081 1284.2 485.516 1286.05 Q486.951 1287.88 489.821 1287.88 Q493.27 1287.88 495.261 1285.68 Q497.275 1283.48 497.275 1279.69 L497.275 1264.99 L501.534 1264.99 L501.534 1290.92 L497.275 1290.92 L497.275 1286.93 Q495.724 1289.29 493.664 1290.45 Q491.627 1291.59 488.918 1291.59 Q484.451 1291.59 482.136 1288.81 Q479.821 1286.03 479.821 1280.68 M490.539 1264.36 L490.539 1264.36 Z\" fill=\"#000000\" fill-rule=\"nonzero\" fill-opacity=\"1\" /><path clip-path=\"url(#clip940)\" d=\"M511.719 1286.98 L519.358 1286.98 L519.358 1260.61 L511.048 1262.28 L511.048 1258.02 L519.312 1256.36 L523.988 1256.36 L523.988 1286.98 L531.627 1286.98 L531.627 1290.92 L511.719 1290.92 L511.719 1286.98 Z\" fill=\"#000000\" fill-rule=\"nonzero\" fill-opacity=\"1\" /><path clip-path=\"url(#clip940)\" d=\"M550.701 1254.94 Q547.599 1260.27 546.094 1265.48 Q544.589 1270.68 544.589 1276.03 Q544.589 1281.38 546.094 1286.63 Q547.622 1291.86 550.701 1297.17 L546.997 1297.17 Q543.525 1291.73 541.789 1286.47 Q540.076 1281.22 540.076 1276.03 Q540.076 1270.87 541.789 1265.64 Q543.502 1260.41 546.997 1254.94 L550.701 1254.94 Z\" fill=\"#000000\" fill-rule=\"nonzero\" fill-opacity=\"1\" /><path clip-path=\"url(#clip940)\" d=\"M563.177 1257.63 L563.177 1264.99 L571.95 1264.99 L571.95 1268.3 L563.177 1268.3 L563.177 1282.37 Q563.177 1285.54 564.034 1286.45 Q564.913 1287.35 567.575 1287.35 L571.95 1287.35 L571.95 1290.92 L567.575 1290.92 Q562.645 1290.92 560.77 1289.09 Q558.895 1287.23 558.895 1282.37 L558.895 1268.3 L555.77 1268.3 L555.77 1264.99 L558.895 1264.99 L558.895 1257.63 L563.177 1257.63 Z\" fill=\"#000000\" fill-rule=\"nonzero\" fill-opacity=\"1\" /><path clip-path=\"url(#clip940)\" d=\"M576.881 1254.94 L580.585 1254.94 Q584.057 1260.41 585.77 1265.64 Q587.506 1270.87 587.506 1276.03 Q587.506 1281.22 585.77 1286.47 Q584.057 1291.73 580.585 1297.17 L576.881 1297.17 Q579.96 1291.86 581.464 1286.63 Q582.992 1281.38 582.992 1276.03 Q582.992 1270.68 581.464 1265.48 Q579.96 1260.27 576.881 1254.94 Z\" fill=\"#000000\" fill-rule=\"nonzero\" fill-opacity=\"1\" /><polyline clip-path=\"url(#clip940)\" style=\"stroke:#e26f46; stroke-linecap:round; stroke-linejoin:round; stroke-width:4; stroke-opacity:1; fill:none\" points=\"313.865,1325.48 456.113,1325.48 \"/>\n",
       "<path clip-path=\"url(#clip940)\" d=\"M479.821 1332.52 L479.821 1316.83 L484.081 1316.83 L484.081 1332.36 Q484.081 1336.04 485.516 1337.89 Q486.951 1339.72 489.821 1339.72 Q493.27 1339.72 495.261 1337.52 Q497.275 1335.32 497.275 1331.53 L497.275 1316.83 L501.534 1316.83 L501.534 1342.76 L497.275 1342.76 L497.275 1338.77 Q495.724 1341.13 493.664 1342.29 Q491.627 1343.43 488.918 1343.43 Q484.451 1343.43 482.136 1340.65 Q479.821 1337.87 479.821 1332.52 M490.539 1316.2 L490.539 1316.2 Z\" fill=\"#000000\" fill-rule=\"nonzero\" fill-opacity=\"1\" /><path clip-path=\"url(#clip940)\" d=\"M514.937 1338.82 L531.256 1338.82 L531.256 1342.76 L509.312 1342.76 L509.312 1338.82 Q511.974 1336.07 516.557 1331.44 Q521.164 1326.78 522.344 1325.44 Q524.59 1322.92 525.469 1321.18 Q526.372 1319.42 526.372 1317.73 Q526.372 1314.98 524.428 1313.24 Q522.506 1311.51 519.404 1311.51 Q517.205 1311.51 514.752 1312.27 Q512.321 1313.03 509.543 1314.58 L509.543 1309.86 Q512.367 1308.73 514.821 1308.15 Q517.275 1307.57 519.312 1307.57 Q524.682 1307.57 527.877 1310.26 Q531.071 1312.94 531.071 1317.43 Q531.071 1319.56 530.261 1321.48 Q529.474 1323.38 527.367 1325.97 Q526.789 1326.64 523.687 1329.86 Q520.585 1333.06 514.937 1338.82 Z\" fill=\"#000000\" fill-rule=\"nonzero\" fill-opacity=\"1\" /><path clip-path=\"url(#clip940)\" d=\"M550.701 1306.78 Q547.599 1312.11 546.094 1317.32 Q544.589 1322.52 544.589 1327.87 Q544.589 1333.22 546.094 1338.47 Q547.622 1343.7 550.701 1349.01 L546.997 1349.01 Q543.525 1343.57 541.789 1338.31 Q540.076 1333.06 540.076 1327.87 Q540.076 1322.71 541.789 1317.48 Q543.502 1312.25 546.997 1306.78 L550.701 1306.78 Z\" fill=\"#000000\" fill-rule=\"nonzero\" fill-opacity=\"1\" /><path clip-path=\"url(#clip940)\" d=\"M563.177 1309.47 L563.177 1316.83 L571.95 1316.83 L571.95 1320.14 L563.177 1320.14 L563.177 1334.21 Q563.177 1337.38 564.034 1338.29 Q564.913 1339.19 567.575 1339.19 L571.95 1339.19 L571.95 1342.76 L567.575 1342.76 Q562.645 1342.76 560.77 1340.93 Q558.895 1339.07 558.895 1334.21 L558.895 1320.14 L555.77 1320.14 L555.77 1316.83 L558.895 1316.83 L558.895 1309.47 L563.177 1309.47 Z\" fill=\"#000000\" fill-rule=\"nonzero\" fill-opacity=\"1\" /><path clip-path=\"url(#clip940)\" d=\"M576.881 1306.78 L580.585 1306.78 Q584.057 1312.25 585.77 1317.48 Q587.506 1322.71 587.506 1327.87 Q587.506 1333.06 585.77 1338.31 Q584.057 1343.57 580.585 1349.01 L576.881 1349.01 Q579.96 1343.7 581.464 1338.47 Q582.992 1333.22 582.992 1327.87 Q582.992 1322.52 581.464 1317.32 Q579.96 1312.11 576.881 1306.78 Z\" fill=\"#000000\" fill-rule=\"nonzero\" fill-opacity=\"1\" /></svg>\n"
      ]
     },
     "execution_count": 7,
     "metadata": {},
     "output_type": "execute_result"
    }
   ],
   "source": [
    "# Events\n",
    "🔥🐺_condition(u, t, integrator) = u[2] - 1.8\n",
    "🔥🐺_affect!(integrator) = integrator.u[2] -= 0.2\n",
    "🔥🐺_cb = ContinuousCallback(🔥🐺_condition, 🔥🐺_affect!)\n",
    "plot(solve(prob, Vern7(), callback=🔥🐺_cb, abstol=1e-12, reltol=1e-12, saveat=0.25), xlabel=\"time\", ylabel=\"population size\")"
   ]
  },
  {
   "cell_type": "markdown",
   "id": "efb3f6ca",
   "metadata": {},
   "source": [
    "- [Stochastic differential equations](https://docs.sciml.ai/DiffEqDocs/stable/tutorials/sde_example/)\n",
    "- [Hybrid differential equations](https://docs.sciml.ai/DiffEqDocs/stable/features/callback_functions/)\n",
    "- [Delay differential equations](https://docs.sciml.ai/DiffEqDocs/stable/tutorials/dde_example/)\n",
    "- [Parallel ensemble simulations](https://docs.sciml.ai/DiffEqDocs/dev/features/ensemble/)\n",
    "\n",
    "... and some very recent developments:\n",
    "\n",
    "- [Solving linear systems](https://docs.sciml.ai/LinearSolve/stable/)\n",
    "- [Solving nonlinear systems](https://docs.sciml.ai/NonlinearSolve/stable/)\n"
   ]
  },
  {
   "cell_type": "markdown",
   "id": "03f715d5-f37c-40ad-9929-47a6616e314b",
   "metadata": {
    "slideshow": {
     "slide_type": "slide"
    }
   },
   "source": [
    "###  Formulate inverse design task as an optimization problem\n",
    "\n",
    "- Define loss function and constraints\n",
    "- Compute gradients (`solve` is compatible with AD!)\n",
    "- Use gradient-based optimization methods to optimize (free) parameters \n",
    "\n",
    "- (Find a sparse symbolic representation)"
   ]
  },
  {
   "cell_type": "markdown",
   "id": "324b9cb9",
   "metadata": {
    "slideshow": {
     "slide_type": "subslide"
    }
   },
   "source": [
    "### Generating the training data"
   ]
  },
  {
   "cell_type": "code",
   "execution_count": null,
   "id": "e363a576",
   "metadata": {
    "scrolled": true,
    "slideshow": {
     "slide_type": "-"
    }
   },
   "outputs": [],
   "source": [
    "# Add noise in terms of the mean\n",
    "X = Array(solution)\n",
    "t = solution.t\n",
    "\n",
    "x̄ = mean(X, dims=2)\n",
    "noise_magnitude = 5e-3\n",
    "Xdata = X .+ (noise_magnitude * x̄) .* randn(rng, eltype(X), size(X))\n",
    "\n",
    "plot(solution, alpha=0.75, color=:black, label=[\"true data\" nothing], xlabel=\"time\", ylabel=\"population size\")\n",
    "scatter!(t, transpose(Xdata), color=:red, label=[\"noisy data\" nothing])"
   ]
  },
  {
   "cell_type": "code",
   "execution_count": null,
   "id": "4f963218-ef7a-45a1-af00-b1bc47b0bd11",
   "metadata": {
    "slideshow": {
     "slide_type": "slide"
    },
    "tags": []
   },
   "outputs": [],
   "source": [
    "# Define a predictor\n",
    "function predict(θ)\n",
    "    _prob = remake(prob, p=θ)\n",
    "    _sol = solve(_prob, Vern7(), saveat=t, abstol=1e-6, reltol=1e-6)\n",
    "    Array(_sol)\n",
    "end"
   ]
  },
  {
   "cell_type": "code",
   "execution_count": null,
   "id": "7a3d4624-7422-47ec-bdc2-5edc4aaa5a89",
   "metadata": {
    "tags": []
   },
   "outputs": [],
   "source": [
    "# Simple L2 loss\n",
    "function loss(θ)\n",
    "    X̂ = predict(θ)\n",
    "    sum(abs2, Xdata .- X̂)\n",
    "end"
   ]
  },
  {
   "cell_type": "markdown",
   "id": "73433a22",
   "metadata": {
    "slideshow": {
     "slide_type": "slide"
    }
   },
   "source": [
    "## What are derivatives good for?\n",
    "\n",
    "- **sensitivity analysis**\n",
    "    - How sensitive is the solution to changes in the initial conditions/parameters?\n",
    "- **numerical methods**\n",
    "    - e.g. Hamiltonian Monte Carlo\n",
    "- **parameter inference & control**\n",
    "    - What parameters match the observed data?\n",
    "    - How can I drive the solution to a certain state?\n",
    "    \n",
    "    \n",
    "**$\\rightarrow$ easy when analytical solution is available! here: assume only access to a computer program**   "
   ]
  },
  {
   "cell_type": "code",
   "execution_count": null,
   "id": "c0bd367e-383b-4804-9fc7-4839737312a9",
   "metadata": {
    "tags": []
   },
   "outputs": [],
   "source": [
    "# Different   sensitivity methods\n",
    "p0 = [1.0, 0.5, 1.2, 1.6]\n",
    "FiniteDiff.finite_difference_gradient(loss, p0)"
   ]
  },
  {
   "cell_type": "code",
   "execution_count": null,
   "id": "579560d6",
   "metadata": {},
   "outputs": [],
   "source": [
    "ForwardDiff.gradient(loss, p0) # forward-mode AD"
   ]
  },
  {
   "cell_type": "code",
   "execution_count": null,
   "id": "4867995e",
   "metadata": {},
   "outputs": [],
   "source": [
    "Zygote.gradient(loss, p0)[1] # reverse-mode AD "
   ]
  },
  {
   "cell_type": "markdown",
   "id": "0acb9bd8",
   "metadata": {
    "slideshow": {
     "slide_type": "subslide"
    }
   },
   "source": [
    "## A lot is happening under the hood!"
   ]
  },
  {
   "cell_type": "markdown",
   "id": "2a769fc1",
   "metadata": {},
   "source": [
    "## Different modes of sensitivity analysis for DEs\n",
    "\n",
    "2 main ways of differentiating solutions of DEs:\n",
    "\n",
    "- **discretize-then-differentiate** (AD on solver operations) \\\n",
    "  “exact gradient of the approximation”\n",
    "  \n",
    "- **differentiate-then-discretize** (custom rules) \\\n",
    "  “approximation of the exact gradient”\n",
    "\n",
    "... with two modes each (forward/tangent and reverse/adjoint)\\\n",
    "  $\\rightarrow$ optimal choice depends on number of states/parameters and system properties\n",
    "  \n",
    "No method fits all purposes!\n",
    "\n",
    "- small number of parameters (<100) $\\rightarrow$ forward mode\n",
    "- large number of parameters $\\rightarrow$ reverse mode"
   ]
  },
  {
   "cell_type": "markdown",
   "id": "9d1d07ba",
   "metadata": {
    "slideshow": {
     "slide_type": "subslide"
    }
   },
   "source": [
    "## Options in SciML\n",
    "\n",
    "| Method              | Stability     | Performance Regime | Memory Usage    | GPU-compatible |\n",
    "|---------------------|-------------- |--------------------|---------------- |----------------|\n",
    "| `BacksolveAdjoint`| Poor | Good performance on special non-stiff DEs | Low. O(1)    | Yes |\n",
    "| `InterpolatingAdjoint` | Good | Good performance on most ODEs | High. Requires full continuous solution of forward | Yes|\n",
    "| `QuadratureAdjoint` | Good | Good performance on sufficiently small DEs which are not memory-bound | Highest. Requires full continuous solution of forward and adjoint | No  |\n",
    "| `BacksolveAdjoint` (checkpointed)| Okay | Good performance on special non-stiff DEs | Medium. O(c) where c is the number of checkpoints | Yes  |\n",
    "| `InterpolatingAdjoint`(checkpointed) | Good        | Good                | Medium. O(c) where c is the number of checkpoints        | Yes            |\n",
    "| `ReverseDiffAdjoint`   | Best        | Good             | High. Requires full forward and reverse AD of solve | No (alternative: `TrackerAdjoint`) |\n",
    "\n",
    "- Very soon: `GaussAdjoint`, similar to `QuadratureAdjoint` but GPU compatible and memory efficient! \\\n",
    "(Joint work with Alex Cohen, Avik Pal, and Chris Rackauckas)\n"
   ]
  },
  {
   "cell_type": "markdown",
   "id": "68bb3938",
   "metadata": {
    "slideshow": {
     "slide_type": "slide"
    }
   },
   "source": [
    "## Parameter inference"
   ]
  },
  {
   "cell_type": "code",
   "execution_count": null,
   "id": "b531a316",
   "metadata": {},
   "outputs": [],
   "source": [
    "losses = Float64[]\n",
    "\n",
    "callback = function (p, l)\n",
    "    push!(losses, l)\n",
    "    if length(losses) % 50 == 0\n",
    "        println(\"Current loss after $(length(losses)) iterations: $(losses[end])\")\n",
    "    end\n",
    "    return false\n",
    "end"
   ]
  },
  {
   "cell_type": "code",
   "execution_count": null,
   "id": "5111aaa1",
   "metadata": {},
   "outputs": [],
   "source": [
    "adtype = Optimization.AutoZygote()\n",
    "optf = Optimization.OptimizationFunction((x, p) -> loss(x), adtype)\n",
    "optprob = Optimization.OptimizationProblem(optf, p0)\n",
    "\n",
    "# Train with Adam\n",
    "res1 = Optimization.solve(optprob, ADAM(), callback=callback, maxiters=10000)"
   ]
  },
  {
   "cell_type": "code",
   "execution_count": null,
   "id": "beccaa67",
   "metadata": {
    "scrolled": true
   },
   "outputs": [],
   "source": [
    "# true p arame ters\n",
    "p_   "
   ]
  },
  {
   "cell_type": "markdown",
   "id": "57cedadf",
   "metadata": {
    "slideshow": {
     "slide_type": "slide"
    }
   },
   "source": [
    "## Model selection & discovery"
   ]
  },
  {
   "cell_type": "markdown",
   "id": "cdf34126",
   "metadata": {},
   "source": [
    "### Universal Differential Equations (UDEs)\n",
    "\n",
    "- use a neural network (NN) as a universal function approximator inside a DE  \n",
    "\n",
    "### Modified predator-prey model\n",
    "\n",
    "$$\n",
    "\\begin{align*}\n",
    "\\frac{d\\text{🐇}}{dt} &= \\alpha \\text{🐇} + NN_\\theta(\\text{🐇}, \\text{🐺})[1] \\\\\n",
    "\\frac{d\\text{🐺}}{dt} &= -\\delta \\text{🐺} + NN_\\theta(\\text{🐇}, \\text{🐺})[2]\n",
    "\\end{align*}\n",
    "$$\n",
    "\n",
    "where\n",
    "- 🐇 represents the population of prey.\n",
    "- 🐺 represents the population of predators.\n",
    "- α and δ as before, $NN_\\theta$ with parameters $\\theta$ to model unknown interaction between predator and prey.\n",
    "\n"
   ]
  },
  {
   "cell_type": "markdown",
   "id": "b35615a0",
   "metadata": {
    "slideshow": {
     "slide_type": "subslide"
    }
   },
   "source": [
    "### Neural networks in Julia using [Lux.jl](https://lux.csail.mit.edu/)\n"
   ]
  },
  {
   "cell_type": "code",
   "execution_count": null,
   "id": "8c5d558c",
   "metadata": {},
   "outputs": [],
   "source": [
    "rbf(x) = exp.(-(x .^ 2))\n",
    "\n",
    "# Multilayer FeedForward\n",
    "const U = Lux.Chain(Lux.Dense(2, 5, rbf), Lux.Dense(5, 5, rbf), Lux.Dense(5, 5, rbf),\n",
    "              Lux.Dense(5, 2))\n",
    "# Get the initial parameters and state variables of the model\n",
    "p, st = Lux.setup(rng, U)\n",
    "const _st = st"
   ]
  },
  {
   "cell_type": "code",
   "execution_count": null,
   "id": "40919093",
   "metadata": {},
   "outputs": [],
   "source": [
    "# Define the UDE model\n",
    "function ude_dynamics!(du, u, p, t, p_true)\n",
    "    û = U(u, p, _st)[1] # neural network prediction\n",
    "    du[1] = p_true[1] * u[1] + û[1]\n",
    "    du[2] = -p_true[4] * u[2] + û[2]\n",
    "end\n",
    "\n",
    "# Closure with the known parameter\n",
    "ude_dynamics!(du, u, p, t) = ude_dynamics!(du, u, p, t, p_)\n",
    "# Define the problem\n",
    "prob_nn = ODEProblem(ude_dynamics!, u0, tspan, p)"
   ]
  },
  {
   "cell_type": "code",
   "execution_count": null,
   "id": "772b4e4c",
   "metadata": {
    "slideshow": {
     "slide_type": "subslide"
    }
   },
   "outputs": [],
   "source": [
    "# Setting up the training loop\n",
    "function predict(θ)\n",
    "    _prob = remake(prob_nn, p = θ)\n",
    "    _sol = solve(_prob, Vern7(), saveat = t, abstol = 1e-6, reltol = 1e-6, sensealg=QuadratureAdjoint(autojacvec=ReverseDiffVJP(true)))\n",
    "    Array(_sol)\n",
    "end\n",
    "\n",
    "function loss(θ)\n",
    "    X̂ = predict(θ)\n",
    "    mean(abs2, Xdata .- X̂)\n",
    "end"
   ]
  },
  {
   "cell_type": "code",
   "execution_count": null,
   "id": "64ed6922",
   "metadata": {
    "slideshow": {
     "slide_type": "subslide"
    }
   },
   "outputs": [],
   "source": [
    "# Run the training process!\n",
    "losses = Float64[]\n",
    "\n",
    "adtype = Optimization.AutoZygote()\n",
    "optf = Optimization.OptimizationFunction((x, p) -> loss(x), adtype)\n",
    "optprob = Optimization.OptimizationProblem(optf, ComponentVector{Float64}(p))\n",
    "\n",
    "\n",
    "res1 = Optimization.solve(optprob, ADAM(), callback = callback, maxiters = 5000)\n",
    "println(\"Training loss after $(length(losses)) iterations: $(losses[end])\") "
   ]
  },
  {
   "cell_type": "markdown",
   "id": "88cd7983",
   "metadata": {
    "slideshow": {
     "slide_type": "subslide"
    }
   },
   "source": [
    "## Common strategy:\n",
    "\n",
    "- use the optimization result of the first run with Adam as the initial condition of a second optimization with (L)BFGS!"
   ]
  },
  {
   "cell_type": "code",
   "execution_count": null,
   "id": "b431ccbd",
   "metadata": {},
   "outputs": [],
   "source": [
    "optprob2 = Optimization.OptimizationProblem(optf, res1.u)\n",
    "res2 = Optimization.solve(optprob2, Optim.LBFGS(), callback = callback, maxiters = 1000)\n",
    "println(\"Final training loss after $(length(losses)) iterations: $(losses[end])\")\n",
    "\n",
    "# Rename the best candidate\n",
    "p_trained = res2.u"
   ]
  },
  {
   "cell_type": "markdown",
   "id": "e6ca6e35",
   "metadata": {
    "slideshow": {
     "slide_type": "subslide"
    }
   },
   "source": [
    "## Visualizing the trained UDE"
   ]
  },
  {
   "cell_type": "code",
   "execution_count": null,
   "id": "20db79a6",
   "metadata": {},
   "outputs": [],
   "source": [
    "# Plot the losses\n",
    "pl_losses = plot(1:5000, losses[1:5000], yaxis = :log10, xaxis = :log10, label = \"ADAM\", color = :blue)\n",
    "plot!(5001:length(losses), losses[5001:end], yaxis = :log10, xaxis = :log10,\n",
    "      xlabel = \"iterations\", ylabel = \"loss\", label = \"BFGS\", color = :red)"
   ]
  },
  {
   "cell_type": "code",
   "execution_count": null,
   "id": "b50531c3",
   "metadata": {},
   "outputs": [],
   "source": [
    "## Analysis of the trained network\n",
    "# Plot the data and the approximation\n",
    "X̂ = predict(p_trained)\n",
    "# Trained on noisy data vs real solution\n",
    "pl_trajectory = plot(t, transpose(X̂), xlabel = \"time\", ylabel = \"population size\", color = :red,\n",
    "                     label = [\"UDE approximation\" nothing])\n",
    "scatter!(solution.t, transpose(Xdata), color = :black, label = [\"measurements\" nothing])\n",
    "\n",
    "# Ideal unknown interactions of the predictor\n",
    "Ȳ = [-p_[2] * (X̂[1, :] .* X̂[2, :])'; p_[3] * (X̂[1, :] .* X̂[2, :])']\n",
    "# Neural network guess\n",
    "Ŷ = U(X̂, p_trained, st)[1]\n",
    "\n",
    "pl_reconstruction = plot(t, transpose(Ŷ), xlabel = \"time\", ylabel = \"interaction terms\", color = :red,\n",
    "                         label = [\"UDE approximation\" nothing])\n",
    "plot!(t, transpose(Ȳ), color = :black, label = [\"true interaction\" nothing])\n",
    "\n",
    "# Plot the error\n",
    "pl_reconstruction_error = plot(t, norm.(eachcol(Ȳ - Ŷ)), yaxis = :log, xlabel = \"time\",\n",
    "                               ylabel = \"L2-error\", label = nothing, color = :red)\n",
    "pl_missing = plot(pl_reconstruction, pl_reconstruction_error, layout = (2, 1))\n",
    "\n",
    "pl_overall = plot(pl_trajectory, pl_missing)"
   ]
  },
  {
   "cell_type": "markdown",
   "id": "646a47ce",
   "metadata": {
    "slideshow": {
     "slide_type": "slide"
    }
   },
   "source": [
    "## Can we get a symbolic representation for the missing equations?\n",
    "\n",
    "- We will use [DataDrivenDiffEq.jl](https://docs.sciml.ai/DataDrivenDiffEq/stable/). \n",
    "- To do this, we first generate a symbolic basis $\\Phi$ that represents the space of mechanistic functions we believe this neural network $NN_\\theta$ should map to."
   ]
  },
  {
   "cell_type": "code",
   "execution_count": null,
   "id": "59f44cd3",
   "metadata": {},
   "outputs": [],
   "source": [
    "@variables u[1:2]\n",
    "b = polynomial_basis(u, 4)\n",
    "basis = Basis(b, u);"
   ]
  },
  {
   "cell_type": "markdown",
   "id": "7552bcd7",
   "metadata": {
    "slideshow": {
     "slide_type": "subslide"
    }
   },
   "source": [
    "- To assess the capability of the sparse regression, we look at 3 cases:\n",
    "\n",
    "    - Full problem: What if we trained no neural network and tried to automatically uncover the equations from the original noisy data? \\\n",
    "    $\\rightarrow$ Structural identification of dynamical systems (SINDy) \n",
    "    \n",
    "    $$ \\min_{\\phi} \\sum_i \\left(\\frac{u_{i + 1} - u_i}{\\Delta t_i} - \\phi \\cdot \\Phi(u_i)\\right)^2 + \\| \\phi \\|_1, $$\n",
    "    where, for example,\n",
    "    $$\n",
    "    \\Phi(u) = [1, \\text{🐇}, \\text{🐺}, \\text{🐇}^2, \\text{🐇}\\text{🐺}, \\text{🐺}^2, \\dots, \\text{🐺}^n, \\sin(\\text{🐇}), \\cos(\\text{🐺}), \\dots]\n",
    "    $$\n",
    "    - Ideal problem: What if we use the **ideal right-hand side missing derivative function** $f(u)$?\n",
    "    \n",
    "    $$ \\min_{\\phi} \\sum_i \\left(f(u_i) - \\phi \\cdot \\Phi(u_i)\\right)^2 + \\| \\phi \\|_1$$\n",
    "    \n",
    "    - **NN problem: Do the symbolic regression directly on the function $NN(u)$, i.e. the trained learned neural network**\n",
    "    \n",
    "    $$ \\min_{\\phi} \\sum_i \\left(NN_\\theta(u_i) - \\phi \\cdot \\Phi(u_i)\\right)^2 + \\| \\phi \\|_1$$"
   ]
  },
  {
   "cell_type": "code",
   "execution_count": null,
   "id": "958e8d21",
   "metadata": {},
   "outputs": [],
   "source": [
    "# full_problem = ContinuousDataDrivenProblem(Xdata, t) # noisy data\n",
    "# X̂ = predict(p_trained)\n",
    "ideal_problem = DirectDataDrivenProblem(X̂, Ȳ) # Ȳ = [-p_[2] * (X̂[1, :] .* X̂[2, :])'; p_[3] * (X̂[1, :] .* X̂[2, :])']\n",
    "nn_problem = DirectDataDrivenProblem(X̂, Ŷ) # Ŷ = U(X̂, p_trained, st)[1]"
   ]
  },
  {
   "cell_type": "markdown",
   "id": "66449718",
   "metadata": {
    "slideshow": {
     "slide_type": "subslide"
    }
   },
   "source": [
    "## Methods for sparse regression\n",
    "\n",
    "\n",
    "We will use the ADMM method, which requires we define a set of shrinking cutoff values λ"
   ]
  },
  {
   "cell_type": "code",
   "execution_count": null,
   "id": "60e2154b",
   "metadata": {},
   "outputs": [],
   "source": [
    "λ = exp10.(-3:0.01:3)\n",
    "opt = ADMM(λ)"
   ]
  },
  {
   "cell_type": "markdown",
   "id": "a8950a8e",
   "metadata": {},
   "source": [
    "... but there are many more methods. Have a look at the [DataDrivenDiffEq.jl documentation](https://docs.sciml.ai/DataDrivenDiffEq/stable/)!"
   ]
  },
  {
   "cell_type": "code",
   "execution_count": null,
   "id": "2d3a7a5c",
   "metadata": {
    "slideshow": {
     "slide_type": "skip"
    }
   },
   "outputs": [],
   "source": [
    "# options = DataDrivenCommonOptions(maxiters = 10_000,\n",
    "#                                   normalize = DataNormalization(ZScoreTransform),\n",
    "#                                   selector = bic, digits = 1,\n",
    "#                                   data_processing = DataProcessing(split = 0.9,\n",
    "#                                                                    batchsize = 30,\n",
    "#                                                                    shuffle = true,\n",
    "#                                                                    rng = StableRNG(1111)))\n",
    "\n",
    "# full_res = solve(full_problem, basis, opt, options = options)\n",
    "# full_eqs = get_basis(full_res)\n",
    "# println(full_res)"
   ]
  },
  {
   "cell_type": "code",
   "execution_count": null,
   "id": "45dc7521",
   "metadata": {
    "slideshow": {
     "slide_type": "subslide"
    }
   },
   "outputs": [],
   "source": [
    "options = DataDrivenCommonOptions(maxiters = 10_000,\n",
    "                                  normalize = DataNormalization(ZScoreTransform),\n",
    "                                  selector = bic, digits = 1,\n",
    "                                  data_processing = DataProcessing(split = 0.9,\n",
    "                                                                   batchsize = 30,\n",
    "                                                                   shuffle = true,\n",
    "                                                                   rng = StableRNG(1111)))\n",
    "\n",
    "ideal_res = solve(ideal_problem, basis, opt, options = options)\n",
    "ideal_eqs = get_basis(ideal_res)\n",
    "println(ideal_res)"
   ]
  },
  {
   "cell_type": "code",
   "execution_count": null,
   "id": "9cef074b",
   "metadata": {
    "slideshow": {
     "slide_type": "subslide"
    }
   },
   "outputs": [],
   "source": [
    "options = DataDrivenCommonOptions(maxiters = 10_000,\n",
    "                                  normalize = DataNormalization(ZScoreTransform),\n",
    "                                  selector = bic, digits = 1,\n",
    "                                  data_processing = DataProcessing(split = 0.8,\n",
    "                                                                   batchsize = 30,\n",
    "                                                                   shuffle = true,\n",
    "                                                                   rng = StableRNG(1111)))\n",
    "\n",
    "nn_res = solve(nn_problem, basis, opt, options = options)\n",
    "nn_eqs = get_basis(nn_res)\n",
    "println(nn_res)"
   ]
  },
  {
   "cell_type": "code",
   "execution_count": null,
   "id": "f140687e",
   "metadata": {
    "slideshow": {
     "slide_type": "subslide"
    }
   },
   "outputs": [],
   "source": [
    "for eqs in (ideal_eqs, nn_eqs)\n",
    "    println(eqs)\n",
    "    println(get_parameter_map(eqs))\n",
    "    println()\n",
    "end"
   ]
  },
  {
   "cell_type": "markdown",
   "id": "1a6d1acb",
   "metadata": {
    "slideshow": {
     "slide_type": "slide"
    }
   },
   "source": [
    "## Do predictions using our discovered model \n",
    "\n",
    "To do so, we embed the basis into a function like before:"
   ]
  },
  {
   "cell_type": "code",
   "execution_count": null,
   "id": "d7e23cc1",
   "metadata": {
    "scrolled": true
   },
   "outputs": [],
   "source": [
    "# Define the recovered, hybrid model\n",
    "function recovered_dynamics!(du, u, p, t)\n",
    "    û = nn_eqs(u, p) # Recovered equations\n",
    "    du[1] = p_[1] * u[1] + û[1]\n",
    "    du[2] = -p_[4] * u[2] + û[2]\n",
    "end\n",
    "\n",
    "estimation_prob = ODEProblem(recovered_dynamics!, u0, tspan, get_parameter_values(nn_eqs))\n",
    "est_solution = solve(estimation_prob, Tsit5(), saveat = solution.t)\n",
    "\n",
    "# Plot\n",
    "pl = plot(legend=true, xlabel=\"time\", ylabel=\"population size\")\n",
    "plot!(pl, solution.t, [u[1] for u in solution.u], color=:red, linewidth=2.5, style=:dash, label = \"true\")\n",
    "plot!(pl, solution.t, [u[2] for u in solution.u], color=:blue, linewidth=2.5, style=:dash, label = \"true\")\n",
    "plot!(pl, est_solution.t, [u[1] for u in est_solution.u], color=:red, linewidth=2.5, label = \"est\")\n",
    "plot!(pl, est_solution.t, [u[2] for u in est_solution.u], color=:blue, linewidth=2.5, label = \"est\")    "
   ]
  },
  {
   "cell_type": "markdown",
   "id": "864897a5",
   "metadata": {
    "slideshow": {
     "slide_type": "slide"
    }
   },
   "source": [
    "## Fine tune the parameters \n",
    "\n",
    "- minimizing the residuals between the UDE predictor and our recovered parametrized equations"
   ]
  },
  {
   "cell_type": "code",
   "execution_count": null,
   "id": "9537c1d7",
   "metadata": {},
   "outputs": [],
   "source": [
    "function parameter_loss(p)\n",
    "    Y = reduce(hcat, map(Base.Fix2(nn_eqs, p), eachcol(X̂)))\n",
    "    sum(abs2, Ŷ .- Y)\n",
    "end\n",
    "\n",
    "optf = Optimization.OptimizationFunction((x, p) -> parameter_loss(x), adtype)\n",
    "optprob = Optimization.OptimizationProblem(optf, get_parameter_values(nn_eqs))\n",
    "parameter_res = Optimization.solve(optprob, Optim.LBFGS(), maxiters = 1000)\n",
    "\n",
    "# Check how this extrapolates!"
   ]
  },
  {
   "cell_type": "code",
   "execution_count": null,
   "id": "96d8eba9",
   "metadata": {},
   "outputs": [],
   "source": [
    "p_"
   ]
  },
  {
   "cell_type": "markdown",
   "id": "a20b9a74",
   "metadata": {
    "slideshow": {
     "slide_type": "slide"
    }
   },
   "source": [
    "## Stochastic optimal control\n",
    "\n",
    "### Task \n",
    "- control the population size of 🐺 and 🐇\n",
    "\n",
    "### Stochastic predator-prey model\n",
    "\n",
    "- Model: Flemming Holtorf, Christopher Rackauckas, arXiv:2211.15652 \n",
    "\n",
    "$$\n",
    "\\begin{align*}\n",
    "d\\text{🐇} &= (\\alpha \\text{🐇} - \\beta \\text{🐇} \\text{🐺}) dt + \\eta \\text{🐇} \\circ dW_t \\\\\n",
    "d\\text{🐺} &= (-\\delta \\text{🐺} + \\gamma \\text{🐇} \\text{🐺} - NN_\\theta(\\text{🐇},\\text{🐺}) \\text{🐺}) dt\n",
    "\\end{align*}\n",
    "$$\n",
    "\n",
    "where\n",
    "- 🐇 represents the population of prey.\n",
    "- 🐺 represents the population of predators.\n",
    "- α, β, γ, and δ are parameters governing the interactions between the prey and predator populations.\n",
    "- $\\eta \\text{🐇} \\circ dW_t$ is a Brownian motion modeling the effect of presence/absence of a secondary predator species.\n",
    "- $NN_\\theta$ is the parametrized controller and confined to [0, 1]."
   ]
  },
  {
   "cell_type": "code",
   "execution_count": null,
   "id": "547e2b40",
   "metadata": {
    "slideshow": {
     "slide_type": "subslide"
    }
   },
   "outputs": [],
   "source": [
    "# Define the experimental parameter\n",
    "tspan = (0.0, 5.0)\n",
    "u0 = [1.0, 0.25] \n",
    "p_ = [1, 2, 2, 1, 0.25 * 0.1]\n",
    "\n",
    "# Define controller\n",
    "const C = Lux.Chain(Lux.Dense(2, 64, relu), Lux.Dense(64, 1, sigmoid))\n",
    "# Get the initial parameters and state variables of the model\n",
    "p, st = Lux.setup(rng, C)\n",
    "const _Cst = st"
   ]
  },
  {
   "cell_type": "code",
   "execution_count": null,
   "id": "8f51a5d7",
   "metadata": {
    "slideshow": {
     "slide_type": "subslide"
    }
   },
   "outputs": [],
   "source": [
    "# Define the UDE model\n",
    "function ude_drift!(du, u, p, t, p_true)\n",
    "    ĉ = C(u, p, _Cst)[1] # neural network prediction\n",
    "    🐇, 🐺 = u\n",
    "    α, β, γ, δ = p_true\n",
    "    du[1] = α * 🐇 - β * 🐇 * 🐺\n",
    "    du[2] = -δ * 🐺 + γ * 🐇 * 🐺 - ĉ[1] * 🐺\n",
    "end\n",
    "\n",
    "function ude_diffusion!(du, u, p, t, p_true)\n",
    "    🐇, 🐺 = u\n",
    "    η = p_true[end]\n",
    "    du[1] = η * 🐇\n",
    "    du[2] = 0\n",
    "end\n",
    "\n",
    "# Closure with the known parameter\n",
    "ude_drift!(du, u, p, t) = ude_drift!(du, u, p, t, p_)\n",
    "ude_diffusion!(du, u, p, t) = ude_diffusion!(du, u, p, t, p_)"
   ]
  },
  {
   "cell_type": "markdown",
   "id": "985e1d29",
   "metadata": {
    "slideshow": {
     "slide_type": "subslide"
    }
   },
   "source": [
    "## Randomly initialized controller"
   ]
  },
  {
   "cell_type": "code",
   "execution_count": null,
   "id": "d92578f9",
   "metadata": {
    "scrolled": true,
    "slideshow": {
     "slide_type": "-"
    }
   },
   "outputs": [],
   "source": [
    "# Define the problem\n",
    "prob_nn = SDEProblem(ude_drift!, ude_diffusion!, u0, tspan, p)\n",
    "prob = EnsembleProblem(prob_nn)\n",
    "\n",
    "sol = solve(\n",
    "    EnsembleProblem(SDEProblem(ude_drift!, ude_diffusion!, u0, (0, 10), p)),\n",
    "    EulerHeun(), dt=0.01, trajectories=100)\n",
    "\n",
    "function plot_ensemble(sol)\n",
    "    pl = plot(legend=false, xlabel=\"time\", ylabel=\"population size\")\n",
    "    for s in sol\n",
    "        plot!(pl, s.t, [u[1] for u in s.u], color=:red, linewidth=0.5)\n",
    "        plot!(pl, s.t, [u[2] for u in s.u], color=:blue, linewidth=0.5)\n",
    "    end\n",
    "    plot!(pl, [tspan[1], 10], [0.75, 0.75], style=:dash, color=:black, linewidth=2.5)\n",
    "    plot!(pl, [tspan[1], 10], [0.5, 0.5], style=:dash, color=:black, linewidth=2.5)\n",
    "    pl\n",
    "end\n",
    "\n",
    "plot_ensemble(sol)"
   ]
  },
  {
   "cell_type": "markdown",
   "id": "a943cdbc",
   "metadata": {
    "slideshow": {
     "slide_type": "subslide"
    }
   },
   "source": [
    "### Choose stage cost\n",
    "\n",
    "$$\n",
    "\\begin{align*}\n",
    "l(\\text{🐇},\\text{🐺}, NN_\\theta) &= (\\text{🐇} - 0.75)^2 + (\\text{🐺} - 0.5)^2 + \\frac{(NN_\\theta(\\text{🐇}, \\text{🐺}) - 0.5)^2}{5}\n",
    "\\end{align*}\n",
    "$$"
   ]
  },
  {
   "cell_type": "code",
   "execution_count": null,
   "id": "4badecc6",
   "metadata": {},
   "outputs": [],
   "source": [
    "# Setting up the training loop\n",
    "function predict(θ)\n",
    "    _prob = remake(prob_nn, p=θ)\n",
    "    sol = solve(EnsembleProblem(_prob), EulerHeun(), dt=0.01, sensealg=BacksolveAdjoint(autojacvec=ReverseDiffVJP()), trajectories=10)\n",
    "    A = convert(Array, sol)\n",
    "end\n",
    "\n",
    "function loss(θ)\n",
    "    X̂ = predict(θ)\n",
    "\n",
    "    # dim = (#time steps, #trajectories)\n",
    "    cs = @view (C(X̂, θ, _Cst)[1])[1, :, :]\n",
    "    🐇s = @view X̂[1, :, :]\n",
    "    🐺s = @view X̂[2, :, :]\n",
    "\n",
    "    # stagecost\n",
    "    sum((🐇s .- 0.75) .^ 2 + (🐺s .- 0.5) .^ 2 + (cs .- 0.5) .^ 2 / 5)/10\n",
    "end"
   ]
  },
  {
   "cell_type": "code",
   "execution_count": null,
   "id": "b22d63e7",
   "metadata": {
    "slideshow": {
     "slide_type": "subslide"
    }
   },
   "outputs": [],
   "source": [
    "# Run the training process!\n",
    "losses = Float64[]\n",
    "\n",
    "callback = function (p, l)\n",
    "    push!(losses, l)\n",
    "    if length(losses) % 50 == 0\n",
    "        sol = solve(\n",
    "            EnsembleProblem(SDEProblem(ude_drift!, ude_diffusion!, u0, (0, 10), p)),\n",
    "            EulerHeun(), dt=0.01, trajectories=100)\n",
    "        display(plot_ensemble(sol))\n",
    "        println(\"Current loss after $(length(losses)) iterations: $(losses[end])\")\n",
    "    end\n",
    "    return false\n",
    "end\n",
    "\n",
    "adtype = Optimization.AutoZygote()\n",
    "optf = Optimization.OptimizationFunction((x, p) -> loss(x), adtype)\n",
    "optprob = Optimization.OptimizationProblem(optf, ComponentVector{Float64}(p))"
   ]
  },
  {
   "cell_type": "markdown",
   "id": "953e5e74",
   "metadata": {
    "slideshow": {
     "slide_type": "subslide"
    }
   },
   "source": [
    "## Optimized controller"
   ]
  },
  {
   "cell_type": "code",
   "execution_count": null,
   "id": "2be27103",
   "metadata": {
    "scrolled": false
   },
   "outputs": [],
   "source": [
    "res = Optimization.solve(optprob, ADAM(), callback=callback, maxiters=500)\n",
    "println(\"Training loss after $(length(losses)) iterations: $(losses[end])\")\n",
    "\n",
    "\n",
    "sol = solve(\n",
    "    EnsembleProblem(SDEProblem(ude_drift!, ude_diffusion!, u0, (0,10), res.u)),\n",
    "    EulerHeun(), dt=0.01, trajectories=100)\n",
    "\n",
    "plot_ensemble(sol)"
   ]
  },
  {
   "cell_type": "markdown",
   "id": "0f8929fe",
   "metadata": {
    "slideshow": {
     "slide_type": "slide"
    }
   },
   "source": [
    "## Current research and developments\n",
    "\n",
    "## I) Shadowing methods for chaotic systems\n",
    "\n",
    "- Compute derivatives for long-time averaged quantities of solutions to chaotic systems\n",
    "- Lorenz system\n",
    "\n",
    "$$\n",
    "\\begin{align*}\n",
    "\\frac{dx}{dt} &= 10(y - x) \\\\\n",
    "\\frac{dy}{dt} &= x(\\rho - z) - y \\\\\n",
    "\\frac{dz}{dt} &= xy - \\frac{8}{3}z\n",
    "\\end{align*}\n",
    "$$"
   ]
  },
  {
   "cell_type": "code",
   "execution_count": null,
   "id": "1da78517",
   "metadata": {
    "slideshow": {
     "slide_type": "subslide"
    }
   },
   "outputs": [],
   "source": [
    "# simulate a trajectory of the Lorenz system forward\n",
    "function lorenz!(du,u,p,t)\n",
    "  du[1] = 10*(u[2]-u[1])\n",
    "  du[2] = u[1]*(p[1]-u[3]) - u[2]\n",
    "  du[3] = u[1]*u[2] - (8//3)*u[3]\n",
    "end\n",
    "\n",
    "p = [28.0]\n",
    "tspan_init = (0.0, 30.0)\n",
    "tspan_attractor = (30.0, 50.0)\n",
    "u0 = [0.1, 0.5, 0.4]\n",
    "prob_init = ODEProblem(lorenz!, u0, tspan_init, p)\n",
    "sol_init = solve(prob_init, Tsit5())\n",
    "prob_attractor = ODEProblem(lorenz!, sol_init[end], tspan_attractor, p)\n",
    "sol_attractor = solve(prob_attractor, Vern9(), abstol=1e-14, reltol=1e-14)\n",
    "\n",
    "pl1 = plot(sol_attractor, idxs=(1,2,3), legend=true,\n",
    "  label=false,\n",
    "  labelfontsize=20,\n",
    "  lw=2,\n",
    "  xlabel=L\"x\", ylabel=L\"y\", zlabel=L\"z\",\n",
    "  xlims=(-25,30),ylims=(-30,30),zlims=(5,49)\n",
    " )"
   ]
  },
  {
   "cell_type": "markdown",
   "id": "70c9fac8",
   "metadata": {
    "slideshow": {
     "slide_type": "subslide"
    }
   },
   "source": [
    "## \"Butterfly effect\""
   ]
  },
  {
   "cell_type": "code",
   "execution_count": null,
   "id": "8f308996",
   "metadata": {
    "slideshow": {
     "slide_type": "-"
    }
   },
   "outputs": [],
   "source": [
    "prob_attractor1 = ODEProblem(lorenz!, sol_init[end], (0.0, 20.0), p)\n",
    "prob_attractor2 = ODEProblem(lorenz!, convert.(Float32, sol_init[end]), (0f0, 20f0), convert.(Float32,p))\n",
    "sol1 = solve(prob_attractor1, Tsit5(), abstol=1e-6, reltol=1e-6, saveat=0.01)\n",
    "sol2 = solve(prob_attractor2, Tsit5(), abstol=1f-6, reltol=1f-6, saveat=0.01f0)\n",
    "\n",
    "plt1 = plot(sol1, idxs=(1,2,3), denseplot=true, legend=true,\n",
    "     label=\"Float64\", labelfontsize=20, lw=2,\n",
    "     xlabel=L\"x\", ylabel=L\"y\", zlabel=L\"z\",\n",
    "     xlims=(-20,25),ylims=(-28,25),zlims=(5,48))\n",
    "plot!(plt1, sol2,idxs=(1,2,3), denseplot=true, label=\"Float32\",\n",
    "     xlims=(-20,25),ylims=(-28,25),zlims=(5,48))"
   ]
  },
  {
   "cell_type": "markdown",
   "id": "87b22e2e",
   "metadata": {
    "slideshow": {
     "slide_type": "subslide"
    }
   },
   "source": [
    "## Long-time averaged quantities\n",
    "\n",
    "$$\n",
    "\\begin{align*}\n",
    "      \\langle g(\\theta) \\rangle_\\infty = \\lim_{T \\rightarrow \\infty} \\langle g(\\theta)\\rangle_T,\n",
    "\\end{align*}\n",
    "$$\n",
    "where\n",
    "$$\n",
    "\\begin{align*}\n",
    "      \\langle g(\\theta) \\rangle_T = \\frac 1 T \\int_0^T g(u(t),\\theta)~ dt,\n",
    "\\end{align*}\n",
    "$$\n",
    "\n",
    "\n",
    "- Ergodicity $\\rightarrow$ $\\langle g(\\theta) \\rangle_\\infty$ depends only on $\\theta$.\n",
    "- Consider $\\langle z \\rangle_T$ for large $T$."
   ]
  },
  {
   "cell_type": "code",
   "execution_count": null,
   "id": "b03813f2",
   "metadata": {
    "slideshow": {
     "slide_type": "subslide"
    }
   },
   "outputs": [],
   "source": [
    "function compute_objective(sol)\n",
    "    quadgk(t -> sol(t)[end]/(tspan_attractor[2]-tspan_attractor[1]), tspan_attractor[1], tspan_attractor[2], atol=1e-14, rtol=1e-10)[1]\n",
    "end\n",
    "\n",
    "pl2 = plot(sol_attractor.t, getindex.(sol_attractor.u,3), ylabel=L\"z(t)\", xlabel=L\"t\", label=false, labelfontsize=20, lw = 2)\n",
    "mean_z = [mean(getindex.(sol_attractor.u,3))]\n",
    "int_z = compute_objective(sol_attractor)\n",
    "hline!(pl2, [int_z], label=L\"\\langle z\\rangle\", lw = 2)\n",
    "# for each value of the parameter, solve 20 times the initial value problem\n",
    "# wrap the procedure inside a function depending on p\n",
    "function Lorenz_solve(p)\n",
    "    u0 = rand(3)\n",
    "    prob_init = ODEProblem(lorenz!, u0, tspan_init, p)\n",
    "    sol_init = solve(prob_init, Tsit5())\n",
    "    prob_attractor = ODEProblem(lorenz!, sol_init[end], tspan_attractor, p)\n",
    "    sol_attractor = solve(prob_attractor, Vern9(), abstol=1e-14, reltol=1e-14)\n",
    "    sol_attractor, prob_attractor\n",
    "end\n",
    "\n",
    "Niter = 5\n",
    "ps = collect(10.0:1.0:50.0)\n",
    "probs = []\n",
    "sols = []\n",
    "zmean = []\n",
    "zstd = []\n",
    "for ρ in ps\n",
    "  ztmp = []\n",
    "  for i=1:Niter\n",
    "    sol, prob = Lorenz_solve([ρ])\n",
    "    zbar = compute_objective(sol)\n",
    "    push!(sols, sol)\n",
    "    push!(probs, prob)\n",
    "    push!(ztmp, zbar)\n",
    "  end\n",
    "  push!(zmean, mean(ztmp))\n",
    "  push!(zstd, std(ztmp))\n",
    "end\n",
    "\n",
    "pl3 = plot(ps, zmean, ribbon=zstd, ylabel=L\"\\langle z\\rangle\", xlabel=L\"\\rho\", legend=false, labelfontsize=20, lw = 2)\n",
    "pl4 = plot(pl2, pl3, margin=3Plots.mm, layout=(1, 2), size=(600, 300))"
   ]
  },
  {
   "cell_type": "markdown",
   "id": "fdfeb003",
   "metadata": {
    "slideshow": {
     "slide_type": "subslide"
    }
   },
   "source": [
    "## AD and finite-differences fail!"
   ]
  },
  {
   "cell_type": "code",
   "execution_count": null,
   "id": "fb690d8f",
   "metadata": {},
   "outputs": [],
   "source": [
    "function G(p, prob=prob_attractor)\n",
    "  tmp_prob = remake(prob, p=p)\n",
    "  tmp_sol = solve(tmp_prob, Vern9(), abstol=1e-14, reltol=1e-14)\n",
    "  res = compute_objective(tmp_sol)\n",
    "  @info res\n",
    "  res\n",
    "end"
   ]
  },
  {
   "cell_type": "code",
   "execution_count": null,
   "id": "990da24f",
   "metadata": {},
   "outputs": [],
   "source": [
    "ForwardDiff.gradient(G, p)"
   ]
  },
  {
   "cell_type": "code",
   "execution_count": null,
   "id": "978e20b7",
   "metadata": {},
   "outputs": [],
   "source": [
    "FiniteDiff.finite_difference_gradient(G, p)"
   ]
  },
  {
   "cell_type": "markdown",
   "id": "c00363b0",
   "metadata": {
    "slideshow": {
     "slide_type": "subslide"
    }
   },
   "source": [
    "## ... but shadowing methods do work!\n",
    "\n",
    "$\\rightarrow$ Check my blog post on \"[Shadowing Methods for Forward and Adjoint Sensitivity Analysis of Chaotic Systems](https://frankschae.github.io/post/shadowing/)\" for details."
   ]
  },
  {
   "cell_type": "code",
   "execution_count": null,
   "id": "c30946bf",
   "metadata": {},
   "outputs": [],
   "source": [
    "# objective\n",
    "g(u,p,t) = u[end]\n",
    "\n",
    "# Least squares shadowing\n",
    "lss_problem = ForwardLSSProblem(sol_attractor, ForwardLSS(g = g))\n",
    "@show shadow_forward(lss_problem)"
   ]
  },
  {
   "cell_type": "markdown",
   "id": "b0571af6",
   "metadata": {
    "slideshow": {
     "slide_type": "slide"
    }
   },
   "source": [
    "## II) StochasticAD for programs with discrete randomness\n",
    "\n",
    "[StochasticAD.jl](https://github.com/gaurav-arya/StochasticAD.jl) provides a smoothed perturbation analysis (SPA) estimator\n",
    "\n",
    "$$\n",
    "\\begin{align*}\n",
    "\\frac{\\partial}{\\partial \\theta} \\mathbb E[f(X(\\theta))]= \\mathbb E\\left[\\delta + w(\\theta) \\left(f(Y(\\theta)) - f(X(\\theta))\\right)\\right]\n",
    "\\end{align*}\n",
    "$$\n",
    "[Arya *et al*., Advances in Neural Information Processing Systems 35, 10435 (2022)]\\\n",
    "[Arya *et al*., ICML 2023 Workshop on Differentiable Almost Everything (2023)]\\\n",
    "[Fu *et al*., Conditional Monte Carlo: Gradient Estimation and Optimization Applications (1997)] \\\n",
    "[Heidergott and Vázquez-Abad, Journal of Optimization Theory and Applications, 136(2):187–209 (2008)]"
   ]
  },
  {
   "cell_type": "code",
   "execution_count": null,
   "id": "0845fc2f",
   "metadata": {},
   "outputs": [],
   "source": [
    "using StochasticAD, Distributions\n",
    "f(p) = rand(Bernoulli(p)) # 1 with probability p, 0 otherwise"
   ]
  },
  {
   "cell_type": "code",
   "execution_count": null,
   "id": "07725b00",
   "metadata": {},
   "outputs": [],
   "source": [
    " stochastic_triple(f, 0.5) #  Feeds "
   ]
  },
  {
   "cell_type": "code",
   "execution_count": null,
   "id": "8b8e2911",
   "metadata": {
    "slideshow": {
     "slide_type": "subslide"
    }
   },
   "outputs": [],
   "source": [
    "function f(p)\n",
    "    a = p * (1 - p)\n",
    "    b = rand(Binomial(10, p))\n",
    "    c = 2 * b + 3 * rand(Bernoulli(p))\n",
    "    return a * c * rand(Normal(b, a))\n",
    "end\n",
    "\n",
    "st = @show stochastic_triple(f, 0.6) # sample a single stochastic triple at p = 0.6\n",
    "@show derivative_contribution(st) # which produces a single derivative estimate...\n",
    "\n",
    "samples = [derivative_estimate(f, 0.6) for i in 1:1000] # many samples from derivative program\n",
    "derivative = mean(samples)\n",
    "uncertainty = std(samples) / sqrt(1000)\n",
    "println(\"derivative of 𝔼[X(p)] = $derivative ± $uncertainty\")"
   ]
  },
  {
   "cell_type": "markdown",
   "id": "3bdcfff3",
   "metadata": {
    "slideshow": {
     "slide_type": "slide"
    }
   },
   "source": [
    "## SciML's contributions\n",
    "\n",
    "SciML\n",
    "\n",
    "- offers top-tier solvers for various problems\n",
    "- allows one to seamlessly combine scientific models with data-driven machine learning approaches\n",
    "- provides workflows for parameter inference, model selection & discovery, stochastic optimal control, and more!"
   ]
  },
  {
   "cell_type": "code",
   "execution_count": null,
   "id": "f7254398",
   "metadata": {
    "slideshow": {
     "slide_type": "skip"
    }
   },
   "outputs": [],
   "source": [
    "# Define the experimental parameters\n",
    "tspan = (0.0, 5.0) # time span\n",
    "u0 = [3.0, 1.5] # initial condition\n",
    "p_ = [1.3, 0.9, 0.8, 1.8] # parameters\n",
    "\n",
    "p0 = [0.8, 0.3, 1.4, 1.3]\n",
    "\n",
    "# Define ODE problem\n",
    "prob = ODEProblem(lotka, u0, tspan, p_)\n",
    "solution = solve(prob, Vern7(), abstol=1e-12, reltol=1e-12, saveat=0.25)\n",
    "\n",
    "# Add noise in terms of the mean\n",
    "X = Array(solution)\n",
    "t = solution.t\n",
    "\n",
    "x̄ = mean(X, dims=2)\n",
    "noise_magnitude = 5e-3\n",
    "Xₙ = (X .+ (noise_magnitude * x̄) .* randn(rng, eltype(X), size(X)))"
   ]
  },
  {
   "cell_type": "code",
   "execution_count": null,
   "id": "7e173837",
   "metadata": {
    "slideshow": {
     "slide_type": "skip"
    }
   },
   "outputs": [],
   "source": [
    "# Define a predictor\n",
    "species = 1\n",
    "function predict(θ)\n",
    "    _prob = remake(prob, p=θ)\n",
    "    Array(solve(_prob, Vern7(), saveat=t, abstol=1e-6, reltol=1e-6, sensealg=ForwardDiffSensitivity()))[species,:]\n",
    "end\n",
    "\n",
    "# Simple L2 loss\n",
    "function loss(θ)\n",
    "    X̂ = predict(θ)\n",
    "    sum(abs2, Xₙ[species, :] .- X̂)\n",
    "end\n",
    "\n",
    "loss(p0)"
   ]
  },
  {
   "cell_type": "code",
   "execution_count": null,
   "id": "b6adec65",
   "metadata": {
    "slideshow": {
     "slide_type": "skip"
    }
   },
   "outputs": [],
   "source": [
    "adtype = Optimization.AutoZygote()\n",
    "optf = Optimization.OptimizationFunction((x, p) -> loss(x), adtype)\n",
    "optprob = Optimization.OptimizationProblem(optf, p0)\n",
    "\n",
    "# Train with Adam\n",
    "res1 = Optimization.solve(optprob, ADAM(), maxiters=10000)"
   ]
  },
  {
   "cell_type": "code",
   "execution_count": null,
   "id": "e73cd80c",
   "metadata": {
    "slideshow": {
     "slide_type": "skip"
    }
   },
   "outputs": [],
   "source": [
    "loss(res1.u)"
   ]
  },
  {
   "cell_type": "code",
   "execution_count": null,
   "id": "03cfde4b",
   "metadata": {
    "slideshow": {
     "slide_type": "skip"
    }
   },
   "outputs": [],
   "source": []
  }
 ],
 "metadata": {
  "celltoolbar": "Slideshow",
  "kernelspec": {
   "display_name": "Julia 1.9.2",
   "language": "julia",
   "name": "julia-1.9"
  },
  "language_info": {
   "file_extension": ".jl",
   "mimetype": "application/julia",
   "name": "julia",
   "version": "1.9.2"
  },
  "rise": {
   "scroll": true,
   "transition": "none"
  }
 },
 "nbformat": 4,
 "nbformat_minor": 5
}
