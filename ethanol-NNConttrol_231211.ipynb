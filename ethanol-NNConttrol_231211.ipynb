{
 "cells": [
  {
   "cell_type": "markdown",
   "metadata": {},
   "source": [
    "---\n",
    "# NN-Based Optimal Control\n",
    "---"
   ]
  },
  {
   "cell_type": "code",
   "execution_count": 1,
   "metadata": {},
   "outputs": [
    {
     "data": {
      "text/plain": [
       "StableRNGs.LehmerRNG(state=0x00000000000000000000000221cc131d)"
      ]
     },
     "execution_count": 1,
     "metadata": {},
     "output_type": "execute_result"
    }
   ],
   "source": [
    "# SciML Tools\n",
    "using DifferentialEquations, DataDrivenDiffEq, SciMLSensitivity, DataDrivenSparse\n",
    "using Optimization, OptimizationOptimisers, OptimizationOptimJL \n",
    "\n",
    "# Standard Libraries\n",
    "using LinearAlgebra, Statistics\n",
    "\n",
    "# External Libraries\n",
    "using ComponentArrays, Lux, Zygote, FiniteDiff, ForwardDiff, Plots, LaTeXStrings, StableRNGs, QuadGK, StochasticAD, Distributions\n",
    "\n",
    "# Set a random seed for reproducible behaviour\n",
    "rng = StableRNG(4578478478) "
   ]
  },
  {
   "cell_type": "markdown",
   "metadata": {},
   "source": [
    "---\n",
    "## Define NN Controller"
   ]
  },
  {
   "cell_type": "code",
   "execution_count": 2,
   "metadata": {},
   "outputs": [
    {
     "data": {
      "text/plain": [
       "(layer_1 = NamedTuple(), layer_2 = NamedTuple())"
      ]
     },
     "execution_count": 2,
     "metadata": {},
     "output_type": "execute_result"
    }
   ],
   "source": [
    "# Define controller\n",
    "const ctr = Lux.Chain(Lux.Dense(4, 64, relu), Lux.Dense(64, 1, sigmoid))\n",
    "# Get the initial parameters and state variables of the model\n",
    "p, st = Lux.setup(rng, ctr)\n",
    "const st_ctr = st"
   ]
  },
  {
   "cell_type": "code",
   "execution_count": 33,
   "metadata": {},
   "outputs": [
    {
     "data": {
      "text/plain": [
       "ethanoll! (generic function with 1 method)"
      ]
     },
     "execution_count": 33,
     "metadata": {},
     "output_type": "execute_result"
    }
   ],
   "source": [
    "mumax(T) = -0.00266071 .* T .^ 2 .+ 0.18037857 .* T .- 2.86700000\n",
    "xmax(T) = 0.76071429 .* T .^ 2 .- 55.69857143 .* T .+ 1058.18000000\n",
    "pmax(T) = 0.57678571 .* T .^ 2 .- 42.06642857 .* T .+ 838.23200000\n",
    "ypx(T) = -0.02071429 .* T .^ 2 .+ 1.90357143 .* T .- 26.44400000\n",
    "yx(T) = -0.00016071 .* T .^ 2 .+ 0.00917857 .* T .- 0.09160000\n",
    "\n",
    "function ethanoll!(du, u, p, t)\n",
    "    ctr_hat = ctr(u, p, st_ctr)[1]\n",
    "    h, cp, d, frec, v, ks, ki, m, n, mx, mp, Tsp = [-511 3.82 1060 31 59.66 4.1 4e-3 1.0 1.5 0.2 0.1 30.0]\n",
    "    X = u[1]\n",
    "    S = u[2]\n",
    "    P = u[3]\n",
    "    T = u[4]\n",
    "    #* real(((1 - (P / pmax(T))) + 0im)^(n) * X) * ℯ^((-1) * ki * S)# *(ℯ)^(-ki*S) * ((1-(X/xmax(T)))^m) * (((1-(P/pmax(T)))^n)*X)\n",
    "    du[1] = mumax(T) * (S / (S + ks)) * real((1 - (X / xmax(T)) + 0im)^m) \n",
    "    du[2] = -((du[1] / yx(T)) + (mx * X))\n",
    "    du[3] = (ypx(T) * du[1]) + (mp * X)\n",
    "    du[4] = (h / (d * cp)) * du[2] - (frec / v) * ctr_hat[1]\n",
    "end\n"
   ]
  },
  {
   "cell_type": "markdown",
   "metadata": {},
   "source": [
    "---\n",
    "## Randomly Initialized Controller"
   ]
  },
  {
   "cell_type": "code",
   "execution_count": 34,
   "metadata": {},
   "outputs": [
    {
     "data": {
      "text/plain": [
       "\u001b[38;2;86;182;194mODEProblem\u001b[0m with uType \u001b[38;2;86;182;194mVector{Float32}\u001b[0m and tType \u001b[38;2;86;182;194mFloat32\u001b[0m. In-place: \u001b[38;2;86;182;194mtrue\u001b[0m\n",
       "timespan: (0.0f0, 33.0f0)\n",
       "u0: 4-element Vector{Float32}:\n",
       "   2.75\n",
       " 150.0\n",
       "   0.0\n",
       "  30.0"
      ]
     },
     "execution_count": 34,
     "metadata": {},
     "output_type": "execute_result"
    }
   ],
   "source": [
    "# Define the problem\n",
    "u0 = [2.75f0, 150.0f0, 0.0f0, 30.0f0]\n",
    "tspan = (0.0f0, 33.0f0)\n",
    "prob_nn = ODEProblem(ethanoll!, u0, tspan, p)\n",
    "# prob = EnsembleProblem(prob_nn)"
   ]
  },
  {
   "cell_type": "code",
   "execution_count": 57,
   "metadata": {},
   "outputs": [
    {
     "data": {
      "text/plain": [
       "retcode: Success\n",
       "Interpolation: specialized 7th order lazy interpolation\n",
       "t: 30-element Vector{Float32}:\n",
       "  0.0\n",
       "  0.10028694\n",
       "  0.2118547\n",
       "  0.3365664\n",
       "  0.4797747\n",
       "  0.64840955\n",
       "  0.87031597\n",
       "  1.1467403\n",
       "  1.4760885\n",
       "  1.9142445\n",
       "  2.4399219\n",
       "  3.0520163\n",
       "  3.8300414\n",
       "  ⋮\n",
       " 13.945141\n",
       " 17.290653\n",
       " 20.165686\n",
       " 22.217115\n",
       " 23.797659\n",
       " 25.276672\n",
       " 26.694275\n",
       " 28.063759\n",
       " 29.414927\n",
       " 30.749931\n",
       " 32.22248\n",
       " 33.0\n",
       "u: 30-element Vector{Vector{Float32}}:\n",
       " [2.75, 150.0, 0.0, 30.0]\n",
       " [2.7640543, 149.58542, 0.1965865, 30.000208]\n",
       " [2.7796853, 149.12398, 0.415405, 30.00047]\n",
       " [2.7971528, 148.6079, 0.6601521, 30.000797]\n",
       " [2.8172045, 148.0149, 0.9413945, 30.00122]\n",
       " [2.8408077, 147.31609, 1.2728426, 30.001785]\n",
       " [2.871853, 146.39566, 1.7094471, 30.002636]\n",
       " [2.910504, 145.24773, 2.2540457, 30.00387]\n",
       " [2.956525, 143.87798, 2.903988, 30.005598]\n",
       " [3.0177014, 142.0522, 3.7705073, 30.008337]\n",
       " [3.091029, 139.85632, 4.8129835, 30.012302]\n",
       " [3.1763241, 137.29185, 6.030913, 30.017881]\n",
       " [3.2846217, 134.01997, 7.5855966, 30.026516]\n",
       " ⋮\n",
       " [4.689152, 89.9834, 28.635315, 30.328144]\n",
       " [5.1558967, 74.68942, 36.020416, 30.521782]\n",
       " [5.5587587, 61.21481, 42.568542, 30.780848]\n",
       " [5.8502665, 51.299957, 47.430096, 31.304111]\n",
       " [6.0801344, 43.352924, 51.37131, 31.996563]\n",
       " [6.2971215, 35.677685, 55.207325, 32.711628]\n",
       " [6.502012, 28.20794, 58.94847, 33.33054]\n",
       " [6.6924367, 21.022097, 62.54016, 33.79973]\n",
       " [6.8680873, 14.129204, 65.97262, 34.171932]\n",
       " [7.021154, 7.785496, 69.11816, 34.472828]\n",
       " [7.141708, 2.1171968, 71.92204, 34.601994]\n",
       " [7.166554, 0.26537737, 72.84153, 34.50795]"
      ]
     },
     "execution_count": 57,
     "metadata": {},
     "output_type": "execute_result"
    }
   ],
   "source": [
    "# simulation time (0,30)\n",
    "sol = solve(prob_nn, Vern7(), abstol = 1e-5, reltol = 1e-5)"
   ]
  },
  {
   "cell_type": "code",
   "execution_count": 61,
   "metadata": {},
   "outputs": [
    {
     "data": {
      "image/png": "[encoded data removed]",
      "image/svg+xml": [
       "<?xml version=\"1.0\" encoding=\"utf-8\"?>\n",
       "<svg xmlns=\"http://www.w3.org/2000/svg\" xmlns:xlink=\"http://www.w3.org/1999/xlink\" width=\"600\" height=\"400\" viewBox=\"0 0 2400 1600\">\n",
       "<defs>\n",
       "  <clipPath id=\"clip230\">\n",
       "    <rect x=\"0\" y=\"0\" width=\"2400\" height=\"1600\"/>\n",
       "  </clipPath>\n",
       "</defs>\n",
       "<path clip-path=\"url(#clip230)\" d=\"M0 1600 L2400 1600 L2400 0 L0 0  Z\" fill=\"#ffffff\" fill-rule=\"evenodd\" fill-opacity=\"1\"/>\n",
       "<defs>\n",
       "  <clipPath id=\"clip231\">\n",
       "    <rect x=\"480\" y=\"0\" width=\"1681\" height=\"1600\"/>\n",
       "  </clipPath>\n",
       "</defs>\n",
       "<path clip-path=\"url(#clip230)\" d=\"M232.389 1423.18 L2352.76 1423.18 L2352.76 47.2441 L232.389 47.2441  Z\" fill=\"#ffffff\" fill-rule=\"evenodd\" fill-opacity=\"1\"/>\n",
       "<defs>\n",
       "  <clipPath id=\"clip232\">\n",
       "    <rect x=\"232\" y=\"47\" width=\"2121\" height=\"1377\"/>\n",
       "  </clipPath>\n",
       "</defs>\n",
       "<polyline clip-path=\"url(#clip232)\" style=\"stroke:#000000; stroke-linecap:round; stroke-linejoin:round; stroke-width:2; stroke-opacity:0.1; fill:none\" points=\"292.4,1423.18 292.4,47.2441 \"/>\n",
       "<polyline clip-path=\"url(#clip232)\" style=\"stroke:#000000; stroke-linecap:round; stroke-linejoin:round; stroke-width:2; stroke-opacity:0.1; fill:none\" points=\"898.565,1423.18 898.565,47.2441 \"/>\n",
       "<polyline clip-path=\"url(#clip232)\" style=\"stroke:#000000; stroke-linecap:round; stroke-linejoin:round; stroke-width:2; stroke-opacity:0.1; fill:none\" points=\"1504.73,1423.18 1504.73,47.2441 \"/>\n",
       "<polyline clip-path=\"url(#clip232)\" style=\"stroke:#000000; stroke-linecap:round; stroke-linejoin:round; stroke-width:2; stroke-opacity:0.1; fill:none\" points=\"2110.9,1423.18 2110.9,47.2441 \"/>\n",
       "<polyline clip-path=\"url(#clip230)\" style=\"stroke:#000000; stroke-linecap:round; stroke-linejoin:round; stroke-width:4; stroke-opacity:1; fill:none\" points=\"232.389,1423.18 2352.76,1423.18 \"/>\n",
       "<polyline clip-path=\"url(#clip230)\" style=\"stroke:#000000; stroke-linecap:round; stroke-linejoin:round; stroke-width:4; stroke-opacity:1; fill:none\" points=\"292.4,1423.18 292.4,1404.28 \"/>\n",
       "<polyline clip-path=\"url(#clip230)\" style=\"stroke:#000000; stroke-linecap:round; stroke-linejoin:round; stroke-width:4; stroke-opacity:1; fill:none\" points=\"898.565,1423.18 898.565,1404.28 \"/>\n",
       "<polyline clip-path=\"url(#clip230)\" style=\"stroke:#000000; stroke-linecap:round; stroke-linejoin:round; stroke-width:4; stroke-opacity:1; fill:none\" points=\"1504.73,1423.18 1504.73,1404.28 \"/>\n",
       "<polyline clip-path=\"url(#clip230)\" style=\"stroke:#000000; stroke-linecap:round; stroke-linejoin:round; stroke-width:4; stroke-opacity:1; fill:none\" points=\"2110.9,1423.18 2110.9,1404.28 \"/>\n",
       "<path clip-path=\"url(#clip230)\" d=\"M292.4 1454.1 Q288.789 1454.1 286.96 1457.66 Q285.154 1461.2 285.154 1468.33 Q285.154 1475.44 286.96 1479.01 Q288.789 1482.55 292.4 1482.55 Q296.034 1482.55 297.84 1479.01 Q299.668 1475.44 299.668 1468.33 Q299.668 1461.2 297.84 1457.66 Q296.034 1454.1 292.4 1454.1 M292.4 1450.39 Q298.21 1450.39 301.265 1455 Q304.344 1459.58 304.344 1468.33 Q304.344 1477.06 301.265 1481.67 Q298.21 1486.25 292.4 1486.25 Q286.59 1486.25 283.511 1481.67 Q280.455 1477.06 280.455 1468.33 Q280.455 1459.58 283.511 1455 Q286.59 1450.39 292.4 1450.39 Z\" fill=\"#000000\" fill-rule=\"nonzero\" fill-opacity=\"1\" /><path clip-path=\"url(#clip230)\" d=\"M873.253 1481.64 L880.892 1481.64 L880.892 1455.28 L872.581 1456.95 L872.581 1452.69 L880.845 1451.02 L885.521 1451.02 L885.521 1481.64 L893.16 1481.64 L893.16 1485.58 L873.253 1485.58 L873.253 1481.64 Z\" fill=\"#000000\" fill-rule=\"nonzero\" fill-opacity=\"1\" /><path clip-path=\"url(#clip230)\" d=\"M912.604 1454.1 Q908.993 1454.1 907.165 1457.66 Q905.359 1461.2 905.359 1468.33 Q905.359 1475.44 907.165 1479.01 Q908.993 1482.55 912.604 1482.55 Q916.239 1482.55 918.044 1479.01 Q919.873 1475.44 919.873 1468.33 Q919.873 1461.2 918.044 1457.66 Q916.239 1454.1 912.604 1454.1 M912.604 1450.39 Q918.415 1450.39 921.47 1455 Q924.549 1459.58 924.549 1468.33 Q924.549 1477.06 921.47 1481.67 Q918.415 1486.25 912.604 1486.25 Q906.794 1486.25 903.716 1481.67 Q900.66 1477.06 900.66 1468.33 Q900.66 1459.58 903.716 1455 Q906.794 1450.39 912.604 1450.39 Z\" fill=\"#000000\" fill-rule=\"nonzero\" fill-opacity=\"1\" /><path clip-path=\"url(#clip230)\" d=\"M1483.5 1481.64 L1499.82 1481.64 L1499.82 1485.58 L1477.88 1485.58 L1477.88 1481.64 Q1480.54 1478.89 1485.12 1474.26 Q1489.73 1469.61 1490.91 1468.27 Q1493.16 1465.74 1494.04 1464.01 Q1494.94 1462.25 1494.94 1460.56 Q1494.94 1457.8 1492.99 1456.07 Q1491.07 1454.33 1487.97 1454.33 Q1485.77 1454.33 1483.32 1455.09 Q1480.89 1455.86 1478.11 1457.41 L1478.11 1452.69 Q1480.93 1451.55 1483.39 1450.97 Q1485.84 1450.39 1487.88 1450.39 Q1493.25 1450.39 1496.44 1453.08 Q1499.64 1455.77 1499.64 1460.26 Q1499.64 1462.39 1498.83 1464.31 Q1498.04 1466.2 1495.93 1468.8 Q1495.36 1469.47 1492.25 1472.69 Q1489.15 1475.88 1483.5 1481.64 Z\" fill=\"#000000\" fill-rule=\"nonzero\" fill-opacity=\"1\" /><path clip-path=\"url(#clip230)\" d=\"M1519.64 1454.1 Q1516.03 1454.1 1514.2 1457.66 Q1512.39 1461.2 1512.39 1468.33 Q1512.39 1475.44 1514.2 1479.01 Q1516.03 1482.55 1519.64 1482.55 Q1523.27 1482.55 1525.08 1479.01 Q1526.91 1475.44 1526.91 1468.33 Q1526.91 1461.2 1525.08 1457.66 Q1523.27 1454.1 1519.64 1454.1 M1519.64 1450.39 Q1525.45 1450.39 1528.5 1455 Q1531.58 1459.58 1531.58 1468.33 Q1531.58 1477.06 1528.5 1481.67 Q1525.45 1486.25 1519.64 1486.25 Q1513.83 1486.25 1510.75 1481.67 Q1507.69 1477.06 1507.69 1468.33 Q1507.69 1459.58 1510.75 1455 Q1513.83 1450.39 1519.64 1450.39 Z\" fill=\"#000000\" fill-rule=\"nonzero\" fill-opacity=\"1\" /><path clip-path=\"url(#clip230)\" d=\"M2099.74 1466.95 Q2103.1 1467.66 2104.97 1469.93 Q2106.87 1472.2 2106.87 1475.53 Q2106.87 1480.65 2103.35 1483.45 Q2099.83 1486.25 2093.35 1486.25 Q2091.17 1486.25 2088.86 1485.81 Q2086.57 1485.39 2084.11 1484.54 L2084.11 1480.02 Q2086.06 1481.16 2088.37 1481.74 Q2090.69 1482.32 2093.21 1482.32 Q2097.61 1482.32 2099.9 1480.58 Q2102.22 1478.84 2102.22 1475.53 Q2102.22 1472.48 2100.06 1470.77 Q2097.93 1469.03 2094.11 1469.03 L2090.09 1469.03 L2090.09 1465.19 L2094.3 1465.19 Q2097.75 1465.19 2099.58 1463.82 Q2101.41 1462.43 2101.41 1459.84 Q2101.41 1457.18 2099.51 1455.77 Q2097.63 1454.33 2094.11 1454.33 Q2092.19 1454.33 2089.99 1454.75 Q2087.79 1455.16 2085.16 1456.04 L2085.16 1451.88 Q2087.82 1451.14 2090.13 1450.77 Q2092.47 1450.39 2094.53 1450.39 Q2099.85 1450.39 2102.96 1452.83 Q2106.06 1455.23 2106.06 1459.35 Q2106.06 1462.22 2104.41 1464.21 Q2102.77 1466.18 2099.74 1466.95 Z\" fill=\"#000000\" fill-rule=\"nonzero\" fill-opacity=\"1\" /><path clip-path=\"url(#clip230)\" d=\"M2125.73 1454.1 Q2122.12 1454.1 2120.29 1457.66 Q2118.49 1461.2 2118.49 1468.33 Q2118.49 1475.44 2120.29 1479.01 Q2122.12 1482.55 2125.73 1482.55 Q2129.37 1482.55 2131.17 1479.01 Q2133 1475.44 2133 1468.33 Q2133 1461.2 2131.17 1457.66 Q2129.37 1454.1 2125.73 1454.1 M2125.73 1450.39 Q2131.54 1450.39 2134.6 1455 Q2137.68 1459.58 2137.68 1468.33 Q2137.68 1477.06 2134.6 1481.67 Q2131.54 1486.25 2125.73 1486.25 Q2119.92 1486.25 2116.84 1481.67 Q2113.79 1477.06 2113.79 1468.33 Q2113.79 1459.58 2116.84 1455 Q2119.92 1450.39 2125.73 1450.39 Z\" fill=\"#000000\" fill-rule=\"nonzero\" fill-opacity=\"1\" /><path clip-path=\"url(#clip230)\" d=\"M1231.73 1522.27 L1231.73 1532.4 L1243.8 1532.4 L1243.8 1536.95 L1231.73 1536.95 L1231.73 1556.3 Q1231.73 1560.66 1232.91 1561.9 Q1234.12 1563.14 1237.78 1563.14 L1243.8 1563.14 L1243.8 1568.04 L1237.78 1568.04 Q1231 1568.04 1228.42 1565.53 Q1225.84 1562.98 1225.84 1556.3 L1225.84 1536.95 L1221.55 1536.95 L1221.55 1532.4 L1225.84 1532.4 L1225.84 1522.27 L1231.73 1522.27 Z\" fill=\"#000000\" fill-rule=\"nonzero\" fill-opacity=\"1\" /><path clip-path=\"url(#clip230)\" d=\"M1251.5 1532.4 L1257.35 1532.4 L1257.35 1568.04 L1251.5 1568.04 L1251.5 1532.4 M1251.5 1518.52 L1257.35 1518.52 L1257.35 1525.93 L1251.5 1525.93 L1251.5 1518.52 Z\" fill=\"#000000\" fill-rule=\"nonzero\" fill-opacity=\"1\" /><path clip-path=\"url(#clip230)\" d=\"M1297.36 1539.24 Q1299.56 1535.29 1302.61 1533.41 Q1305.67 1531.54 1309.81 1531.54 Q1315.38 1531.54 1318.4 1535.45 Q1321.43 1539.33 1321.43 1546.53 L1321.43 1568.04 L1315.54 1568.04 L1315.54 1546.72 Q1315.54 1541.59 1313.72 1539.11 Q1311.91 1536.63 1308.18 1536.63 Q1303.63 1536.63 1300.99 1539.65 Q1298.35 1542.68 1298.35 1547.9 L1298.35 1568.04 L1292.46 1568.04 L1292.46 1546.72 Q1292.46 1541.56 1290.65 1539.11 Q1288.83 1536.63 1285.05 1536.63 Q1280.56 1536.63 1277.92 1539.68 Q1275.27 1542.71 1275.27 1547.9 L1275.27 1568.04 L1269.39 1568.04 L1269.39 1532.4 L1275.27 1532.4 L1275.27 1537.93 Q1277.28 1534.66 1280.08 1533.1 Q1282.88 1531.54 1286.73 1531.54 Q1290.62 1531.54 1293.32 1533.51 Q1296.06 1535.48 1297.36 1539.24 Z\" fill=\"#000000\" fill-rule=\"nonzero\" fill-opacity=\"1\" /><path clip-path=\"url(#clip230)\" d=\"M1363.6 1548.76 L1363.6 1551.62 L1336.67 1551.62 Q1337.05 1557.67 1340.3 1560.85 Q1343.58 1564 1349.4 1564 Q1352.78 1564 1355.93 1563.17 Q1359.11 1562.35 1362.23 1560.69 L1362.23 1566.23 Q1359.08 1567.57 1355.77 1568.27 Q1352.46 1568.97 1349.05 1568.97 Q1340.52 1568.97 1335.53 1564 Q1330.56 1559.04 1330.56 1550.57 Q1330.56 1541.82 1335.27 1536.69 Q1340.01 1531.54 1348.03 1531.54 Q1355.23 1531.54 1359.4 1536.18 Q1363.6 1540.8 1363.6 1548.76 M1357.74 1547.04 Q1357.68 1542.23 1355.04 1539.37 Q1352.43 1536.5 1348.1 1536.5 Q1343.2 1536.5 1340.24 1539.27 Q1337.31 1542.04 1336.86 1547.07 L1357.74 1547.04 Z\" fill=\"#000000\" fill-rule=\"nonzero\" fill-opacity=\"1\" /><polyline clip-path=\"url(#clip232)\" style=\"stroke:#000000; stroke-linecap:round; stroke-linejoin:round; stroke-width:2; stroke-opacity:0.1; fill:none\" points=\"232.389,1384.24 2352.76,1384.24 \"/>\n",
       "<polyline clip-path=\"url(#clip232)\" style=\"stroke:#000000; stroke-linecap:round; stroke-linejoin:round; stroke-width:2; stroke-opacity:0.1; fill:none\" points=\"232.389,951.554 2352.76,951.554 \"/>\n",
       "<polyline clip-path=\"url(#clip232)\" style=\"stroke:#000000; stroke-linecap:round; stroke-linejoin:round; stroke-width:2; stroke-opacity:0.1; fill:none\" points=\"232.389,518.87 2352.76,518.87 \"/>\n",
       "<polyline clip-path=\"url(#clip232)\" style=\"stroke:#000000; stroke-linecap:round; stroke-linejoin:round; stroke-width:2; stroke-opacity:0.1; fill:none\" points=\"232.389,86.1857 2352.76,86.1857 \"/>\n",
       "<polyline clip-path=\"url(#clip230)\" style=\"stroke:#000000; stroke-linecap:round; stroke-linejoin:round; stroke-width:4; stroke-opacity:1; fill:none\" points=\"232.389,1423.18 232.389,47.2441 \"/>\n",
       "<polyline clip-path=\"url(#clip230)\" style=\"stroke:#000000; stroke-linecap:round; stroke-linejoin:round; stroke-width:4; stroke-opacity:1; fill:none\" points=\"232.389,1384.24 251.287,1384.24 \"/>\n",
       "<polyline clip-path=\"url(#clip230)\" style=\"stroke:#000000; stroke-linecap:round; stroke-linejoin:round; stroke-width:4; stroke-opacity:1; fill:none\" points=\"232.389,951.554 251.287,951.554 \"/>\n",
       "<polyline clip-path=\"url(#clip230)\" style=\"stroke:#000000; stroke-linecap:round; stroke-linejoin:round; stroke-width:4; stroke-opacity:1; fill:none\" points=\"232.389,518.87 251.287,518.87 \"/>\n",
       "<polyline clip-path=\"url(#clip230)\" style=\"stroke:#000000; stroke-linecap:round; stroke-linejoin:round; stroke-width:4; stroke-opacity:1; fill:none\" points=\"232.389,86.1857 251.287,86.1857 \"/>\n",
       "<path clip-path=\"url(#clip230)\" d=\"M184.445 1370.04 Q180.834 1370.04 179.005 1373.6 Q177.2 1377.14 177.2 1384.27 Q177.2 1391.38 179.005 1394.94 Q180.834 1398.49 184.445 1398.49 Q188.079 1398.49 189.885 1394.94 Q191.713 1391.38 191.713 1384.27 Q191.713 1377.14 189.885 1373.6 Q188.079 1370.04 184.445 1370.04 M184.445 1366.33 Q190.255 1366.33 193.311 1370.94 Q196.389 1375.52 196.389 1384.27 Q196.389 1393 193.311 1397.61 Q190.255 1402.19 184.445 1402.19 Q178.635 1402.19 175.556 1397.61 Q172.501 1393 172.501 1384.27 Q172.501 1375.52 175.556 1370.94 Q178.635 1366.33 184.445 1366.33 Z\" fill=\"#000000\" fill-rule=\"nonzero\" fill-opacity=\"1\" /><path clip-path=\"url(#clip230)\" d=\"M144.329 934.274 L162.686 934.274 L162.686 938.209 L148.612 938.209 L148.612 946.681 Q149.63 946.334 150.649 946.172 Q151.667 945.987 152.686 945.987 Q158.473 945.987 161.852 949.158 Q165.232 952.33 165.232 957.746 Q165.232 963.325 161.76 966.427 Q158.288 969.505 151.968 969.505 Q149.792 969.505 147.524 969.135 Q145.279 968.765 142.871 968.024 L142.871 963.325 Q144.954 964.459 147.177 965.015 Q149.399 965.57 151.876 965.57 Q155.88 965.57 158.218 963.464 Q160.556 961.357 160.556 957.746 Q160.556 954.135 158.218 952.029 Q155.88 949.922 151.876 949.922 Q150.001 949.922 148.126 950.339 Q146.274 950.755 144.329 951.635 L144.329 934.274 Z\" fill=\"#000000\" fill-rule=\"nonzero\" fill-opacity=\"1\" /><path clip-path=\"url(#clip230)\" d=\"M184.445 937.353 Q180.834 937.353 179.005 940.918 Q177.2 944.459 177.2 951.589 Q177.2 958.695 179.005 962.26 Q180.834 965.802 184.445 965.802 Q188.079 965.802 189.885 962.26 Q191.713 958.695 191.713 951.589 Q191.713 944.459 189.885 940.918 Q188.079 937.353 184.445 937.353 M184.445 933.649 Q190.255 933.649 193.311 938.256 Q196.389 942.839 196.389 951.589 Q196.389 960.316 193.311 964.922 Q190.255 969.505 184.445 969.505 Q178.635 969.505 175.556 964.922 Q172.501 960.316 172.501 951.589 Q172.501 942.839 175.556 938.256 Q178.635 933.649 184.445 933.649 Z\" fill=\"#000000\" fill-rule=\"nonzero\" fill-opacity=\"1\" /><path clip-path=\"url(#clip230)\" d=\"M114.931 532.215 L122.57 532.215 L122.57 505.849 L114.26 507.516 L114.26 503.257 L122.524 501.59 L127.2 501.59 L127.2 532.215 L134.839 532.215 L134.839 536.15 L114.931 536.15 L114.931 532.215 Z\" fill=\"#000000\" fill-rule=\"nonzero\" fill-opacity=\"1\" /><path clip-path=\"url(#clip230)\" d=\"M154.283 504.669 Q150.672 504.669 148.843 508.233 Q147.038 511.775 147.038 518.905 Q147.038 526.011 148.843 529.576 Q150.672 533.117 154.283 533.117 Q157.917 533.117 159.723 529.576 Q161.552 526.011 161.552 518.905 Q161.552 511.775 159.723 508.233 Q157.917 504.669 154.283 504.669 M154.283 500.965 Q160.093 500.965 163.149 505.571 Q166.227 510.155 166.227 518.905 Q166.227 527.631 163.149 532.238 Q160.093 536.821 154.283 536.821 Q148.473 536.821 145.394 532.238 Q142.339 527.631 142.339 518.905 Q142.339 510.155 145.394 505.571 Q148.473 500.965 154.283 500.965 Z\" fill=\"#000000\" fill-rule=\"nonzero\" fill-opacity=\"1\" /><path clip-path=\"url(#clip230)\" d=\"M184.445 504.669 Q180.834 504.669 179.005 508.233 Q177.2 511.775 177.2 518.905 Q177.2 526.011 179.005 529.576 Q180.834 533.117 184.445 533.117 Q188.079 533.117 189.885 529.576 Q191.713 526.011 191.713 518.905 Q191.713 511.775 189.885 508.233 Q188.079 504.669 184.445 504.669 M184.445 500.965 Q190.255 500.965 193.311 505.571 Q196.389 510.155 196.389 518.905 Q196.389 527.631 193.311 532.238 Q190.255 536.821 184.445 536.821 Q178.635 536.821 175.556 532.238 Q172.501 527.631 172.501 518.905 Q172.501 510.155 175.556 505.571 Q178.635 500.965 184.445 500.965 Z\" fill=\"#000000\" fill-rule=\"nonzero\" fill-opacity=\"1\" /><path clip-path=\"url(#clip230)\" d=\"M114.931 99.5305 L122.57 99.5305 L122.57 73.1649 L114.26 74.8316 L114.26 70.5723 L122.524 68.9057 L127.2 68.9057 L127.2 99.5305 L134.839 99.5305 L134.839 103.466 L114.931 103.466 L114.931 99.5305 Z\" fill=\"#000000\" fill-rule=\"nonzero\" fill-opacity=\"1\" /><path clip-path=\"url(#clip230)\" d=\"M144.329 68.9057 L162.686 68.9057 L162.686 72.8408 L148.612 72.8408 L148.612 81.313 Q149.63 80.9658 150.649 80.8038 Q151.667 80.6186 152.686 80.6186 Q158.473 80.6186 161.852 83.7899 Q165.232 86.9611 165.232 92.3778 Q165.232 97.9564 161.76 101.058 Q158.288 104.137 151.968 104.137 Q149.792 104.137 147.524 103.767 Q145.279 103.396 142.871 102.655 L142.871 97.9564 Q144.954 99.0907 147.177 99.6462 Q149.399 100.202 151.876 100.202 Q155.88 100.202 158.218 98.0953 Q160.556 95.9889 160.556 92.3778 Q160.556 88.7667 158.218 86.6602 Q155.88 84.5537 151.876 84.5537 Q150.001 84.5537 148.126 84.9704 Q146.274 85.3871 144.329 86.2667 L144.329 68.9057 Z\" fill=\"#000000\" fill-rule=\"nonzero\" fill-opacity=\"1\" /><path clip-path=\"url(#clip230)\" d=\"M184.445 71.9844 Q180.834 71.9844 179.005 75.5492 Q177.2 79.0908 177.2 86.2204 Q177.2 93.3268 179.005 96.8916 Q180.834 100.433 184.445 100.433 Q188.079 100.433 189.885 96.8916 Q191.713 93.3268 191.713 86.2204 Q191.713 79.0908 189.885 75.5492 Q188.079 71.9844 184.445 71.9844 M184.445 68.2807 Q190.255 68.2807 193.311 72.8871 Q196.389 77.4704 196.389 86.2204 Q196.389 94.9472 193.311 99.5537 Q190.255 104.137 184.445 104.137 Q178.635 104.137 175.556 99.5537 Q172.501 94.9472 172.501 86.2204 Q172.501 77.4704 175.556 72.8871 Q178.635 68.2807 184.445 68.2807 Z\" fill=\"#000000\" fill-rule=\"nonzero\" fill-opacity=\"1\" /><path clip-path=\"url(#clip230)\" d=\"M29.4065 806.062 L34.9447 806.062 Q33.6716 808.545 33.035 811.219 Q32.3984 813.892 32.3984 816.757 Q32.3984 821.117 33.7352 823.313 Q35.072 825.478 37.7456 825.478 Q39.7826 825.478 40.9603 823.918 Q42.1061 822.358 43.1565 817.648 L43.6021 815.643 Q44.9389 809.404 47.3897 806.794 Q49.8086 804.153 54.1691 804.153 Q59.1344 804.153 62.0308 808.099 Q64.9272 812.014 64.9272 818.889 Q64.9272 821.754 64.3543 824.873 Q63.8132 827.96 62.6992 831.398 L56.6518 831.398 Q58.3387 828.151 59.198 825 Q60.0256 821.849 60.0256 818.762 Q60.0256 814.624 58.6251 812.396 Q57.1929 810.168 54.6147 810.168 Q52.2276 810.168 50.9545 811.791 Q49.6813 813.383 48.5037 818.826 L48.0262 820.863 Q46.8804 826.305 44.5251 828.724 Q42.138 831.143 38.0002 831.143 Q32.9713 831.143 30.2341 827.578 Q27.4968 824.014 27.4968 817.457 Q27.4968 814.21 27.9743 811.346 Q28.4517 808.481 29.4065 806.062 Z\" fill=\"#000000\" fill-rule=\"nonzero\" fill-opacity=\"1\" /><path clip-path=\"url(#clip230)\" d=\"M18.2347 789.034 L28.3562 789.034 L28.3562 776.971 L32.9077 776.971 L32.9077 789.034 L52.2594 789.034 Q56.6199 789.034 57.8613 787.856 Q59.1026 786.647 59.1026 782.987 L59.1026 776.971 L64.0042 776.971 L64.0042 782.987 Q64.0042 789.766 61.4897 792.344 Q58.9434 794.922 52.2594 794.922 L32.9077 794.922 L32.9077 799.219 L28.3562 799.219 L28.3562 794.922 L18.2347 794.922 L18.2347 789.034 Z\" fill=\"#000000\" fill-rule=\"nonzero\" fill-opacity=\"1\" /><path clip-path=\"url(#clip230)\" d=\"M46.0847 753.068 Q46.0847 760.166 47.7079 762.903 Q49.3312 765.64 53.2461 765.64 Q56.3653 765.64 58.2114 763.603 Q60.0256 761.534 60.0256 758.001 Q60.0256 753.131 56.5881 750.203 Q53.1188 747.243 47.3897 747.243 L46.0847 747.243 L46.0847 753.068 M43.6657 741.387 L64.0042 741.387 L64.0042 747.243 L58.5933 747.243 Q61.8398 749.248 63.3994 752.24 Q64.9272 755.232 64.9272 759.561 Q64.9272 765.035 61.8716 768.282 Q58.7843 771.496 53.6281 771.496 Q47.6125 771.496 44.5569 767.486 Q41.5014 763.444 41.5014 755.455 L41.5014 747.243 L40.9285 747.243 Q36.8862 747.243 34.6901 749.917 Q32.4621 752.559 32.4621 757.365 Q32.4621 760.42 33.1941 763.317 Q33.9262 766.213 35.3903 768.887 L29.9795 768.887 Q28.7381 765.672 28.1334 762.648 Q27.4968 759.624 27.4968 756.76 Q27.4968 749.026 31.5072 745.206 Q35.5176 741.387 43.6657 741.387 Z\" fill=\"#000000\" fill-rule=\"nonzero\" fill-opacity=\"1\" /><path clip-path=\"url(#clip230)\" d=\"M18.2347 723.531 L28.3562 723.531 L28.3562 711.468 L32.9077 711.468 L32.9077 723.531 L52.2594 723.531 Q56.6199 723.531 57.8613 722.353 Q59.1026 721.144 59.1026 717.483 L59.1026 711.468 L64.0042 711.468 L64.0042 717.483 Q64.0042 724.263 61.4897 726.841 Q58.9434 729.419 52.2594 729.419 L32.9077 729.419 L32.9077 733.716 L28.3562 733.716 L28.3562 729.419 L18.2347 729.419 L18.2347 723.531 Z\" fill=\"#000000\" fill-rule=\"nonzero\" fill-opacity=\"1\" /><path clip-path=\"url(#clip230)\" d=\"M44.7161 673.274 L47.5806 673.274 L47.5806 700.201 Q53.6281 699.819 56.8109 696.572 Q59.9619 693.294 59.9619 687.469 Q59.9619 684.095 59.1344 680.944 Q58.3069 677.761 56.6518 674.642 L62.1899 674.642 Q63.5267 677.793 64.227 681.103 Q64.9272 684.414 64.9272 687.819 Q64.9272 696.349 59.9619 701.346 Q54.9967 706.312 46.5303 706.312 Q37.7774 706.312 32.6531 701.601 Q27.4968 696.859 27.4968 688.838 Q27.4968 681.645 32.1438 677.475 Q36.7589 673.274 44.7161 673.274 M42.9973 679.13 Q38.1912 679.194 35.3266 681.836 Q32.4621 684.445 32.4621 688.774 Q32.4621 693.676 35.2312 696.636 Q38.0002 699.564 43.0292 700.01 L42.9973 679.13 Z\" fill=\"#000000\" fill-rule=\"nonzero\" fill-opacity=\"1\" /><path clip-path=\"url(#clip230)\" d=\"M29.4065 640.936 L34.9447 640.936 Q33.6716 643.418 33.035 646.092 Q32.3984 648.766 32.3984 651.63 Q32.3984 655.991 33.7352 658.187 Q35.072 660.351 37.7456 660.351 Q39.7826 660.351 40.9603 658.792 Q42.1061 657.232 43.1565 652.521 L43.6021 650.516 Q44.9389 644.278 47.3897 641.668 Q49.8086 639.026 54.1691 639.026 Q59.1344 639.026 62.0308 642.973 Q64.9272 646.888 64.9272 653.763 Q64.9272 656.627 64.3543 659.747 Q63.8132 662.834 62.6992 666.271 L56.6518 666.271 Q58.3387 663.025 59.198 659.874 Q60.0256 656.723 60.0256 653.635 Q60.0256 649.498 58.6251 647.27 Q57.1929 645.042 54.6147 645.042 Q52.2276 645.042 50.9545 646.665 Q49.6813 648.256 48.5037 653.699 L48.0262 655.736 Q46.8804 661.179 44.5251 663.598 Q42.138 666.017 38.0002 666.017 Q32.9713 666.017 30.2341 662.452 Q27.4968 658.887 27.4968 652.33 Q27.4968 649.084 27.9743 646.219 Q28.4517 643.355 29.4065 640.936 Z\" fill=\"#000000\" fill-rule=\"nonzero\" fill-opacity=\"1\" /><polyline clip-path=\"url(#clip232)\" style=\"stroke:#ff0000; stroke-linecap:round; stroke-linejoin:round; stroke-width:2; stroke-opacity:1; fill:none\" points=\"292.4,1360.44 298.479,1360.32 305.242,1360.18 312.801,1360.03 321.482,1359.86 331.704,1359.65 345.155,1359.39 361.911,1359.05 381.875,1358.65 408.435,1358.12 440.299,1357.49 477.402,1356.75 524.564,1355.81 584.629,1354.62 660.424,1353.12 750.355,1351.34 852.425,1349.32 987.046,1346.65 1137.71,1343.66 1340.5,1339.62 1514.77,1336.13 1639.12,1333.61 1734.93,1331.62 1824.58,1329.74 1910.51,1327.97 1993.53,1326.32 2075.43,1324.8 2156.35,1323.48 2245.62,1322.44 2292.75,1322.22 \"/>\n",
       "<polyline clip-path=\"url(#clip232)\" style=\"stroke:#0000ff; stroke-linecap:round; stroke-linejoin:round; stroke-width:2; stroke-opacity:1; fill:none\" points=\"292.4,86.1857 298.479,89.7733 305.242,93.7665 312.801,98.2325 321.482,103.364 331.704,109.411 345.155,117.376 361.911,127.31 381.875,139.164 408.435,154.963 440.299,173.966 477.402,196.158 524.564,224.472 584.629,260.712 660.424,306.741 750.355,361.817 852.425,424.975 987.046,509.408 1137.71,605.55 1340.5,737.9 1514.77,854.505 1639.12,940.305 1734.93,1009.08 1824.58,1075.49 1910.51,1140.14 1993.53,1202.32 2075.43,1261.97 2156.35,1316.87 2245.62,1365.92 2292.75,1381.94 \"/>\n",
       "<polyline clip-path=\"url(#clip232)\" style=\"stroke:#008000; stroke-linecap:round; stroke-linejoin:round; stroke-width:2; stroke-opacity:1; fill:none\" points=\"292.4,1384.24 298.479,1382.54 305.242,1380.64 312.801,1378.53 321.482,1376.09 331.704,1373.22 345.155,1369.45 361.911,1364.73 381.875,1359.11 408.435,1351.61 440.299,1342.59 477.402,1332.05 524.564,1318.59 584.629,1301.36 660.424,1279.45 750.355,1253.2 852.425,1223.05 987.046,1182.63 1137.71,1136.44 1340.5,1072.53 1514.77,1015.86 1639.12,973.793 1734.93,939.687 1824.58,906.492 1910.51,874.117 1993.53,843.035 2075.43,813.332 2156.35,786.112 2245.62,761.848 2292.75,753.891 \"/>\n",
       "<polyline clip-path=\"url(#clip232)\" style=\"stroke:#000000; stroke-linecap:round; stroke-linejoin:round; stroke-width:2; stroke-opacity:1; fill:none\" points=\"292.4,1124.63 298.479,1124.63 305.242,1124.62 312.801,1124.62 321.482,1124.62 331.704,1124.61 345.155,1124.6 361.911,1124.59 381.875,1124.58 408.435,1124.56 440.299,1124.52 477.402,1124.47 524.564,1124.4 584.629,1124.28 660.424,1124.09 750.355,1123.81 852.425,1123.42 987.046,1122.75 1137.71,1121.79 1340.5,1120.11 1514.77,1117.87 1639.12,1113.34 1734.93,1107.35 1824.58,1101.16 1910.51,1095.81 1993.53,1091.75 2075.43,1088.53 2156.35,1085.92 2245.62,1084.8 2292.75,1085.62 \"/>\n",
       "</svg>\n"
      ],
      "text/html": [
       "<?xml version=\"1.0\" encoding=\"utf-8\"?>\n",
       "<svg xmlns=\"http://www.w3.org/2000/svg\" xmlns:xlink=\"http://www.w3.org/1999/xlink\" width=\"600\" height=\"400\" viewBox=\"0 0 2400 1600\">\n",
       "<defs>\n",
       "  <clipPath id=\"clip280\">\n",
       "    <rect x=\"0\" y=\"0\" width=\"2400\" height=\"1600\"/>\n",
       "  </clipPath>\n",
       "</defs>\n",
       "<path clip-path=\"url(#clip280)\" d=\"M0 1600 L2400 1600 L2400 0 L0 0  Z\" fill=\"#ffffff\" fill-rule=\"evenodd\" fill-opacity=\"1\"/>\n",
       "<defs>\n",
       "  <clipPath id=\"clip281\">\n",
       "    <rect x=\"480\" y=\"0\" width=\"1681\" height=\"1600\"/>\n",
       "  </clipPath>\n",
       "</defs>\n",
       "<path clip-path=\"url(#clip280)\" d=\"M232.389 1423.18 L2352.76 1423.18 L2352.76 47.2441 L232.389 47.2441  Z\" fill=\"#ffffff\" fill-rule=\"evenodd\" fill-opacity=\"1\"/>\n",
       "<defs>\n",
       "  <clipPath id=\"clip282\">\n",
       "    <rect x=\"232\" y=\"47\" width=\"2121\" height=\"1377\"/>\n",
       "  </clipPath>\n",
       "</defs>\n",
       "<polyline clip-path=\"url(#clip282)\" style=\"stroke:#000000; stroke-linecap:round; stroke-linejoin:round; stroke-width:2; stroke-opacity:0.1; fill:none\" points=\"292.4,1423.18 292.4,47.2441 \"/>\n",
       "<polyline clip-path=\"url(#clip282)\" style=\"stroke:#000000; stroke-linecap:round; stroke-linejoin:round; stroke-width:2; stroke-opacity:0.1; fill:none\" points=\"898.565,1423.18 898.565,47.2441 \"/>\n",
       "<polyline clip-path=\"url(#clip282)\" style=\"stroke:#000000; stroke-linecap:round; stroke-linejoin:round; stroke-width:2; stroke-opacity:0.1; fill:none\" points=\"1504.73,1423.18 1504.73,47.2441 \"/>\n",
       "<polyline clip-path=\"url(#clip282)\" style=\"stroke:#000000; stroke-linecap:round; stroke-linejoin:round; stroke-width:2; stroke-opacity:0.1; fill:none\" points=\"2110.9,1423.18 2110.9,47.2441 \"/>\n",
       "<polyline clip-path=\"url(#clip280)\" style=\"stroke:#000000; stroke-linecap:round; stroke-linejoin:round; stroke-width:4; stroke-opacity:1; fill:none\" points=\"232.389,1423.18 2352.76,1423.18 \"/>\n",
       "<polyline clip-path=\"url(#clip280)\" style=\"stroke:#000000; stroke-linecap:round; stroke-linejoin:round; stroke-width:4; stroke-opacity:1; fill:none\" points=\"292.4,1423.18 292.4,1404.28 \"/>\n",
       "<polyline clip-path=\"url(#clip280)\" style=\"stroke:#000000; stroke-linecap:round; stroke-linejoin:round; stroke-width:4; stroke-opacity:1; fill:none\" points=\"898.565,1423.18 898.565,1404.28 \"/>\n",
       "<polyline clip-path=\"url(#clip280)\" style=\"stroke:#000000; stroke-linecap:round; stroke-linejoin:round; stroke-width:4; stroke-opacity:1; fill:none\" points=\"1504.73,1423.18 1504.73,1404.28 \"/>\n",
       "<polyline clip-path=\"url(#clip280)\" style=\"stroke:#000000; stroke-linecap:round; stroke-linejoin:round; stroke-width:4; stroke-opacity:1; fill:none\" points=\"2110.9,1423.18 2110.9,1404.28 \"/>\n",
       "<path clip-path=\"url(#clip280)\" d=\"M292.4 1454.1 Q288.789 1454.1 286.96 1457.66 Q285.154 1461.2 285.154 1468.33 Q285.154 1475.44 286.96 1479.01 Q288.789 1482.55 292.4 1482.55 Q296.034 1482.55 297.84 1479.01 Q299.668 1475.44 299.668 1468.33 Q299.668 1461.2 297.84 1457.66 Q296.034 1454.1 292.4 1454.1 M292.4 1450.39 Q298.21 1450.39 301.265 1455 Q304.344 1459.58 304.344 1468.33 Q304.344 1477.06 301.265 1481.67 Q298.21 1486.25 292.4 1486.25 Q286.59 1486.25 283.511 1481.67 Q280.455 1477.06 280.455 1468.33 Q280.455 1459.58 283.511 1455 Q286.59 1450.39 292.4 1450.39 Z\" fill=\"#000000\" fill-rule=\"nonzero\" fill-opacity=\"1\" /><path clip-path=\"url(#clip280)\" d=\"M873.253 1481.64 L880.892 1481.64 L880.892 1455.28 L872.581 1456.95 L872.581 1452.69 L880.845 1451.02 L885.521 1451.02 L885.521 1481.64 L893.16 1481.64 L893.16 1485.58 L873.253 1485.58 L873.253 1481.64 Z\" fill=\"#000000\" fill-rule=\"nonzero\" fill-opacity=\"1\" /><path clip-path=\"url(#clip280)\" d=\"M912.604 1454.1 Q908.993 1454.1 907.165 1457.66 Q905.359 1461.2 905.359 1468.33 Q905.359 1475.44 907.165 1479.01 Q908.993 1482.55 912.604 1482.55 Q916.239 1482.55 918.044 1479.01 Q919.873 1475.44 919.873 1468.33 Q919.873 1461.2 918.044 1457.66 Q916.239 1454.1 912.604 1454.1 M912.604 1450.39 Q918.415 1450.39 921.47 1455 Q924.549 1459.58 924.549 1468.33 Q924.549 1477.06 921.47 1481.67 Q918.415 1486.25 912.604 1486.25 Q906.794 1486.25 903.716 1481.67 Q900.66 1477.06 900.66 1468.33 Q900.66 1459.58 903.716 1455 Q906.794 1450.39 912.604 1450.39 Z\" fill=\"#000000\" fill-rule=\"nonzero\" fill-opacity=\"1\" /><path clip-path=\"url(#clip280)\" d=\"M1483.5 1481.64 L1499.82 1481.64 L1499.82 1485.58 L1477.88 1485.58 L1477.88 1481.64 Q1480.54 1478.89 1485.12 1474.26 Q1489.73 1469.61 1490.91 1468.27 Q1493.16 1465.74 1494.04 1464.01 Q1494.94 1462.25 1494.94 1460.56 Q1494.94 1457.8 1492.99 1456.07 Q1491.07 1454.33 1487.97 1454.33 Q1485.77 1454.33 1483.32 1455.09 Q1480.89 1455.86 1478.11 1457.41 L1478.11 1452.69 Q1480.93 1451.55 1483.39 1450.97 Q1485.84 1450.39 1487.88 1450.39 Q1493.25 1450.39 1496.44 1453.08 Q1499.64 1455.77 1499.64 1460.26 Q1499.64 1462.39 1498.83 1464.31 Q1498.04 1466.2 1495.93 1468.8 Q1495.36 1469.47 1492.25 1472.69 Q1489.15 1475.88 1483.5 1481.64 Z\" fill=\"#000000\" fill-rule=\"nonzero\" fill-opacity=\"1\" /><path clip-path=\"url(#clip280)\" d=\"M1519.64 1454.1 Q1516.03 1454.1 1514.2 1457.66 Q1512.39 1461.2 1512.39 1468.33 Q1512.39 1475.44 1514.2 1479.01 Q1516.03 1482.55 1519.64 1482.55 Q1523.27 1482.55 1525.08 1479.01 Q1526.91 1475.44 1526.91 1468.33 Q1526.91 1461.2 1525.08 1457.66 Q1523.27 1454.1 1519.64 1454.1 M1519.64 1450.39 Q1525.45 1450.39 1528.5 1455 Q1531.58 1459.58 1531.58 1468.33 Q1531.58 1477.06 1528.5 1481.67 Q1525.45 1486.25 1519.64 1486.25 Q1513.83 1486.25 1510.75 1481.67 Q1507.69 1477.06 1507.69 1468.33 Q1507.69 1459.58 1510.75 1455 Q1513.83 1450.39 1519.64 1450.39 Z\" fill=\"#000000\" fill-rule=\"nonzero\" fill-opacity=\"1\" /><path clip-path=\"url(#clip280)\" d=\"M2099.74 1466.95 Q2103.1 1467.66 2104.97 1469.93 Q2106.87 1472.2 2106.87 1475.53 Q2106.87 1480.65 2103.35 1483.45 Q2099.83 1486.25 2093.35 1486.25 Q2091.17 1486.25 2088.86 1485.81 Q2086.57 1485.39 2084.11 1484.54 L2084.11 1480.02 Q2086.06 1481.16 2088.37 1481.74 Q2090.69 1482.32 2093.21 1482.32 Q2097.61 1482.32 2099.9 1480.58 Q2102.22 1478.84 2102.22 1475.53 Q2102.22 1472.48 2100.06 1470.77 Q2097.93 1469.03 2094.11 1469.03 L2090.09 1469.03 L2090.09 1465.19 L2094.3 1465.19 Q2097.75 1465.19 2099.58 1463.82 Q2101.41 1462.43 2101.41 1459.84 Q2101.41 1457.18 2099.51 1455.77 Q2097.63 1454.33 2094.11 1454.33 Q2092.19 1454.33 2089.99 1454.75 Q2087.79 1455.16 2085.16 1456.04 L2085.16 1451.88 Q2087.82 1451.14 2090.13 1450.77 Q2092.47 1450.39 2094.53 1450.39 Q2099.85 1450.39 2102.96 1452.83 Q2106.06 1455.23 2106.06 1459.35 Q2106.06 1462.22 2104.41 1464.21 Q2102.77 1466.18 2099.74 1466.95 Z\" fill=\"#000000\" fill-rule=\"nonzero\" fill-opacity=\"1\" /><path clip-path=\"url(#clip280)\" d=\"M2125.73 1454.1 Q2122.12 1454.1 2120.29 1457.66 Q2118.49 1461.2 2118.49 1468.33 Q2118.49 1475.44 2120.29 1479.01 Q2122.12 1482.55 2125.73 1482.55 Q2129.37 1482.55 2131.17 1479.01 Q2133 1475.44 2133 1468.33 Q2133 1461.2 2131.17 1457.66 Q2129.37 1454.1 2125.73 1454.1 M2125.73 1450.39 Q2131.54 1450.39 2134.6 1455 Q2137.68 1459.58 2137.68 1468.33 Q2137.68 1477.06 2134.6 1481.67 Q2131.54 1486.25 2125.73 1486.25 Q2119.92 1486.25 2116.84 1481.67 Q2113.79 1477.06 2113.79 1468.33 Q2113.79 1459.58 2116.84 1455 Q2119.92 1450.39 2125.73 1450.39 Z\" fill=\"#000000\" fill-rule=\"nonzero\" fill-opacity=\"1\" /><path clip-path=\"url(#clip280)\" d=\"M1231.73 1522.27 L1231.73 1532.4 L1243.8 1532.4 L1243.8 1536.95 L1231.73 1536.95 L1231.73 1556.3 Q1231.73 1560.66 1232.91 1561.9 Q1234.12 1563.14 1237.78 1563.14 L1243.8 1563.14 L1243.8 1568.04 L1237.78 1568.04 Q1231 1568.04 1228.42 1565.53 Q1225.84 1562.98 1225.84 1556.3 L1225.84 1536.95 L1221.55 1536.95 L1221.55 1532.4 L1225.84 1532.4 L1225.84 1522.27 L1231.73 1522.27 Z\" fill=\"#000000\" fill-rule=\"nonzero\" fill-opacity=\"1\" /><path clip-path=\"url(#clip280)\" d=\"M1251.5 1532.4 L1257.35 1532.4 L1257.35 1568.04 L1251.5 1568.04 L1251.5 1532.4 M1251.5 1518.52 L1257.35 1518.52 L1257.35 1525.93 L1251.5 1525.93 L1251.5 1518.52 Z\" fill=\"#000000\" fill-rule=\"nonzero\" fill-opacity=\"1\" /><path clip-path=\"url(#clip280)\" d=\"M1297.36 1539.24 Q1299.56 1535.29 1302.61 1533.41 Q1305.67 1531.54 1309.81 1531.54 Q1315.38 1531.54 1318.4 1535.45 Q1321.43 1539.33 1321.43 1546.53 L1321.43 1568.04 L1315.54 1568.04 L1315.54 1546.72 Q1315.54 1541.59 1313.72 1539.11 Q1311.91 1536.63 1308.18 1536.63 Q1303.63 1536.63 1300.99 1539.65 Q1298.35 1542.68 1298.35 1547.9 L1298.35 1568.04 L1292.46 1568.04 L1292.46 1546.72 Q1292.46 1541.56 1290.65 1539.11 Q1288.83 1536.63 1285.05 1536.63 Q1280.56 1536.63 1277.92 1539.68 Q1275.27 1542.71 1275.27 1547.9 L1275.27 1568.04 L1269.39 1568.04 L1269.39 1532.4 L1275.27 1532.4 L1275.27 1537.93 Q1277.28 1534.66 1280.08 1533.1 Q1282.88 1531.54 1286.73 1531.54 Q1290.62 1531.54 1293.32 1533.51 Q1296.06 1535.48 1297.36 1539.24 Z\" fill=\"#000000\" fill-rule=\"nonzero\" fill-opacity=\"1\" /><path clip-path=\"url(#clip280)\" d=\"M1363.6 1548.76 L1363.6 1551.62 L1336.67 1551.62 Q1337.05 1557.67 1340.3 1560.85 Q1343.58 1564 1349.4 1564 Q1352.78 1564 1355.93 1563.17 Q1359.11 1562.35 1362.23 1560.69 L1362.23 1566.23 Q1359.08 1567.57 1355.77 1568.27 Q1352.46 1568.97 1349.05 1568.97 Q1340.52 1568.97 1335.53 1564 Q1330.56 1559.04 1330.56 1550.57 Q1330.56 1541.82 1335.27 1536.69 Q1340.01 1531.54 1348.03 1531.54 Q1355.23 1531.54 1359.4 1536.18 Q1363.6 1540.8 1363.6 1548.76 M1357.74 1547.04 Q1357.68 1542.23 1355.04 1539.37 Q1352.43 1536.5 1348.1 1536.5 Q1343.2 1536.5 1340.24 1539.27 Q1337.31 1542.04 1336.86 1547.07 L1357.74 1547.04 Z\" fill=\"#000000\" fill-rule=\"nonzero\" fill-opacity=\"1\" /><polyline clip-path=\"url(#clip282)\" style=\"stroke:#000000; stroke-linecap:round; stroke-linejoin:round; stroke-width:2; stroke-opacity:0.1; fill:none\" points=\"232.389,1384.24 2352.76,1384.24 \"/>\n",
       "<polyline clip-path=\"url(#clip282)\" style=\"stroke:#000000; stroke-linecap:round; stroke-linejoin:round; stroke-width:2; stroke-opacity:0.1; fill:none\" points=\"232.389,951.554 2352.76,951.554 \"/>\n",
       "<polyline clip-path=\"url(#clip282)\" style=\"stroke:#000000; stroke-linecap:round; stroke-linejoin:round; stroke-width:2; stroke-opacity:0.1; fill:none\" points=\"232.389,518.87 2352.76,518.87 \"/>\n",
       "<polyline clip-path=\"url(#clip282)\" style=\"stroke:#000000; stroke-linecap:round; stroke-linejoin:round; stroke-width:2; stroke-opacity:0.1; fill:none\" points=\"232.389,86.1857 2352.76,86.1857 \"/>\n",
       "<polyline clip-path=\"url(#clip280)\" style=\"stroke:#000000; stroke-linecap:round; stroke-linejoin:round; stroke-width:4; stroke-opacity:1; fill:none\" points=\"232.389,1423.18 232.389,47.2441 \"/>\n",
       "<polyline clip-path=\"url(#clip280)\" style=\"stroke:#000000; stroke-linecap:round; stroke-linejoin:round; stroke-width:4; stroke-opacity:1; fill:none\" points=\"232.389,1384.24 251.287,1384.24 \"/>\n",
       "<polyline clip-path=\"url(#clip280)\" style=\"stroke:#000000; stroke-linecap:round; stroke-linejoin:round; stroke-width:4; stroke-opacity:1; fill:none\" points=\"232.389,951.554 251.287,951.554 \"/>\n",
       "<polyline clip-path=\"url(#clip280)\" style=\"stroke:#000000; stroke-linecap:round; stroke-linejoin:round; stroke-width:4; stroke-opacity:1; fill:none\" points=\"232.389,518.87 251.287,518.87 \"/>\n",
       "<polyline clip-path=\"url(#clip280)\" style=\"stroke:#000000; stroke-linecap:round; stroke-linejoin:round; stroke-width:4; stroke-opacity:1; fill:none\" points=\"232.389,86.1857 251.287,86.1857 \"/>\n",
       "<path clip-path=\"url(#clip280)\" d=\"M184.445 1370.04 Q180.834 1370.04 179.005 1373.6 Q177.2 1377.14 177.2 1384.27 Q177.2 1391.38 179.005 1394.94 Q180.834 1398.49 184.445 1398.49 Q188.079 1398.49 189.885 1394.94 Q191.713 1391.38 191.713 1384.27 Q191.713 1377.14 189.885 1373.6 Q188.079 1370.04 184.445 1370.04 M184.445 1366.33 Q190.255 1366.33 193.311 1370.94 Q196.389 1375.52 196.389 1384.27 Q196.389 1393 193.311 1397.61 Q190.255 1402.19 184.445 1402.19 Q178.635 1402.19 175.556 1397.61 Q172.501 1393 172.501 1384.27 Q172.501 1375.52 175.556 1370.94 Q178.635 1366.33 184.445 1366.33 Z\" fill=\"#000000\" fill-rule=\"nonzero\" fill-opacity=\"1\" /><path clip-path=\"url(#clip280)\" d=\"M144.329 934.274 L162.686 934.274 L162.686 938.209 L148.612 938.209 L148.612 946.681 Q149.63 946.334 150.649 946.172 Q151.667 945.987 152.686 945.987 Q158.473 945.987 161.852 949.158 Q165.232 952.33 165.232 957.746 Q165.232 963.325 161.76 966.427 Q158.288 969.505 151.968 969.505 Q149.792 969.505 147.524 969.135 Q145.279 968.765 142.871 968.024 L142.871 963.325 Q144.954 964.459 147.177 965.015 Q149.399 965.57 151.876 965.57 Q155.88 965.57 158.218 963.464 Q160.556 961.357 160.556 957.746 Q160.556 954.135 158.218 952.029 Q155.88 949.922 151.876 949.922 Q150.001 949.922 148.126 950.339 Q146.274 950.755 144.329 951.635 L144.329 934.274 Z\" fill=\"#000000\" fill-rule=\"nonzero\" fill-opacity=\"1\" /><path clip-path=\"url(#clip280)\" d=\"M184.445 937.353 Q180.834 937.353 179.005 940.918 Q177.2 944.459 177.2 951.589 Q177.2 958.695 179.005 962.26 Q180.834 965.802 184.445 965.802 Q188.079 965.802 189.885 962.26 Q191.713 958.695 191.713 951.589 Q191.713 944.459 189.885 940.918 Q188.079 937.353 184.445 937.353 M184.445 933.649 Q190.255 933.649 193.311 938.256 Q196.389 942.839 196.389 951.589 Q196.389 960.316 193.311 964.922 Q190.255 969.505 184.445 969.505 Q178.635 969.505 175.556 964.922 Q172.501 960.316 172.501 951.589 Q172.501 942.839 175.556 938.256 Q178.635 933.649 184.445 933.649 Z\" fill=\"#000000\" fill-rule=\"nonzero\" fill-opacity=\"1\" /><path clip-path=\"url(#clip280)\" d=\"M114.931 532.215 L122.57 532.215 L122.57 505.849 L114.26 507.516 L114.26 503.257 L122.524 501.59 L127.2 501.59 L127.2 532.215 L134.839 532.215 L134.839 536.15 L114.931 536.15 L114.931 532.215 Z\" fill=\"#000000\" fill-rule=\"nonzero\" fill-opacity=\"1\" /><path clip-path=\"url(#clip280)\" d=\"M154.283 504.669 Q150.672 504.669 148.843 508.233 Q147.038 511.775 147.038 518.905 Q147.038 526.011 148.843 529.576 Q150.672 533.117 154.283 533.117 Q157.917 533.117 159.723 529.576 Q161.552 526.011 161.552 518.905 Q161.552 511.775 159.723 508.233 Q157.917 504.669 154.283 504.669 M154.283 500.965 Q160.093 500.965 163.149 505.571 Q166.227 510.155 166.227 518.905 Q166.227 527.631 163.149 532.238 Q160.093 536.821 154.283 536.821 Q148.473 536.821 145.394 532.238 Q142.339 527.631 142.339 518.905 Q142.339 510.155 145.394 505.571 Q148.473 500.965 154.283 500.965 Z\" fill=\"#000000\" fill-rule=\"nonzero\" fill-opacity=\"1\" /><path clip-path=\"url(#clip280)\" d=\"M184.445 504.669 Q180.834 504.669 179.005 508.233 Q177.2 511.775 177.2 518.905 Q177.2 526.011 179.005 529.576 Q180.834 533.117 184.445 533.117 Q188.079 533.117 189.885 529.576 Q191.713 526.011 191.713 518.905 Q191.713 511.775 189.885 508.233 Q188.079 504.669 184.445 504.669 M184.445 500.965 Q190.255 500.965 193.311 505.571 Q196.389 510.155 196.389 518.905 Q196.389 527.631 193.311 532.238 Q190.255 536.821 184.445 536.821 Q178.635 536.821 175.556 532.238 Q172.501 527.631 172.501 518.905 Q172.501 510.155 175.556 505.571 Q178.635 500.965 184.445 500.965 Z\" fill=\"#000000\" fill-rule=\"nonzero\" fill-opacity=\"1\" /><path clip-path=\"url(#clip280)\" d=\"M114.931 99.5305 L122.57 99.5305 L122.57 73.1649 L114.26 74.8316 L114.26 70.5723 L122.524 68.9057 L127.2 68.9057 L127.2 99.5305 L134.839 99.5305 L134.839 103.466 L114.931 103.466 L114.931 99.5305 Z\" fill=\"#000000\" fill-rule=\"nonzero\" fill-opacity=\"1\" /><path clip-path=\"url(#clip280)\" d=\"M144.329 68.9057 L162.686 68.9057 L162.686 72.8408 L148.612 72.8408 L148.612 81.313 Q149.63 80.9658 150.649 80.8038 Q151.667 80.6186 152.686 80.6186 Q158.473 80.6186 161.852 83.7899 Q165.232 86.9611 165.232 92.3778 Q165.232 97.9564 161.76 101.058 Q158.288 104.137 151.968 104.137 Q149.792 104.137 147.524 103.767 Q145.279 103.396 142.871 102.655 L142.871 97.9564 Q144.954 99.0907 147.177 99.6462 Q149.399 100.202 151.876 100.202 Q155.88 100.202 158.218 98.0953 Q160.556 95.9889 160.556 92.3778 Q160.556 88.7667 158.218 86.6602 Q155.88 84.5537 151.876 84.5537 Q150.001 84.5537 148.126 84.9704 Q146.274 85.3871 144.329 86.2667 L144.329 68.9057 Z\" fill=\"#000000\" fill-rule=\"nonzero\" fill-opacity=\"1\" /><path clip-path=\"url(#clip280)\" d=\"M184.445 71.9844 Q180.834 71.9844 179.005 75.5492 Q177.2 79.0908 177.2 86.2204 Q177.2 93.3268 179.005 96.8916 Q180.834 100.433 184.445 100.433 Q188.079 100.433 189.885 96.8916 Q191.713 93.3268 191.713 86.2204 Q191.713 79.0908 189.885 75.5492 Q188.079 71.9844 184.445 71.9844 M184.445 68.2807 Q190.255 68.2807 193.311 72.8871 Q196.389 77.4704 196.389 86.2204 Q196.389 94.9472 193.311 99.5537 Q190.255 104.137 184.445 104.137 Q178.635 104.137 175.556 99.5537 Q172.501 94.9472 172.501 86.2204 Q172.501 77.4704 175.556 72.8871 Q178.635 68.2807 184.445 68.2807 Z\" fill=\"#000000\" fill-rule=\"nonzero\" fill-opacity=\"1\" /><path clip-path=\"url(#clip280)\" d=\"M29.4065 806.062 L34.9447 806.062 Q33.6716 808.545 33.035 811.219 Q32.3984 813.892 32.3984 816.757 Q32.3984 821.117 33.7352 823.313 Q35.072 825.478 37.7456 825.478 Q39.7826 825.478 40.9603 823.918 Q42.1061 822.358 43.1565 817.648 L43.6021 815.643 Q44.9389 809.404 47.3897 806.794 Q49.8086 804.153 54.1691 804.153 Q59.1344 804.153 62.0308 808.099 Q64.9272 812.014 64.9272 818.889 Q64.9272 821.754 64.3543 824.873 Q63.8132 827.96 62.6992 831.398 L56.6518 831.398 Q58.3387 828.151 59.198 825 Q60.0256 821.849 60.0256 818.762 Q60.0256 814.624 58.6251 812.396 Q57.1929 810.168 54.6147 810.168 Q52.2276 810.168 50.9545 811.791 Q49.6813 813.383 48.5037 818.826 L48.0262 820.863 Q46.8804 826.305 44.5251 828.724 Q42.138 831.143 38.0002 831.143 Q32.9713 831.143 30.2341 827.578 Q27.4968 824.014 27.4968 817.457 Q27.4968 814.21 27.9743 811.346 Q28.4517 808.481 29.4065 806.062 Z\" fill=\"#000000\" fill-rule=\"nonzero\" fill-opacity=\"1\" /><path clip-path=\"url(#clip280)\" d=\"M18.2347 789.034 L28.3562 789.034 L28.3562 776.971 L32.9077 776.971 L32.9077 789.034 L52.2594 789.034 Q56.6199 789.034 57.8613 787.856 Q59.1026 786.647 59.1026 782.987 L59.1026 776.971 L64.0042 776.971 L64.0042 782.987 Q64.0042 789.766 61.4897 792.344 Q58.9434 794.922 52.2594 794.922 L32.9077 794.922 L32.9077 799.219 L28.3562 799.219 L28.3562 794.922 L18.2347 794.922 L18.2347 789.034 Z\" fill=\"#000000\" fill-rule=\"nonzero\" fill-opacity=\"1\" /><path clip-path=\"url(#clip280)\" d=\"M46.0847 753.068 Q46.0847 760.166 47.7079 762.903 Q49.3312 765.64 53.2461 765.64 Q56.3653 765.64 58.2114 763.603 Q60.0256 761.534 60.0256 758.001 Q60.0256 753.131 56.5881 750.203 Q53.1188 747.243 47.3897 747.243 L46.0847 747.243 L46.0847 753.068 M43.6657 741.387 L64.0042 741.387 L64.0042 747.243 L58.5933 747.243 Q61.8398 749.248 63.3994 752.24 Q64.9272 755.232 64.9272 759.561 Q64.9272 765.035 61.8716 768.282 Q58.7843 771.496 53.6281 771.496 Q47.6125 771.496 44.5569 767.486 Q41.5014 763.444 41.5014 755.455 L41.5014 747.243 L40.9285 747.243 Q36.8862 747.243 34.6901 749.917 Q32.4621 752.559 32.4621 757.365 Q32.4621 760.42 33.1941 763.317 Q33.9262 766.213 35.3903 768.887 L29.9795 768.887 Q28.7381 765.672 28.1334 762.648 Q27.4968 759.624 27.4968 756.76 Q27.4968 749.026 31.5072 745.206 Q35.5176 741.387 43.6657 741.387 Z\" fill=\"#000000\" fill-rule=\"nonzero\" fill-opacity=\"1\" /><path clip-path=\"url(#clip280)\" d=\"M18.2347 723.531 L28.3562 723.531 L28.3562 711.468 L32.9077 711.468 L32.9077 723.531 L52.2594 723.531 Q56.6199 723.531 57.8613 722.353 Q59.1026 721.144 59.1026 717.483 L59.1026 711.468 L64.0042 711.468 L64.0042 717.483 Q64.0042 724.263 61.4897 726.841 Q58.9434 729.419 52.2594 729.419 L32.9077 729.419 L32.9077 733.716 L28.3562 733.716 L28.3562 729.419 L18.2347 729.419 L18.2347 723.531 Z\" fill=\"#000000\" fill-rule=\"nonzero\" fill-opacity=\"1\" /><path clip-path=\"url(#clip280)\" d=\"M44.7161 673.274 L47.5806 673.274 L47.5806 700.201 Q53.6281 699.819 56.8109 696.572 Q59.9619 693.294 59.9619 687.469 Q59.9619 684.095 59.1344 680.944 Q58.3069 677.761 56.6518 674.642 L62.1899 674.642 Q63.5267 677.793 64.227 681.103 Q64.9272 684.414 64.9272 687.819 Q64.9272 696.349 59.9619 701.346 Q54.9967 706.312 46.5303 706.312 Q37.7774 706.312 32.6531 701.601 Q27.4968 696.859 27.4968 688.838 Q27.4968 681.645 32.1438 677.475 Q36.7589 673.274 44.7161 673.274 M42.9973 679.13 Q38.1912 679.194 35.3266 681.836 Q32.4621 684.445 32.4621 688.774 Q32.4621 693.676 35.2312 696.636 Q38.0002 699.564 43.0292 700.01 L42.9973 679.13 Z\" fill=\"#000000\" fill-rule=\"nonzero\" fill-opacity=\"1\" /><path clip-path=\"url(#clip280)\" d=\"M29.4065 640.936 L34.9447 640.936 Q33.6716 643.418 33.035 646.092 Q32.3984 648.766 32.3984 651.63 Q32.3984 655.991 33.7352 658.187 Q35.072 660.351 37.7456 660.351 Q39.7826 660.351 40.9603 658.792 Q42.1061 657.232 43.1565 652.521 L43.6021 650.516 Q44.9389 644.278 47.3897 641.668 Q49.8086 639.026 54.1691 639.026 Q59.1344 639.026 62.0308 642.973 Q64.9272 646.888 64.9272 653.763 Q64.9272 656.627 64.3543 659.747 Q63.8132 662.834 62.6992 666.271 L56.6518 666.271 Q58.3387 663.025 59.198 659.874 Q60.0256 656.723 60.0256 653.635 Q60.0256 649.498 58.6251 647.27 Q57.1929 645.042 54.6147 645.042 Q52.2276 645.042 50.9545 646.665 Q49.6813 648.256 48.5037 653.699 L48.0262 655.736 Q46.8804 661.179 44.5251 663.598 Q42.138 666.017 38.0002 666.017 Q32.9713 666.017 30.2341 662.452 Q27.4968 658.887 27.4968 652.33 Q27.4968 649.084 27.9743 646.219 Q28.4517 643.355 29.4065 640.936 Z\" fill=\"#000000\" fill-rule=\"nonzero\" fill-opacity=\"1\" /><polyline clip-path=\"url(#clip282)\" style=\"stroke:#ff0000; stroke-linecap:round; stroke-linejoin:round; stroke-width:2; stroke-opacity:1; fill:none\" points=\"292.4,1360.44 298.479,1360.32 305.242,1360.18 312.801,1360.03 321.482,1359.86 331.704,1359.65 345.155,1359.39 361.911,1359.05 381.875,1358.65 408.435,1358.12 440.299,1357.49 477.402,1356.75 524.564,1355.81 584.629,1354.62 660.424,1353.12 750.355,1351.34 852.425,1349.32 987.046,1346.65 1137.71,1343.66 1340.5,1339.62 1514.77,1336.13 1639.12,1333.61 1734.93,1331.62 1824.58,1329.74 1910.51,1327.97 1993.53,1326.32 2075.43,1324.8 2156.35,1323.48 2245.62,1322.44 2292.75,1322.22 \"/>\n",
       "<polyline clip-path=\"url(#clip282)\" style=\"stroke:#0000ff; stroke-linecap:round; stroke-linejoin:round; stroke-width:2; stroke-opacity:1; fill:none\" points=\"292.4,86.1857 298.479,89.7733 305.242,93.7665 312.801,98.2325 321.482,103.364 331.704,109.411 345.155,117.376 361.911,127.31 381.875,139.164 408.435,154.963 440.299,173.966 477.402,196.158 524.564,224.472 584.629,260.712 660.424,306.741 750.355,361.817 852.425,424.975 987.046,509.408 1137.71,605.55 1340.5,737.9 1514.77,854.505 1639.12,940.305 1734.93,1009.08 1824.58,1075.49 1910.51,1140.14 1993.53,1202.32 2075.43,1261.97 2156.35,1316.87 2245.62,1365.92 2292.75,1381.94 \"/>\n",
       "<polyline clip-path=\"url(#clip282)\" style=\"stroke:#008000; stroke-linecap:round; stroke-linejoin:round; stroke-width:2; stroke-opacity:1; fill:none\" points=\"292.4,1384.24 298.479,1382.54 305.242,1380.64 312.801,1378.53 321.482,1376.09 331.704,1373.22 345.155,1369.45 361.911,1364.73 381.875,1359.11 408.435,1351.61 440.299,1342.59 477.402,1332.05 524.564,1318.59 584.629,1301.36 660.424,1279.45 750.355,1253.2 852.425,1223.05 987.046,1182.63 1137.71,1136.44 1340.5,1072.53 1514.77,1015.86 1639.12,973.793 1734.93,939.687 1824.58,906.492 1910.51,874.117 1993.53,843.035 2075.43,813.332 2156.35,786.112 2245.62,761.848 2292.75,753.891 \"/>\n",
       "<polyline clip-path=\"url(#clip282)\" style=\"stroke:#000000; stroke-linecap:round; stroke-linejoin:round; stroke-width:2; stroke-opacity:1; fill:none\" points=\"292.4,1124.63 298.479,1124.63 305.242,1124.62 312.801,1124.62 321.482,1124.62 331.704,1124.61 345.155,1124.6 361.911,1124.59 381.875,1124.58 408.435,1124.56 440.299,1124.52 477.402,1124.47 524.564,1124.4 584.629,1124.28 660.424,1124.09 750.355,1123.81 852.425,1123.42 987.046,1122.75 1137.71,1121.79 1340.5,1120.11 1514.77,1117.87 1639.12,1113.34 1734.93,1107.35 1824.58,1101.16 1910.51,1095.81 1993.53,1091.75 2075.43,1088.53 2156.35,1085.92 2245.62,1084.8 2292.75,1085.62 \"/>\n",
       "</svg>\n"
      ]
     },
     "execution_count": 61,
     "metadata": {},
     "output_type": "execute_result"
    }
   ],
   "source": [
    "function plot_ensemble(sol)\n",
    "    pl = plot(legend=false, xlabel=\"time\", ylabel=\"states\")\n",
    "    plot!(pl, sol.t, [u[1] for u in sol.u], color=:red, linewidth=0.5)\n",
    "    plot!(pl, sol.t, [u[2] for u in sol.u], color=:blue, linewidth=0.5)\n",
    "    plot!(pl, sol.t, [u[3] for u in sol.u], color=:green, linewidth=0.5)\n",
    "    plot!(pl, sol.t, [u[4] for u in sol.u], color=:black, linewidth=0.5)\n",
    "    # plot!(pl, [tspan[1], tspan[2]], [30], style=:dash, color=:black, linewidth=2.5)\n",
    "    pl\n",
    "end\n",
    "\n",
    "plot_ensemble(sol)"
   ]
  },
  {
   "cell_type": "markdown",
   "metadata": {},
   "source": [
    "---\n",
    "## Define Cost Function"
   ]
  },
  {
   "cell_type": "code",
   "execution_count": 64,
   "metadata": {},
   "outputs": [
    {
     "data": {
      "text/plain": [
       "loss (generic function with 1 method)"
      ]
     },
     "execution_count": 64,
     "metadata": {},
     "output_type": "execute_result"
    }
   ],
   "source": [
    "# Setting up the training loop\n",
    "function predict(θ)\n",
    "    _prob = remake(prob_nn, p=θ)\n",
    "    sol = solve(ODEProblem(_prob), Vern7(), abstol = 1e-5, reltol = 1e-5, sensealg=BacksolveAdjoint(autojacvec=ReverseDiffVJP()))\n",
    "    A = convert(Array, sol)\n",
    "end\n",
    "\n",
    "function loss(θ)\n",
    "    State_hat = predict(θ)\n",
    "\n",
    "    # dim = (#time steps, #trajectories)\n",
    "    cs = @view (ctr(State_hat, θ, st_ctr)[1])[1, :, :]\n",
    "    X = @view State_hat[1, :, :]\n",
    "    S = @view State_hat[2, :, :]\n",
    "    P = @view State_hat[3, :, :]\n",
    "    T = @view State_hat[4, :, :]\n",
    "\n",
    "\n",
    "    # stagecost\n",
    "    sum((X .- 30.0) .^ 2 + (cs) .^ 2 / 5)/10\n",
    "end"
   ]
  },
  {
   "cell_type": "markdown",
   "metadata": {},
   "source": [
    "---\n",
    "## Optimal Control\n"
   ]
  },
  {
   "cell_type": "code",
   "execution_count": 69,
   "metadata": {},
   "outputs": [
    {
     "data": {
      "text/plain": [
       "\u001b[38;2;86;182;194mOptimizationProblem\u001b[0m. In-place: \u001b[38;2;86;182;194mtrue\u001b[0m\n",
       "u0: \u001b[0mComponentVector{Float64}(layer_1 = (weight = [-0.21750110387802124 0.2766962945461273 -0.08624516427516937 -0.20353147387504578; 0.08161100000143051 0.28101828694343567 0.2001902163028717 -0.05288867652416229; … ; 0.2756337821483612 0.12145284563302994 -0.16369090974330902 -0.11734049022197723; 0.08039423078298569 0.2347666621208191 -0.29369989037513733 -0.026415478438138962], bias = [0.0; 0.0; … ; 0.0; 0.0;;]), layer_2 = (weight = [0.2856011986732483 0.1639893651008606 … -0.17443184554576874 0.23140017688274384], bias = [0.0;;]))"
      ]
     },
     "execution_count": 69,
     "metadata": {},
     "output_type": "execute_result"
    }
   ],
   "source": [
    "# Run the training process!\n",
    "losses = Float64[]\n",
    "\n",
    "callback = function (p, l)\n",
    "    push!(losses, l)\n",
    "    if length(losses) % 50 == 0\n",
    "        sol = solve(prob_nn, Vern7(), abstol = 1e-5, reltol = 1e-5)\n",
    "        display(plot_ensemble(sol))\n",
    "        println(\"Current loss after $(length(losses)) iterations: $(losses[end])\")\n",
    "    end\n",
    "    return false\n",
    "end\n",
    "\n",
    "adtype = Optimization.AutoZygote()\n",
    "optf = Optimization.OptimizationFunction((x, p) -> loss(x), adtype)\n",
    "optprob = Optimization.OptimizationProblem(optf, ComponentVector{Float64}(p))"
   ]
  },
  {
   "cell_type": "code",
   "execution_count": 70,
   "metadata": {},
   "outputs": [
    {
     "ename": "LoadError",
     "evalue": "MethodError: no method matching ODEProblem(::ODEProblem{Vector{Float32}, Tuple{Float32, Float32}, true, ComponentVector{Float64, Vector{Float64}, Tuple{Axis{(layer_1 = ViewAxis(1:320, Axis(weight = ViewAxis(1:256, ShapedAxis((64, 4), NamedTuple())), bias = ViewAxis(257:320, ShapedAxis((64, 1), NamedTuple())))), layer_2 = ViewAxis(321:385, Axis(weight = ViewAxis(1:64, ShapedAxis((1, 64), NamedTuple())), bias = ViewAxis(65:65, ShapedAxis((1, 1), NamedTuple())))))}}}, ODEFunction{true, SciMLBase.AutoSpecialize, typeof(ethanoll!), UniformScaling{Bool}, Nothing, Nothing, Nothing, Nothing, Nothing, Nothing, Nothing, Nothing, Nothing, Nothing, Nothing, Nothing, Nothing, Nothing, typeof(SciMLBase.DEFAULT_OBSERVED), Nothing, Nothing}, Base.Pairs{Symbol, Union{}, Tuple{}, NamedTuple{(), Tuple{}}}, SciMLBase.StandardODEProblem})\n\n\u001b[0mClosest candidates are:\n\u001b[0m  ODEProblem(::Any, \u001b[91m::Any\u001b[39m, \u001b[91m::Any\u001b[39m)\n\u001b[0m\u001b[90m   @\u001b[39m \u001b[35mSciMLBase\u001b[39m \u001b[90m~/.julia/packages/SciMLBase/ynHlA/src/problems/\u001b[39m\u001b[90m\u001b[4mode_problems.jl:187\u001b[24m\u001b[39m\n\u001b[0m  ODEProblem(::Any, \u001b[91m::Any\u001b[39m, \u001b[91m::Any\u001b[39m, \u001b[91m::Any\u001b[39m; kwargs...)\n\u001b[0m\u001b[90m   @\u001b[39m \u001b[35mSciMLBase\u001b[39m \u001b[90m~/.julia/packages/SciMLBase/ynHlA/src/problems/\u001b[39m\u001b[90m\u001b[4mode_problems.jl:187\u001b[24m\u001b[39m\n\u001b[0m  ODEProblem(\u001b[91m::SciMLBase.AbstractODEFunction\u001b[39m, \u001b[91m::Any\u001b[39m, \u001b[91m::Any\u001b[39m, \u001b[91m::Any...\u001b[39m; kwargs...)\n\u001b[0m\u001b[90m   @\u001b[39m \u001b[35mSciMLBase\u001b[39m \u001b[90m~/.julia/packages/SciMLBase/ynHlA/src/problems/\u001b[39m\u001b[90m\u001b[4mode_problems.jl:183\u001b[24m\u001b[39m\n\u001b[0m  ...\n",
     "output_type": "error",
     "traceback": [
      "MethodError: no method matching ODEProblem(::ODEProblem{Vector{Float32}, Tuple{Float32, Float32}, true, ComponentVector{Float64, Vector{Float64}, Tuple{Axis{(layer_1 = ViewAxis(1:320, Axis(weight = ViewAxis(1:256, ShapedAxis((64, 4), NamedTuple())), bias = ViewAxis(257:320, ShapedAxis((64, 1), NamedTuple())))), layer_2 = ViewAxis(321:385, Axis(weight = ViewAxis(1:64, ShapedAxis((1, 64), NamedTuple())), bias = ViewAxis(65:65, ShapedAxis((1, 1), NamedTuple())))))}}}, ODEFunction{true, SciMLBase.AutoSpecialize, typeof(ethanoll!), UniformScaling{Bool}, Nothing, Nothing, Nothing, Nothing, Nothing, Nothing, Nothing, Nothing, Nothing, Nothing, Nothing, Nothing, Nothing, Nothing, typeof(SciMLBase.DEFAULT_OBSERVED), Nothing, Nothing}, Base.Pairs{Symbol, Union{}, Tuple{}, NamedTuple{(), Tuple{}}}, SciMLBase.StandardODEProblem})\n\n\u001b[0mClosest candidates are:\n\u001b[0m  ODEProblem(::Any, \u001b[91m::Any\u001b[39m, \u001b[91m::Any\u001b[39m)\n\u001b[0m\u001b[90m   @\u001b[39m \u001b[35mSciMLBase\u001b[39m \u001b[90m~/.julia/packages/SciMLBase/ynHlA/src/problems/\u001b[39m\u001b[90m\u001b[4mode_problems.jl:187\u001b[24m\u001b[39m\n\u001b[0m  ODEProblem(::Any, \u001b[91m::Any\u001b[39m, \u001b[91m::Any\u001b[39m, \u001b[91m::Any\u001b[39m; kwargs...)\n\u001b[0m\u001b[90m   @\u001b[39m \u001b[35mSciMLBase\u001b[39m \u001b[90m~/.julia/packages/SciMLBase/ynHlA/src/problems/\u001b[39m\u001b[90m\u001b[4mode_problems.jl:187\u001b[24m\u001b[39m\n\u001b[0m  ODEProblem(\u001b[91m::SciMLBase.AbstractODEFunction\u001b[39m, \u001b[91m::Any\u001b[39m, \u001b[91m::Any\u001b[39m, \u001b[91m::Any...\u001b[39m; kwargs...)\n\u001b[0m\u001b[90m   @\u001b[39m \u001b[35mSciMLBase\u001b[39m \u001b[90m~/.julia/packages/SciMLBase/ynHlA/src/problems/\u001b[39m\u001b[90m\u001b[4mode_problems.jl:183\u001b[24m\u001b[39m\n\u001b[0m  ...\n",
      "",
      "Stacktrace:",
      "  [1] rrule(::Type{ODEProblem}, args::ODEProblem{Vector{Float32}, Tuple{Float32, Float32}, true, ComponentVector{Float64, Vector{Float64}, Tuple{Axis{(layer_1 = ViewAxis(1:320, Axis(weight = ViewAxis(1:256, ShapedAxis((64, 4), NamedTuple())), bias = ViewAxis(257:320, ShapedAxis((64, 1), NamedTuple())))), layer_2 = ViewAxis(321:385, Axis(weight = ViewAxis(1:64, ShapedAxis((1, 64), NamedTuple())), bias = ViewAxis(65:65, ShapedAxis((1, 1), NamedTuple())))))}}}, ODEFunction{true, SciMLBase.AutoSpecialize, typeof(ethanoll!), UniformScaling{Bool}, Nothing, Nothing, Nothing, Nothing, Nothing, Nothing, Nothing, Nothing, Nothing, Nothing, Nothing, Nothing, Nothing, Nothing, typeof(SciMLBase.DEFAULT_OBSERVED), Nothing, Nothing}, Base.Pairs{Symbol, Union{}, Tuple{}, NamedTuple{(), Tuple{}}}, SciMLBase.StandardODEProblem}; kwargs::Base.Pairs{Symbol, Union{}, Tuple{}, NamedTuple{(), Tuple{}}})",
      "    @ SciMLBaseChainRulesCoreExt ~/.julia/packages/SciMLBase/ynHlA/ext/SciMLBaseChainRulesCoreExt.jl:85",
      "  [2] rrule(::Type{ODEProblem}, args::ODEProblem{Vector{Float32}, Tuple{Float32, Float32}, true, ComponentVector{Float64, Vector{Float64}, Tuple{Axis{(layer_1 = ViewAxis(1:320, Axis(weight = ViewAxis(1:256, ShapedAxis((64, 4), NamedTuple())), bias = ViewAxis(257:320, ShapedAxis((64, 1), NamedTuple())))), layer_2 = ViewAxis(321:385, Axis(weight = ViewAxis(1:64, ShapedAxis((1, 64), NamedTuple())), bias = ViewAxis(65:65, ShapedAxis((1, 1), NamedTuple())))))}}}, ODEFunction{true, SciMLBase.AutoSpecialize, typeof(ethanoll!), UniformScaling{Bool}, Nothing, Nothing, Nothing, Nothing, Nothing, Nothing, Nothing, Nothing, Nothing, Nothing, Nothing, Nothing, Nothing, Nothing, typeof(SciMLBase.DEFAULT_OBSERVED), Nothing, Nothing}, Base.Pairs{Symbol, Union{}, Tuple{}, NamedTuple{(), Tuple{}}}, SciMLBase.StandardODEProblem})",
      "    @ SciMLBaseChainRulesCoreExt ~/.julia/packages/SciMLBase/ynHlA/ext/SciMLBaseChainRulesCoreExt.jl:80",
      "  [3] rrule(::Zygote.ZygoteRuleConfig{Zygote.Context{false}}, ::Type, ::ODEProblem{Vector{Float32}, Tuple{Float32, Float32}, true, ComponentVector{Float64, Vector{Float64}, Tuple{Axis{(layer_1 = ViewAxis(1:320, Axis(weight = ViewAxis(1:256, ShapedAxis((64, 4), NamedTuple())), bias = ViewAxis(257:320, ShapedAxis((64, 1), NamedTuple())))), layer_2 = ViewAxis(321:385, Axis(weight = ViewAxis(1:64, ShapedAxis((1, 64), NamedTuple())), bias = ViewAxis(65:65, ShapedAxis((1, 1), NamedTuple())))))}}}, ODEFunction{true, SciMLBase.AutoSpecialize, typeof(ethanoll!), UniformScaling{Bool}, Nothing, Nothing, Nothing, Nothing, Nothing, Nothing, Nothing, Nothing, Nothing, Nothing, Nothing, Nothing, Nothing, Nothing, typeof(SciMLBase.DEFAULT_OBSERVED), Nothing, Nothing}, Base.Pairs{Symbol, Union{}, Tuple{}, NamedTuple{(), Tuple{}}}, SciMLBase.StandardODEProblem})",
      "    @ ChainRulesCore ~/.julia/packages/ChainRulesCore/7MWx2/src/rules.jl:134",
      "  [4] chain_rrule",
      "    @ ~/.julia/packages/Zygote/YYT6v/src/compiler/chainrules.jl:223 [inlined]",
      "  [5] macro expansion",
      "    @ ~/.julia/packages/Zygote/YYT6v/src/compiler/interface2.jl:101 [inlined]",
      "  [6] _pullback(ctx::Zygote.Context{false}, f::Type{ODEProblem}, args::ODEProblem{Vector{Float32}, Tuple{Float32, Float32}, true, ComponentVector{Float64, Vector{Float64}, Tuple{Axis{(layer_1 = ViewAxis(1:320, Axis(weight = ViewAxis(1:256, ShapedAxis((64, 4), NamedTuple())), bias = ViewAxis(257:320, ShapedAxis((64, 1), NamedTuple())))), layer_2 = ViewAxis(321:385, Axis(weight = ViewAxis(1:64, ShapedAxis((1, 64), NamedTuple())), bias = ViewAxis(65:65, ShapedAxis((1, 1), NamedTuple())))))}}}, ODEFunction{true, SciMLBase.AutoSpecialize, typeof(ethanoll!), UniformScaling{Bool}, Nothing, Nothing, Nothing, Nothing, Nothing, Nothing, Nothing, Nothing, Nothing, Nothing, Nothing, Nothing, Nothing, Nothing, typeof(SciMLBase.DEFAULT_OBSERVED), Nothing, Nothing}, Base.Pairs{Symbol, Union{}, Tuple{}, NamedTuple{(), Tuple{}}}, SciMLBase.StandardODEProblem})",
      "    @ Zygote ~/.julia/packages/Zygote/YYT6v/src/compiler/interface2.jl:101",
      "  [7] _pullback",
      "    @ ./In[64]:4 [inlined]",
      "  [8] _pullback(ctx::Zygote.Context{false}, f::typeof(predict), args::ComponentVector{Float64, Vector{Float64}, Tuple{Axis{(layer_1 = ViewAxis(1:320, Axis(weight = ViewAxis(1:256, ShapedAxis((64, 4), NamedTuple())), bias = ViewAxis(257:320, ShapedAxis((64, 1), NamedTuple())))), layer_2 = ViewAxis(321:385, Axis(weight = ViewAxis(1:64, ShapedAxis((1, 64), NamedTuple())), bias = ViewAxis(65:65, ShapedAxis((1, 1), NamedTuple())))))}}})",
      "    @ Zygote ~/.julia/packages/Zygote/YYT6v/src/compiler/interface2.jl:0",
      "  [9] _pullback",
      "    @ ./In[64]:9 [inlined]",
      " [10] _pullback(ctx::Zygote.Context{false}, f::typeof(loss), args::ComponentVector{Float64, Vector{Float64}, Tuple{Axis{(layer_1 = ViewAxis(1:320, Axis(weight = ViewAxis(1:256, ShapedAxis((64, 4), NamedTuple())), bias = ViewAxis(257:320, ShapedAxis((64, 1), NamedTuple())))), layer_2 = ViewAxis(321:385, Axis(weight = ViewAxis(1:64, ShapedAxis((1, 64), NamedTuple())), bias = ViewAxis(65:65, ShapedAxis((1, 1), NamedTuple())))))}}})",
      "    @ Zygote ~/.julia/packages/Zygote/YYT6v/src/compiler/interface2.jl:0",
      " [11] _pullback",
      "    @ ./In[69]:15 [inlined]",
      " [12] _apply",
      "    @ ./boot.jl:838 [inlined]",
      " [13] adjoint",
      "    @ ~/.julia/packages/Zygote/YYT6v/src/lib/lib.jl:203 [inlined]",
      " [14] _pullback",
      "    @ ~/.julia/packages/ZygoteRules/4nXuu/src/adjoint.jl:66 [inlined]",
      " [15] _pullback",
      "    @ ~/.julia/packages/SciMLBase/ynHlA/src/scimlfunctions.jl:3933 [inlined]",
      " [16] _pullback(::Zygote.Context{false}, ::OptimizationFunction{true, AutoZygote, var\"#83#84\", Nothing, Nothing, Nothing, Nothing, Nothing, Nothing, Nothing, Nothing, Nothing, Nothing, Nothing, typeof(SciMLBase.DEFAULT_OBSERVED_NO_TIME), Nothing, Nothing, Nothing, Nothing, Nothing, Nothing, Nothing, Nothing, Nothing}, ::ComponentVector{Float64, Vector{Float64}, Tuple{Axis{(layer_1 = ViewAxis(1:320, Axis(weight = ViewAxis(1:256, ShapedAxis((64, 4), NamedTuple())), bias = ViewAxis(257:320, ShapedAxis((64, 1), NamedTuple())))), layer_2 = ViewAxis(321:385, Axis(weight = ViewAxis(1:64, ShapedAxis((1, 64), NamedTuple())), bias = ViewAxis(65:65, ShapedAxis((1, 1), NamedTuple())))))}}}, ::SciMLBase.NullParameters)",
      "    @ Zygote ~/.julia/packages/Zygote/YYT6v/src/compiler/interface2.jl:0",
      " [17] _apply(::Function, ::Vararg{Any})",
      "    @ Core ./boot.jl:838",
      " [18] adjoint",
      "    @ ~/.julia/packages/Zygote/YYT6v/src/lib/lib.jl:203 [inlined]",
      " [19] _pullback",
      "    @ ~/.julia/packages/ZygoteRules/4nXuu/src/adjoint.jl:66 [inlined]",
      " [20] _pullback",
      "    @ ~/.julia/packages/Optimization/fPVIW/ext/OptimizationZygoteExt.jl:88 [inlined]",
      " [21] _pullback(ctx::Zygote.Context{false}, f::OptimizationZygoteExt.var\"#37#55\"{OptimizationFunction{true, AutoZygote, var\"#83#84\", Nothing, Nothing, Nothing, Nothing, Nothing, Nothing, Nothing, Nothing, Nothing, Nothing, Nothing, typeof(SciMLBase.DEFAULT_OBSERVED_NO_TIME), Nothing, Nothing, Nothing, Nothing, Nothing, Nothing, Nothing, Nothing, Nothing}, Optimization.ReInitCache{ComponentVector{Float64, Vector{Float64}, Tuple{Axis{(layer_1 = ViewAxis(1:320, Axis(weight = ViewAxis(1:256, ShapedAxis((64, 4), NamedTuple())), bias = ViewAxis(257:320, ShapedAxis((64, 1), NamedTuple())))), layer_2 = ViewAxis(321:385, Axis(weight = ViewAxis(1:64, ShapedAxis((1, 64), NamedTuple())), bias = ViewAxis(65:65, ShapedAxis((1, 1), NamedTuple())))))}}}, SciMLBase.NullParameters}}, args::ComponentVector{Float64, Vector{Float64}, Tuple{Axis{(layer_1 = ViewAxis(1:320, Axis(weight = ViewAxis(1:256, ShapedAxis((64, 4), NamedTuple())), bias = ViewAxis(257:320, ShapedAxis((64, 1), NamedTuple())))), layer_2 = ViewAxis(321:385, Axis(weight = ViewAxis(1:64, ShapedAxis((1, 64), NamedTuple())), bias = ViewAxis(65:65, ShapedAxis((1, 1), NamedTuple())))))}}})",
      "    @ Zygote ~/.julia/packages/Zygote/YYT6v/src/compiler/interface2.jl:0",
      " [22] _apply(::Function, ::Vararg{Any})",
      "    @ Core ./boot.jl:838",
      " [23] adjoint",
      "    @ ~/.julia/packages/Zygote/YYT6v/src/lib/lib.jl:203 [inlined]",
      " [24] _pullback",
      "    @ ~/.julia/packages/ZygoteRules/4nXuu/src/adjoint.jl:66 [inlined]",
      " [25] _pullback",
      "    @ ~/.julia/packages/Optimization/fPVIW/ext/OptimizationZygoteExt.jl:91 [inlined]",
      " [26] _pullback(ctx::Zygote.Context{false}, f::OptimizationZygoteExt.var\"#39#57\"{Tuple{}, OptimizationZygoteExt.var\"#37#55\"{OptimizationFunction{true, AutoZygote, var\"#83#84\", Nothing, Nothing, Nothing, Nothing, Nothing, Nothing, Nothing, Nothing, Nothing, Nothing, Nothing, typeof(SciMLBase.DEFAULT_OBSERVED_NO_TIME), Nothing, Nothing, Nothing, Nothing, Nothing, Nothing, Nothing, Nothing, Nothing}, Optimization.ReInitCache{ComponentVector{Float64, Vector{Float64}, Tuple{Axis{(layer_1 = ViewAxis(1:320, Axis(weight = ViewAxis(1:256, ShapedAxis((64, 4), NamedTuple())), bias = ViewAxis(257:320, ShapedAxis((64, 1), NamedTuple())))), layer_2 = ViewAxis(321:385, Axis(weight = ViewAxis(1:64, ShapedAxis((1, 64), NamedTuple())), bias = ViewAxis(65:65, ShapedAxis((1, 1), NamedTuple())))))}}}, SciMLBase.NullParameters}}}, args::ComponentVector{Float64, Vector{Float64}, Tuple{Axis{(layer_1 = ViewAxis(1:320, Axis(weight = ViewAxis(1:256, ShapedAxis((64, 4), NamedTuple())), bias = ViewAxis(257:320, ShapedAxis((64, 1), NamedTuple())))), layer_2 = ViewAxis(321:385, Axis(weight = ViewAxis(1:64, ShapedAxis((1, 64), NamedTuple())), bias = ViewAxis(65:65, ShapedAxis((1, 1), NamedTuple())))))}}})",
      "    @ Zygote ~/.julia/packages/Zygote/YYT6v/src/compiler/interface2.jl:0",
      " [27] pullback(f::Function, cx::Zygote.Context{false}, args::ComponentVector{Float64, Vector{Float64}, Tuple{Axis{(layer_1 = ViewAxis(1:320, Axis(weight = ViewAxis(1:256, ShapedAxis((64, 4), NamedTuple())), bias = ViewAxis(257:320, ShapedAxis((64, 1), NamedTuple())))), layer_2 = ViewAxis(321:385, Axis(weight = ViewAxis(1:64, ShapedAxis((1, 64), NamedTuple())), bias = ViewAxis(65:65, ShapedAxis((1, 1), NamedTuple())))))}}})",
      "    @ Zygote ~/.julia/packages/Zygote/YYT6v/src/compiler/interface.jl:44",
      " [28] pullback",
      "    @ ~/.julia/packages/Zygote/YYT6v/src/compiler/interface.jl:42 [inlined]",
      " [29] gradient(f::Function, args::ComponentVector{Float64, Vector{Float64}, Tuple{Axis{(layer_1 = ViewAxis(1:320, Axis(weight = ViewAxis(1:256, ShapedAxis((64, 4), NamedTuple())), bias = ViewAxis(257:320, ShapedAxis((64, 1), NamedTuple())))), layer_2 = ViewAxis(321:385, Axis(weight = ViewAxis(1:64, ShapedAxis((1, 64), NamedTuple())), bias = ViewAxis(65:65, ShapedAxis((1, 1), NamedTuple())))))}}})",
      "    @ Zygote ~/.julia/packages/Zygote/YYT6v/src/compiler/interface.jl:96",
      " [30] (::OptimizationZygoteExt.var\"#38#56\"{OptimizationZygoteExt.var\"#37#55\"{OptimizationFunction{true, AutoZygote, var\"#83#84\", Nothing, Nothing, Nothing, Nothing, Nothing, Nothing, Nothing, Nothing, Nothing, Nothing, Nothing, typeof(SciMLBase.DEFAULT_OBSERVED_NO_TIME), Nothing, Nothing, Nothing, Nothing, Nothing, Nothing, Nothing, Nothing, Nothing}, Optimization.ReInitCache{ComponentVector{Float64, Vector{Float64}, Tuple{Axis{(layer_1 = ViewAxis(1:320, Axis(weight = ViewAxis(1:256, ShapedAxis((64, 4), NamedTuple())), bias = ViewAxis(257:320, ShapedAxis((64, 1), NamedTuple())))), layer_2 = ViewAxis(321:385, Axis(weight = ViewAxis(1:64, ShapedAxis((1, 64), NamedTuple())), bias = ViewAxis(65:65, ShapedAxis((1, 1), NamedTuple())))))}}}, SciMLBase.NullParameters}}})(::ComponentVector{Float64, Vector{Float64}, Tuple{Axis{(layer_1 = ViewAxis(1:320, Axis(weight = ViewAxis(1:256, ShapedAxis((64, 4), NamedTuple())), bias = ViewAxis(257:320, ShapedAxis((64, 1), NamedTuple())))), layer_2 = ViewAxis(321:385, Axis(weight = ViewAxis(1:64, ShapedAxis((1, 64), NamedTuple())), bias = ViewAxis(65:65, ShapedAxis((1, 1), NamedTuple())))))}}}, ::ComponentVector{Float64, Vector{Float64}, Tuple{Axis{(layer_1 = ViewAxis(1:320, Axis(weight = ViewAxis(1:256, ShapedAxis((64, 4), NamedTuple())), bias = ViewAxis(257:320, ShapedAxis((64, 1), NamedTuple())))), layer_2 = ViewAxis(321:385, Axis(weight = ViewAxis(1:64, ShapedAxis((1, 64), NamedTuple())), bias = ViewAxis(65:65, ShapedAxis((1, 1), NamedTuple())))))}}})",
      "    @ OptimizationZygoteExt ~/.julia/packages/Optimization/fPVIW/ext/OptimizationZygoteExt.jl:91",
      " [31] macro expansion",
      "    @ ~/.julia/packages/OptimizationOptimisers/hZdKg/src/OptimizationOptimisers.jl:65 [inlined]",
      " [32] macro expansion",
      "    @ ~/.julia/packages/Optimization/fPVIW/src/utils.jl:41 [inlined]",
      " [33] __solve(cache::OptimizationCache{OptimizationFunction{true, AutoZygote, var\"#83#84\", OptimizationZygoteExt.var\"#38#56\"{OptimizationZygoteExt.var\"#37#55\"{OptimizationFunction{true, AutoZygote, var\"#83#84\", Nothing, Nothing, Nothing, Nothing, Nothing, Nothing, Nothing, Nothing, Nothing, Nothing, Nothing, typeof(SciMLBase.DEFAULT_OBSERVED_NO_TIME), Nothing, Nothing, Nothing, Nothing, Nothing, Nothing, Nothing, Nothing, Nothing}, Optimization.ReInitCache{ComponentVector{Float64, Vector{Float64}, Tuple{Axis{(layer_1 = ViewAxis(1:320, Axis(weight = ViewAxis(1:256, ShapedAxis((64, 4), NamedTuple())), bias = ViewAxis(257:320, ShapedAxis((64, 1), NamedTuple())))), layer_2 = ViewAxis(321:385, Axis(weight = ViewAxis(1:64, ShapedAxis((1, 64), NamedTuple())), bias = ViewAxis(65:65, ShapedAxis((1, 1), NamedTuple())))))}}}, SciMLBase.NullParameters}}}, OptimizationZygoteExt.var\"#41#59\"{OptimizationZygoteExt.var\"#37#55\"{OptimizationFunction{true, AutoZygote, var\"#83#84\", Nothing, Nothing, Nothing, Nothing, Nothing, Nothing, Nothing, Nothing, Nothing, Nothing, Nothing, typeof(SciMLBase.DEFAULT_OBSERVED_NO_TIME), Nothing, Nothing, Nothing, Nothing, Nothing, Nothing, Nothing, Nothing, Nothing}, Optimization.ReInitCache{ComponentVector{Float64, Vector{Float64}, Tuple{Axis{(layer_1 = ViewAxis(1:320, Axis(weight = ViewAxis(1:256, ShapedAxis((64, 4), NamedTuple())), bias = ViewAxis(257:320, ShapedAxis((64, 1), NamedTuple())))), layer_2 = ViewAxis(321:385, Axis(weight = ViewAxis(1:64, ShapedAxis((1, 64), NamedTuple())), bias = ViewAxis(65:65, ShapedAxis((1, 1), NamedTuple())))))}}}, SciMLBase.NullParameters}}}, OptimizationZygoteExt.var\"#45#63\", Nothing, OptimizationZygoteExt.var\"#49#67\"{OptimizationFunction{true, AutoZygote, var\"#83#84\", Nothing, Nothing, Nothing, Nothing, Nothing, Nothing, Nothing, Nothing, Nothing, Nothing, Nothing, typeof(SciMLBase.DEFAULT_OBSERVED_NO_TIME), Nothing, Nothing, Nothing, Nothing, Nothing, Nothing, Nothing, Nothing, Nothing}, Optimization.ReInitCache{ComponentVector{Float64, Vector{Float64}, Tuple{Axis{(layer_1 = ViewAxis(1:320, Axis(weight = ViewAxis(1:256, ShapedAxis((64, 4), NamedTuple())), bias = ViewAxis(257:320, ShapedAxis((64, 1), NamedTuple())))), layer_2 = ViewAxis(321:385, Axis(weight = ViewAxis(1:64, ShapedAxis((1, 64), NamedTuple())), bias = ViewAxis(65:65, ShapedAxis((1, 1), NamedTuple())))))}}}, SciMLBase.NullParameters}}, OptimizationZygoteExt.var\"#53#71\"{OptimizationFunction{true, AutoZygote, var\"#83#84\", Nothing, Nothing, Nothing, Nothing, Nothing, Nothing, Nothing, Nothing, Nothing, Nothing, Nothing, typeof(SciMLBase.DEFAULT_OBSERVED_NO_TIME), Nothing, Nothing, Nothing, Nothing, Nothing, Nothing, Nothing, Nothing, Nothing}, Optimization.ReInitCache{ComponentVector{Float64, Vector{Float64}, Tuple{Axis{(layer_1 = ViewAxis(1:320, Axis(weight = ViewAxis(1:256, ShapedAxis((64, 4), NamedTuple())), bias = ViewAxis(257:320, ShapedAxis((64, 1), NamedTuple())))), layer_2 = ViewAxis(321:385, Axis(weight = ViewAxis(1:64, ShapedAxis((1, 64), NamedTuple())), bias = ViewAxis(65:65, ShapedAxis((1, 1), NamedTuple())))))}}}, SciMLBase.NullParameters}}, Nothing, Nothing, Nothing, Nothing, Nothing, typeof(SciMLBase.DEFAULT_OBSERVED_NO_TIME), Nothing, Nothing, Nothing, Nothing, Nothing, Nothing, Nothing, Nothing, Nothing}, Optimization.ReInitCache{ComponentVector{Float64, Vector{Float64}, Tuple{Axis{(layer_1 = ViewAxis(1:320, Axis(weight = ViewAxis(1:256, ShapedAxis((64, 4), NamedTuple())), bias = ViewAxis(257:320, ShapedAxis((64, 1), NamedTuple())))), layer_2 = ViewAxis(321:385, Axis(weight = ViewAxis(1:64, ShapedAxis((1, 64), NamedTuple())), bias = ViewAxis(65:65, ShapedAxis((1, 1), NamedTuple())))))}}}, SciMLBase.NullParameters}, Nothing, Nothing, Nothing, Nothing, Nothing, Adam, Base.Iterators.Cycle{Tuple{Optimization.NullData}}, Bool, var\"#81#82\"})",
      "    @ OptimizationOptimisers ~/.julia/packages/OptimizationOptimisers/hZdKg/src/OptimizationOptimisers.jl:63",
      " [34] solve!(cache::OptimizationCache{OptimizationFunction{true, AutoZygote, var\"#83#84\", OptimizationZygoteExt.var\"#38#56\"{OptimizationZygoteExt.var\"#37#55\"{OptimizationFunction{true, AutoZygote, var\"#83#84\", Nothing, Nothing, Nothing, Nothing, Nothing, Nothing, Nothing, Nothing, Nothing, Nothing, Nothing, typeof(SciMLBase.DEFAULT_OBSERVED_NO_TIME), Nothing, Nothing, Nothing, Nothing, Nothing, Nothing, Nothing, Nothing, Nothing}, Optimization.ReInitCache{ComponentVector{Float64, Vector{Float64}, Tuple{Axis{(layer_1 = ViewAxis(1:320, Axis(weight = ViewAxis(1:256, ShapedAxis((64, 4), NamedTuple())), bias = ViewAxis(257:320, ShapedAxis((64, 1), NamedTuple())))), layer_2 = ViewAxis(321:385, Axis(weight = ViewAxis(1:64, ShapedAxis((1, 64), NamedTuple())), bias = ViewAxis(65:65, ShapedAxis((1, 1), NamedTuple())))))}}}, SciMLBase.NullParameters}}}, OptimizationZygoteExt.var\"#41#59\"{OptimizationZygoteExt.var\"#37#55\"{OptimizationFunction{true, AutoZygote, var\"#83#84\", Nothing, Nothing, Nothing, Nothing, Nothing, Nothing, Nothing, Nothing, Nothing, Nothing, Nothing, typeof(SciMLBase.DEFAULT_OBSERVED_NO_TIME), Nothing, Nothing, Nothing, Nothing, Nothing, Nothing, Nothing, Nothing, Nothing}, Optimization.ReInitCache{ComponentVector{Float64, Vector{Float64}, Tuple{Axis{(layer_1 = ViewAxis(1:320, Axis(weight = ViewAxis(1:256, ShapedAxis((64, 4), NamedTuple())), bias = ViewAxis(257:320, ShapedAxis((64, 1), NamedTuple())))), layer_2 = ViewAxis(321:385, Axis(weight = ViewAxis(1:64, ShapedAxis((1, 64), NamedTuple())), bias = ViewAxis(65:65, ShapedAxis((1, 1), NamedTuple())))))}}}, SciMLBase.NullParameters}}}, OptimizationZygoteExt.var\"#45#63\", Nothing, OptimizationZygoteExt.var\"#49#67\"{OptimizationFunction{true, AutoZygote, var\"#83#84\", Nothing, Nothing, Nothing, Nothing, Nothing, Nothing, Nothing, Nothing, Nothing, Nothing, Nothing, typeof(SciMLBase.DEFAULT_OBSERVED_NO_TIME), Nothing, Nothing, Nothing, Nothing, Nothing, Nothing, Nothing, Nothing, Nothing}, Optimization.ReInitCache{ComponentVector{Float64, Vector{Float64}, Tuple{Axis{(layer_1 = ViewAxis(1:320, Axis(weight = ViewAxis(1:256, ShapedAxis((64, 4), NamedTuple())), bias = ViewAxis(257:320, ShapedAxis((64, 1), NamedTuple())))), layer_2 = ViewAxis(321:385, Axis(weight = ViewAxis(1:64, ShapedAxis((1, 64), NamedTuple())), bias = ViewAxis(65:65, ShapedAxis((1, 1), NamedTuple())))))}}}, SciMLBase.NullParameters}}, OptimizationZygoteExt.var\"#53#71\"{OptimizationFunction{true, AutoZygote, var\"#83#84\", Nothing, Nothing, Nothing, Nothing, Nothing, Nothing, Nothing, Nothing, Nothing, Nothing, Nothing, typeof(SciMLBase.DEFAULT_OBSERVED_NO_TIME), Nothing, Nothing, Nothing, Nothing, Nothing, Nothing, Nothing, Nothing, Nothing}, Optimization.ReInitCache{ComponentVector{Float64, Vector{Float64}, Tuple{Axis{(layer_1 = ViewAxis(1:320, Axis(weight = ViewAxis(1:256, ShapedAxis((64, 4), NamedTuple())), bias = ViewAxis(257:320, ShapedAxis((64, 1), NamedTuple())))), layer_2 = ViewAxis(321:385, Axis(weight = ViewAxis(1:64, ShapedAxis((1, 64), NamedTuple())), bias = ViewAxis(65:65, ShapedAxis((1, 1), NamedTuple())))))}}}, SciMLBase.NullParameters}}, Nothing, Nothing, Nothing, Nothing, Nothing, typeof(SciMLBase.DEFAULT_OBSERVED_NO_TIME), Nothing, Nothing, Nothing, Nothing, Nothing, Nothing, Nothing, Nothing, Nothing}, Optimization.ReInitCache{ComponentVector{Float64, Vector{Float64}, Tuple{Axis{(layer_1 = ViewAxis(1:320, Axis(weight = ViewAxis(1:256, ShapedAxis((64, 4), NamedTuple())), bias = ViewAxis(257:320, ShapedAxis((64, 1), NamedTuple())))), layer_2 = ViewAxis(321:385, Axis(weight = ViewAxis(1:64, ShapedAxis((1, 64), NamedTuple())), bias = ViewAxis(65:65, ShapedAxis((1, 1), NamedTuple())))))}}}, SciMLBase.NullParameters}, Nothing, Nothing, Nothing, Nothing, Nothing, Adam, Base.Iterators.Cycle{Tuple{Optimization.NullData}}, Bool, var\"#81#82\"})",
      "    @ SciMLBase ~/.julia/packages/SciMLBase/ynHlA/src/solve.jl:177",
      " [35] solve(::OptimizationProblem{true, OptimizationFunction{true, AutoZygote, var\"#83#84\", Nothing, Nothing, Nothing, Nothing, Nothing, Nothing, Nothing, Nothing, Nothing, Nothing, Nothing, typeof(SciMLBase.DEFAULT_OBSERVED_NO_TIME), Nothing, Nothing, Nothing, Nothing, Nothing, Nothing, Nothing, Nothing, Nothing}, ComponentVector{Float64, Vector{Float64}, Tuple{Axis{(layer_1 = ViewAxis(1:320, Axis(weight = ViewAxis(1:256, ShapedAxis((64, 4), NamedTuple())), bias = ViewAxis(257:320, ShapedAxis((64, 1), NamedTuple())))), layer_2 = ViewAxis(321:385, Axis(weight = ViewAxis(1:64, ShapedAxis((1, 64), NamedTuple())), bias = ViewAxis(65:65, ShapedAxis((1, 1), NamedTuple())))))}}}, SciMLBase.NullParameters, Nothing, Nothing, Nothing, Nothing, Nothing, Nothing, Base.Pairs{Symbol, Union{}, Tuple{}, NamedTuple{(), Tuple{}}}}, ::Adam; kwargs::Base.Pairs{Symbol, Any, Tuple{Symbol, Symbol}, NamedTuple{(:callback, :maxiters), Tuple{var\"#81#82\", Int64}}})",
      "    @ SciMLBase ~/.julia/packages/SciMLBase/ynHlA/src/solve.jl:94",
      " [36] top-level scope",
      "    @ In[70]:1"
     ]
    }
   ],
   "source": [
    "res = Optimization.solve(optprob, ADAM(), callback=callback, maxiters=500)\n",
    "println(\"Training loss after $(length(losses)) iterations: $(losses[end])\")\n"
   ]
  },
  {
   "cell_type": "code",
   "execution_count": null,
   "metadata": {},
   "outputs": [],
   "source": [
    "sol = solve(ODEProblem(ethanoll!, u0, tspan, res.u), Vern7(), abstol = 1e-5, reltol = 1e-5)\n",
    "\n",
    "plot_ensemble(sol)"
   ]
  }
 ],
 "metadata": {
  "kernelspec": {
   "display_name": "Julia 1.9.2",
   "language": "julia",
   "name": "julia-1.9"
  },
  "language_info": {
   "file_extension": ".jl",
   "mimetype": "application/julia",
   "name": "julia",
   "version": "1.9.2"
  }
 },
 "nbformat": 4,
 "nbformat_minor": 2
}
